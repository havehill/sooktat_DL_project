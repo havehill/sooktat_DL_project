{
  "nbformat": 4,
  "nbformat_minor": 0,
  "metadata": {
    "colab": {
      "provenance": []
    },
    "kernelspec": {
      "name": "python3",
      "display_name": "Python 3"
    },
    "language_info": {
      "name": "python"
    }
  },
  "cells": [
    {
      "cell_type": "markdown",
      "source": [
        "# **4_Modeling**"
      ],
      "metadata": {
        "id": "PnCiiJD1AdVI"
      }
    },
    {
      "cell_type": "code",
      "execution_count": null,
      "metadata": {
        "id": "nyZF9DbcADHb"
      },
      "outputs": [],
      "source": [
        "%%bash\n",
        "apt-get update\n",
        "apt-get install g++ openjdk-8-jdk python-dev python3-dev\n",
        "pip3 install JPype1\n",
        "pip3 install konlpy"
      ]
    },
    {
      "cell_type": "code",
      "source": [
        "%env JAVA_HOME \"/usr/lib/jvm/java-8-openjdk-amd64\""
      ],
      "metadata": {
        "colab": {
          "base_uri": "https://localhost:8080/"
        },
        "id": "Rgp-XLbnNTp-",
        "outputId": "53fd459d-303d-4688-daab-72dd536142e6"
      },
      "execution_count": 113,
      "outputs": [
        {
          "output_type": "stream",
          "name": "stdout",
          "text": [
            "env: JAVA_HOME=\"/usr/lib/jvm/java-8-openjdk-amd64\"\n"
          ]
        }
      ]
    },
    {
      "cell_type": "code",
      "source": [
        "%%bash\n",
        "bash <(curl -s https://raw.githubusercontent.com/konlpy/konlpy/master/scripts/mecab.sh)\n",
        "pip3 install /tmp/mecab-python-0.996"
      ],
      "metadata": {
        "id": "0Yd9Aa3tNmUL"
      },
      "execution_count": null,
      "outputs": []
    },
    {
      "cell_type": "code",
      "source": [
        "import konlpy\n",
        "from konlpy.tag import Kkma, Komoran, Hannanum, Okt\n",
        "from konlpy.utils import pprint\n",
        "from konlpy.tag import Mecab"
      ],
      "metadata": {
        "id": "5Y992OqgNoDP"
      },
      "execution_count": null,
      "outputs": []
    },
    {
      "cell_type": "code",
      "source": [
        "m = Mecab()"
      ],
      "metadata": {
        "id": "r1N6c0w2Npaf"
      },
      "execution_count": null,
      "outputs": []
    },
    {
      "cell_type": "code",
      "source": [
        "import numpy as np\n",
        "import pandas as pd\n",
        "import matplotlib.pylab as plt\n",
        "import seaborn as sns\n",
        "import sklearn as sk"
      ],
      "metadata": {
        "id": "qqDBa3S_NrQM"
      },
      "execution_count": null,
      "outputs": []
    },
    {
      "cell_type": "code",
      "source": [
        "import warnings\n",
        "warnings.filterwarnings(action='ignore')"
      ],
      "metadata": {
        "id": "OjcKGjQyNs3T"
      },
      "execution_count": null,
      "outputs": []
    },
    {
      "cell_type": "code",
      "source": [
        "from google.colab import auth\n",
        "auth.authenticate_user()\n",
        "\n",
        "from google.colab import drive\n",
        "drive.mount('/content/gdrive', force_remount=False)"
      ],
      "metadata": {
        "id": "yGVDGIDRNuQZ",
        "colab": {
          "base_uri": "https://localhost:8080/"
        },
        "outputId": "6f9648a5-51ce-4336-d1d3-092f94732998"
      },
      "execution_count": null,
      "outputs": [
        {
          "output_type": "stream",
          "name": "stdout",
          "text": [
            "Mounted at /content/gdrive\n"
          ]
        }
      ]
    },
    {
      "cell_type": "code",
      "source": [
        "train = pd.read_csv(\"/content/gdrive/My Drive/Colab Notebooks/NLP_news_topic_classification/preprocessed_train.csv\")\n",
        "test = pd.read_csv(\"/content/gdrive/My Drive/Colab Notebooks/NLP_news_topic_classification/preprocessed_test.csv\")"
      ],
      "metadata": {
        "id": "c2aUqADJNwRQ"
      },
      "execution_count": null,
      "outputs": []
    },
    {
      "cell_type": "code",
      "source": [
        "itsci = train[train[\"topic_idx\"]==0]\n",
        "econ = train[train[\"topic_idx\"]==1]\n",
        "society = train[train[\"topic_idx\"]==2]\n",
        "lifestyle = train[train[\"topic_idx\"]==3]\n",
        "world = train[train[\"topic_idx\"]==4]\n",
        "sports = train[train[\"topic_idx\"]==5]\n",
        "politic = train[train[\"topic_idx\"]==6]"
      ],
      "metadata": {
        "id": "wo539TivNxni"
      },
      "execution_count": null,
      "outputs": []
    },
    {
      "cell_type": "code",
      "source": [
        "# 전처리 과정에서 불필요한 컬럼 생겨서 삭제 후 index 컬럼을 컬럼으로\n",
        "train = train.drop(columns=[\"Unnamed: 0\"])\n",
        "test = test.drop(columns=[\"Unnamed: 0\"])"
      ],
      "metadata": {
        "id": "8a1sQ26HN03P"
      },
      "execution_count": null,
      "outputs": []
    },
    {
      "cell_type": "code",
      "source": [
        "# 동의어 갤 -> 갤럭시 수정하면서 '갤럭시럭시' 된 것 수정하고 oversampling까지 완료한 train셋셋\n",
        "train"
      ],
      "metadata": {
        "colab": {
          "base_uri": "https://localhost:8080/",
          "height": 424
        },
        "id": "2kS24DxabKa7",
        "outputId": "4c65773e-1884-4a27-f292-bfdce1225cd2"
      },
      "execution_count": null,
      "outputs": [
        {
          "output_type": "execute_result",
          "data": {
            "text/plain": [
              "                                   title  topic_idx\n",
              "0              인천에서핀란드 항공기 결항 휴가철 여행객 분통          4\n",
              "1        실리콘밸리 넘어서겠다 구글 15조원 들여 미국전역 거점화          4\n",
              "2         이란 외무 긴장완화 해결책은 미국이 경제전쟁 멈추는 것          4\n",
              "3        NYT 클린턴 측근한국기업 특수관계 조명 공과 사 맞물려          4\n",
              "4              시진핑 트럼프에 중미 무역협상 조속 타결 희망          4\n",
              "...                                  ...        ...\n",
              "53398   국토위 태풍상륙날 국감장 떠난 이강래 행적 놓고 여야 공방          6\n",
              "53399     김정은 신년사로 미리 본 북한7차 당대회 역사적 분수령          6\n",
              "53400  박근혜대통령 또 북한주민에 메시지 김정은주민 분리전략 본격화          6\n",
              "53401      김관영 내일 탈당 이번주 더민주 이탈 현역 8명 전후          6\n",
              "53402   국감 내일 끝 사립유치원 비리 고용세습 해법 고민 끌어냈다          6\n",
              "\n",
              "[53403 rows x 2 columns]"
            ],
            "text/html": [
              "\n",
              "  <div id=\"df-2c2d1ccb-a0ae-4839-b1cd-aeb3318c43d7\">\n",
              "    <div class=\"colab-df-container\">\n",
              "      <div>\n",
              "<style scoped>\n",
              "    .dataframe tbody tr th:only-of-type {\n",
              "        vertical-align: middle;\n",
              "    }\n",
              "\n",
              "    .dataframe tbody tr th {\n",
              "        vertical-align: top;\n",
              "    }\n",
              "\n",
              "    .dataframe thead th {\n",
              "        text-align: right;\n",
              "    }\n",
              "</style>\n",
              "<table border=\"1\" class=\"dataframe\">\n",
              "  <thead>\n",
              "    <tr style=\"text-align: right;\">\n",
              "      <th></th>\n",
              "      <th>title</th>\n",
              "      <th>topic_idx</th>\n",
              "    </tr>\n",
              "  </thead>\n",
              "  <tbody>\n",
              "    <tr>\n",
              "      <th>0</th>\n",
              "      <td>인천에서핀란드 항공기 결항 휴가철 여행객 분통</td>\n",
              "      <td>4</td>\n",
              "    </tr>\n",
              "    <tr>\n",
              "      <th>1</th>\n",
              "      <td>실리콘밸리 넘어서겠다 구글 15조원 들여 미국전역 거점화</td>\n",
              "      <td>4</td>\n",
              "    </tr>\n",
              "    <tr>\n",
              "      <th>2</th>\n",
              "      <td>이란 외무 긴장완화 해결책은 미국이 경제전쟁 멈추는 것</td>\n",
              "      <td>4</td>\n",
              "    </tr>\n",
              "    <tr>\n",
              "      <th>3</th>\n",
              "      <td>NYT 클린턴 측근한국기업 특수관계 조명 공과 사 맞물려</td>\n",
              "      <td>4</td>\n",
              "    </tr>\n",
              "    <tr>\n",
              "      <th>4</th>\n",
              "      <td>시진핑 트럼프에 중미 무역협상 조속 타결 희망</td>\n",
              "      <td>4</td>\n",
              "    </tr>\n",
              "    <tr>\n",
              "      <th>...</th>\n",
              "      <td>...</td>\n",
              "      <td>...</td>\n",
              "    </tr>\n",
              "    <tr>\n",
              "      <th>53398</th>\n",
              "      <td>국토위 태풍상륙날 국감장 떠난 이강래 행적 놓고 여야 공방</td>\n",
              "      <td>6</td>\n",
              "    </tr>\n",
              "    <tr>\n",
              "      <th>53399</th>\n",
              "      <td>김정은 신년사로 미리 본 북한7차 당대회 역사적 분수령</td>\n",
              "      <td>6</td>\n",
              "    </tr>\n",
              "    <tr>\n",
              "      <th>53400</th>\n",
              "      <td>박근혜대통령 또 북한주민에 메시지 김정은주민 분리전략 본격화</td>\n",
              "      <td>6</td>\n",
              "    </tr>\n",
              "    <tr>\n",
              "      <th>53401</th>\n",
              "      <td>김관영 내일 탈당 이번주 더민주 이탈 현역 8명 전후</td>\n",
              "      <td>6</td>\n",
              "    </tr>\n",
              "    <tr>\n",
              "      <th>53402</th>\n",
              "      <td>국감 내일 끝 사립유치원 비리 고용세습 해법 고민 끌어냈다</td>\n",
              "      <td>6</td>\n",
              "    </tr>\n",
              "  </tbody>\n",
              "</table>\n",
              "<p>53403 rows × 2 columns</p>\n",
              "</div>\n",
              "      <button class=\"colab-df-convert\" onclick=\"convertToInteractive('df-2c2d1ccb-a0ae-4839-b1cd-aeb3318c43d7')\"\n",
              "              title=\"Convert this dataframe to an interactive table.\"\n",
              "              style=\"display:none;\">\n",
              "        \n",
              "  <svg xmlns=\"http://www.w3.org/2000/svg\" height=\"24px\"viewBox=\"0 0 24 24\"\n",
              "       width=\"24px\">\n",
              "    <path d=\"M0 0h24v24H0V0z\" fill=\"none\"/>\n",
              "    <path d=\"M18.56 5.44l.94 2.06.94-2.06 2.06-.94-2.06-.94-.94-2.06-.94 2.06-2.06.94zm-11 1L8.5 8.5l.94-2.06 2.06-.94-2.06-.94L8.5 2.5l-.94 2.06-2.06.94zm10 10l.94 2.06.94-2.06 2.06-.94-2.06-.94-.94-2.06-.94 2.06-2.06.94z\"/><path d=\"M17.41 7.96l-1.37-1.37c-.4-.4-.92-.59-1.43-.59-.52 0-1.04.2-1.43.59L10.3 9.45l-7.72 7.72c-.78.78-.78 2.05 0 2.83L4 21.41c.39.39.9.59 1.41.59.51 0 1.02-.2 1.41-.59l7.78-7.78 2.81-2.81c.8-.78.8-2.07 0-2.86zM5.41 20L4 18.59l7.72-7.72 1.47 1.35L5.41 20z\"/>\n",
              "  </svg>\n",
              "      </button>\n",
              "      \n",
              "  <style>\n",
              "    .colab-df-container {\n",
              "      display:flex;\n",
              "      flex-wrap:wrap;\n",
              "      gap: 12px;\n",
              "    }\n",
              "\n",
              "    .colab-df-convert {\n",
              "      background-color: #E8F0FE;\n",
              "      border: none;\n",
              "      border-radius: 50%;\n",
              "      cursor: pointer;\n",
              "      display: none;\n",
              "      fill: #1967D2;\n",
              "      height: 32px;\n",
              "      padding: 0 0 0 0;\n",
              "      width: 32px;\n",
              "    }\n",
              "\n",
              "    .colab-df-convert:hover {\n",
              "      background-color: #E2EBFA;\n",
              "      box-shadow: 0px 1px 2px rgba(60, 64, 67, 0.3), 0px 1px 3px 1px rgba(60, 64, 67, 0.15);\n",
              "      fill: #174EA6;\n",
              "    }\n",
              "\n",
              "    [theme=dark] .colab-df-convert {\n",
              "      background-color: #3B4455;\n",
              "      fill: #D2E3FC;\n",
              "    }\n",
              "\n",
              "    [theme=dark] .colab-df-convert:hover {\n",
              "      background-color: #434B5C;\n",
              "      box-shadow: 0px 1px 3px 1px rgba(0, 0, 0, 0.15);\n",
              "      filter: drop-shadow(0px 1px 2px rgba(0, 0, 0, 0.3));\n",
              "      fill: #FFFFFF;\n",
              "    }\n",
              "  </style>\n",
              "\n",
              "      <script>\n",
              "        const buttonEl =\n",
              "          document.querySelector('#df-2c2d1ccb-a0ae-4839-b1cd-aeb3318c43d7 button.colab-df-convert');\n",
              "        buttonEl.style.display =\n",
              "          google.colab.kernel.accessAllowed ? 'block' : 'none';\n",
              "\n",
              "        async function convertToInteractive(key) {\n",
              "          const element = document.querySelector('#df-2c2d1ccb-a0ae-4839-b1cd-aeb3318c43d7');\n",
              "          const dataTable =\n",
              "            await google.colab.kernel.invokeFunction('convertToInteractive',\n",
              "                                                     [key], {});\n",
              "          if (!dataTable) return;\n",
              "\n",
              "          const docLinkHtml = 'Like what you see? Visit the ' +\n",
              "            '<a target=\"_blank\" href=https://colab.research.google.com/notebooks/data_table.ipynb>data table notebook</a>'\n",
              "            + ' to learn more about interactive tables.';\n",
              "          element.innerHTML = '';\n",
              "          dataTable['output_type'] = 'display_data';\n",
              "          await google.colab.output.renderOutput(dataTable, element);\n",
              "          const docLink = document.createElement('div');\n",
              "          docLink.innerHTML = docLinkHtml;\n",
              "          element.appendChild(docLink);\n",
              "        }\n",
              "      </script>\n",
              "    </div>\n",
              "  </div>\n",
              "  "
            ]
          },
          "metadata": {},
          "execution_count": 13
        }
      ]
    },
    {
      "cell_type": "markdown",
      "source": [
        "### train_test_split  \n",
        "나눠야하는 줄 알았는데 아래 보니 모델 돌리면서 파라미터로 train, valid 셋 나눌 수 있음음"
      ],
      "metadata": {
        "id": "KCq_4T8Rt3hG"
      }
    },
    {
      "cell_type": "code",
      "source": [
        "# from sklearn.model_selection import train_test_split"
      ],
      "metadata": {
        "id": "4duQnKV_uF3f"
      },
      "execution_count": null,
      "outputs": []
    },
    {
      "cell_type": "code",
      "source": [
        "# X = train[\"title\"]\n",
        "# y = train[\"topic_idx\"]\n",
        "\n",
        "# train_X, test_X, train_y, test_y = train_test_split(X, y, test_size=0.4, shuffle=True, stratify=y, random_state=17)\n",
        "# # stratify : train, valid 나눌 때 각 레이블의 분포 고르도록 나눔 "
      ],
      "metadata": {
        "id": "1BTRIKQ6t67I"
      },
      "execution_count": null,
      "outputs": []
    },
    {
      "cell_type": "code",
      "source": [
        "# print(\"< train 레이블별 비율 >\")\n",
        "# for i in range(7):\n",
        "#   print(\"topic\", i, round(train_y.value_counts()[i]/len(train_y) * 100, 2),\"%\")"
      ],
      "metadata": {
        "colab": {
          "base_uri": "https://localhost:8080/"
        },
        "id": "rkZlmcHtx-SE",
        "outputId": "2b5e8e85-72a1-4e36-bec1-b9ababe37647"
      },
      "execution_count": null,
      "outputs": [
        {
          "output_type": "stream",
          "name": "stdout",
          "text": [
            "< train 레이블별 비율 >\n",
            "topic 0 14.28 %\n",
            "topic 1 14.28 %\n",
            "topic 2 14.28 %\n",
            "topic 3 14.29 %\n",
            "topic 4 14.29 %\n",
            "topic 5 14.28 %\n",
            "topic 6 14.28 %\n"
          ]
        }
      ]
    },
    {
      "cell_type": "code",
      "source": [
        "# print(\"< test 레이블별 비율 >\")\n",
        "# for i in range(7):\n",
        "#   print(\"topic\", i, round(test_y.value_counts()[i]/len(test_y) * 100, 2),\"%\")"
      ],
      "metadata": {
        "colab": {
          "base_uri": "https://localhost:8080/"
        },
        "id": "QVSxhYxJy9Y8",
        "outputId": "014471b1-b985-4757-f5f4-a07ab9aa92ba"
      },
      "execution_count": null,
      "outputs": [
        {
          "output_type": "stream",
          "name": "stdout",
          "text": [
            "< test 레이블별 비율 >\n",
            "topic 0 14.29 %\n",
            "topic 1 14.29 %\n",
            "topic 2 14.29 %\n",
            "topic 3 14.28 %\n",
            "topic 4 14.28 %\n",
            "topic 5 14.29 %\n",
            "topic 6 14.29 %\n"
          ]
        }
      ]
    },
    {
      "cell_type": "markdown",
      "source": [
        "## 언어 모델  \n",
        "references :   \n",
        "https://heytech.tistory.com/341  \n",
        "https://velog.io/@dust_potato/TIL-nlp-%EC%96%B8%EC%96%B4%EB%AA%A8%EB%8D%B8%EC%9D%98-%EC%A2%85%EB%A5%98\n",
        "  \n",
        "  \n",
        "1. **통계학적 언어 모델**\n",
        "- 조건부 확률의 연쇄법칙  \n",
        "단어들이 주어졌을 때 뒤이어 등장할 단어를 확률적으로 표현, 문장 자체의 확률적 표현 (앤드류 응 교수님 강의에서 배웠던 내용)  \n",
        "- N-gram 모델\n",
        "  \n",
        "  \n",
        "2. **인공신경망 기반 언어 모델**\n",
        "- 최근에는 통계학적 언어 모델보다 인공신경망 기반 모델이 성능 더 좋다.\n",
        "- **RNN (- RNN, LSTM, GRU)**, T5, **BERT**, GPT"
      ],
      "metadata": {
        "id": "jwzPmerodxrL"
      }
    },
    {
      "cell_type": "markdown",
      "source": [
        "## **RNN**  \n",
        "references :  \n",
        "https://wikidocs.net/22891  \n",
        "https://wikidocs.net/22894  \n",
        "https://tensorflow.blog/%EC%BC%80%EB%9D%BC%EC%8A%A4-%EB%94%A5%EB%9F%AC%EB%8B%9D/3-5-%EB%89%B4%EC%8A%A4-%EA%B8%B0%EC%82%AC-%EB%B6%84%EB%A5%98-%EB%8B%A4%EC%A4%91-%EB%B6%84%EB%A5%98-%EB%AC%B8%EC%A0%9C/  \n",
        "  \n",
        "\n",
        "텍스트 분류는 **RNN의 다대일** : 최종 시점의 RNN셀만 은닉상태 출력, 출력층으로 가서 활성화함수를 통해 정답을 고르는 문제  \n",
        "  \n",
        "* 이중분류 - 출력층의 활성화 함수: sigmoid, 손실함수: binary_crossentropy  \n",
        "* 다중분류 - 출력층의 활성화 함수: softmax, 손실함수: categorical_crossentropy + 출력층 뉴런의 개수는 N (클래스 개수) 개"
      ],
      "metadata": {
        "id": "Moqdk2uaqeBw"
      }
    },
    {
      "cell_type": "code",
      "source": [
        "from tensorflow.keras.preprocessing.text import Tokenizer\n",
        "from tensorflow.keras.preprocessing.sequence import pad_sequences"
      ],
      "metadata": {
        "id": "6fwJMv8w4kal"
      },
      "execution_count": 115,
      "outputs": []
    },
    {
      "cell_type": "code",
      "source": [
        "from sklearn.metrics import accuracy_score, log_loss\n",
        "from sklearn.model_selection import StratifiedKFold\n",
        "\n",
        "import tensorflow as tf\n",
        "from tensorflow.keras import Sequential\n",
        "from tensorflow.keras.layers import Dense, Embedding, LSTM, Dropout, Bidirectional\n",
        "from tensorflow.keras.preprocessing.sequence import pad_sequences\n",
        "from tensorflow.keras.preprocessing.text import Tokenizer\n",
        "from tensorflow.keras.callbacks import EarlyStopping, ReduceLROnPlateau\n",
        "from tensorflow.keras.utils import plot_model, to_categorical\n",
        "from tensorflow.keras.optimizers import Adam\n",
        "\n",
        "from keras.utils import np_utils"
      ],
      "metadata": {
        "id": "ORDXxGbRQHXo"
      },
      "execution_count": 116,
      "outputs": []
    },
    {
      "cell_type": "markdown",
      "source": [
        "#### 1) Vectorization - Tokenization"
      ],
      "metadata": {
        "id": "fENxLwO0VHmo"
      }
    },
    {
      "cell_type": "code",
      "source": [
        "train_X = np.array([x for x in train[\"title\"]])\n",
        "test_X = np.array([x for x in test[\"title\"]])\n",
        "train_y = np.array([x for x in train[\"topic_idx\"]])\n",
        "\n",
        "print(train_X.shape)\n",
        "print(test_X.shape)\n",
        "print(train_y.shape)"
      ],
      "metadata": {
        "colab": {
          "base_uri": "https://localhost:8080/"
        },
        "id": "Z1pRXTAB33uE",
        "outputId": "0502af9a-fe36-41a4-eea5-7a325b2eba42"
      },
      "execution_count": 132,
      "outputs": [
        {
          "output_type": "stream",
          "name": "stdout",
          "text": [
            "(53403,)\n",
            "(9131,)\n",
            "(53403,)\n"
          ]
        }
      ]
    },
    {
      "cell_type": "code",
      "source": [
        "# keras Tokenizer로 train set에 대해서 토큰화와 정수 인코딩\n",
        "# Tokenizer은 데이터에 출현하는 모든 단어의 개수를 세고 빈도 수로 정렬함 (각 단어의 빈도수가 높을수록 낮은 정수가 부여됨)\n",
        "# num_words에 지정된만큼만 숫자로 반환, 나머지는 0으로\n",
        "vocab_size = 2000  # total_count - rare_count + 1\n",
        "tokenizer = Tokenizer(num_words = vocab_size)\n",
        "tokenizer.fit_on_texts(train_X)  # tokenizer에 데이터를 입력력"
      ],
      "metadata": {
        "id": "SeXGTr2dTlFy"
      },
      "execution_count": 134,
      "outputs": []
    },
    {
      "cell_type": "code",
      "source": [
        "# 문장 내 모든 단어를 시퀀스 번호로 변환\n",
        "sequences_train = tokenizer.texts_to_sequences(train_X)\n",
        "sequences_test = tokenizer.texts_to_sequences(test_X)\n",
        "\n",
        "print(len(sequences_train), len(sequences_test))"
      ],
      "metadata": {
        "colab": {
          "base_uri": "https://localhost:8080/"
        },
        "id": "uHLo7dWtUgtK",
        "outputId": "7b6e8594-2486-4a13-b9ce-523b79a8996e"
      },
      "execution_count": 135,
      "outputs": [
        {
          "output_type": "stream",
          "name": "stdout",
          "text": [
            "53403 9131\n"
          ]
        }
      ]
    },
    {
      "cell_type": "markdown",
      "source": [
        "#### 2 ) Embedding"
      ],
      "metadata": {
        "id": "-4YwzPZxXCNs"
      }
    },
    {
      "cell_type": "code",
      "source": [
        "# 변환된 시퀀스 번호를 이용해 단어 임베딩 벡터 생성\n",
        "word_index = tokenizer.word_index"
      ],
      "metadata": {
        "id": "61JXFP4h-ENg"
      },
      "execution_count": 136,
      "outputs": []
    },
    {
      "cell_type": "code",
      "source": [
        "# 각 단어에 대한 등장 빈도수\n",
        "\n",
        "threshold = 2\n",
        "total_count = len(word_index)  # 총 단어 수\n",
        "rare_count = 0   # 등장 빈도수가 threshold보다 작은 단어의 개수 count\n",
        "total_freq = 0   # 훈련 데이터의 전체 단어 빈도수 총합\n",
        "rare_freq = 0    # 등장 빈도수가 threshold보다 작은 단어의 등장 빈도수 총합\n",
        "\n",
        "# tokenizer.word_counts.item() : 각 단어와 빈도수를 쌍으로 받음음\n",
        "for key, value in tokenizer.word_counts.items():\n",
        "  total_freq += value\n",
        "\n",
        "  if (value < threshold):\n",
        "    rare_count += 1\n",
        "    rare_freq += value\n",
        "\n",
        "print('등장 빈도가 %s번 이하인 희귀 단어의 수: %s'%(threshold - 1, rare_count))\n",
        "print(\"단어 집합에서 희귀 단어 비율 :\", round((rare_count / total_count)*100, 2))\n",
        "print(\"전체 등장 빈도에서 희귀 단어 등장 빈도 비율 :\", round((rare_freq / total_freq )*100, 2))\n",
        "  "
      ],
      "metadata": {
        "colab": {
          "base_uri": "https://localhost:8080/"
        },
        "id": "l1I6B7sR5Sui",
        "outputId": "89098e57-66b2-4fcb-eb88-f52aa53ba881"
      },
      "execution_count": 137,
      "outputs": [
        {
          "output_type": "stream",
          "name": "stdout",
          "text": [
            "등장 빈도가 1번 이하인 희귀 단어의 수: 47086\n",
            "단어 집합에서 희귀 단어 비율 : 55.58\n",
            "전체 등장 빈도에서 희귀 단어 등장 빈도 비율 : 12.36\n"
          ]
        }
      ]
    },
    {
      "cell_type": "code",
      "source": [
        "# 독립 변수 전처리\n",
        "# 패딩(텍스트 길이 맞춰줌)을 위한 제목의 최대길이와 길이분포 확인인\n",
        "\n",
        "train[\"doc_len\"] = train.title.apply(lambda words : len(words.split()))\n",
        "\n",
        "def plot_doc_lengths(df):\n",
        "  mean_seq_len = np.round(df.doc_len.mean()).astype(int)\n",
        "  sns.distplot(tuple(df.doc_len), hist=False, kde=True, label=\"Document lengths\")\n",
        "  plt.title(\"Document lengths\")\n",
        "  plt.legend()\n",
        "  plt.show()\n",
        "  print(\"longest :\", train[\"doc_len\"].max())\n",
        "\n",
        "plot_doc_lengths(train)"
      ],
      "metadata": {
        "colab": {
          "base_uri": "https://localhost:8080/",
          "height": 299
        },
        "id": "UyAmQrUjdmib",
        "outputId": "31f997c2-4349-44f5-acc5-2fffc12fd70a"
      },
      "execution_count": 130,
      "outputs": [
        {
          "output_type": "display_data",
          "data": {
            "text/plain": [
              "<Figure size 432x288 with 1 Axes>"
            ],
            "image/png": "[encoded data removed]"
          },
          "metadata": {
            "needs_background": "light"
          }
        },
        {
          "output_type": "stream",
          "name": "stdout",
          "text": [
            "longest : 13\n"
          ]
        }
      ]
    },
    {
      "cell_type": "code",
      "source": [
        "# 모든 제목의 길이를 13으로 패딩 (13보다 짧으면 0이 패딩됨)\n",
        "max_len = 13\n",
        "\n",
        "train_X = pad_sequences(sequences_train, padding=\"post\", maxlen=max_len)\n",
        "test_X = pad_sequences(sequences_test, padding=\"post\", maxlen=max_len)\n",
        "print(\"train shape :\", train_X.shape)\n",
        "print(\"test shape :\", test_X.shape)"
      ],
      "metadata": {
        "colab": {
          "base_uri": "https://localhost:8080/"
        },
        "id": "Irknhp5VDMo0",
        "outputId": "7b5d5580-5df9-4c26-846f-c9b40fcc8899"
      },
      "execution_count": 139,
      "outputs": [
        {
          "output_type": "stream",
          "name": "stdout",
          "text": [
            "train shape : (53403, 13)\n",
            "test shape : (9131, 13)\n"
          ]
        }
      ]
    },
    {
      "cell_type": "code",
      "source": [
        "# 종속변수 데이터 전처리\n",
        "train_y = np_utils.to_categorical(train_y) # train_y 원핫 인코딩\n",
        "print(train_y)\n",
        "print(train_y.shape)"
      ],
      "metadata": {
        "colab": {
          "base_uri": "https://localhost:8080/"
        },
        "id": "QFFmQSGWYXeW",
        "outputId": "17684170-2cb1-48a6-c738-72fe7ae8002b"
      },
      "execution_count": 140,
      "outputs": [
        {
          "output_type": "stream",
          "name": "stdout",
          "text": [
            "[[0. 0. 0. ... 1. 0. 0.]\n",
            " [0. 0. 0. ... 1. 0. 0.]\n",
            " [0. 0. 0. ... 1. 0. 0.]\n",
            " ...\n",
            " [0. 0. 0. ... 0. 0. 1.]\n",
            " [0. 0. 0. ... 0. 0. 1.]\n",
            " [0. 0. 0. ... 0. 0. 1.]]\n",
            "(53403, 7)\n"
          ]
        }
      ]
    },
    {
      "cell_type": "markdown",
      "source": [
        "#### 3 ) Modeling  \n",
        "#### **Simple RNN**   \n",
        "reference : https://ratsgo.github.io/natural%20language%20processing/2017/03/09/rnnlstm/  \n",
        "  \n",
        "\n",
        "- 히든노드가 방향을 가진 엣지로 연결돼 순환구조를 이루는 - 인공신경망의 한 종류  \n",
        "음성, 문자 등 sequential한 데이터에 적합   \n",
        "- 시퀀스 길이에 관계없이 input, output 받아들일 수 있는 점이 장점 (다대다, 다대일, 일대다 등)  \n",
        "- input -> hidden state -> output"
      ],
      "metadata": {
        "id": "ttmkRP4jaIqv"
      }
    },
    {
      "cell_type": "code",
      "source": [
        "from tensorflow.keras.layers import SimpleRNN, Embedding, Dense\n",
        "from tensorflow.keras.models import Sequential\n",
        "from keras import models\n",
        "from keras import layers"
      ],
      "metadata": {
        "id": "MNyA7YiW_S0B"
      },
      "execution_count": null,
      "outputs": []
    },
    {
      "cell_type": "code",
      "source": [
        "# 파라미터 설정 \n",
        "embedding_dim = 200\n",
        "vocab_size = total_count - rare_count + 1 # 1번만 쓰인 단어 제외\n",
        "max_len = 13   # 위 참고"
      ],
      "metadata": {
        "id": "5wLdyyOJFJ9z"
      },
      "execution_count": 141,
      "outputs": []
    },
    {
      "cell_type": "code",
      "source": [
        "# RNN 모델\n",
        "rnn = Sequential([Embedding(vocab_size, embedding_dim, input_length=max_len),\n",
        "                    tf.keras.layers.SimpleRNN(units = 64, return_sequences=True),\n",
        "                    tf.keras.layers.SimpleRNN(units = 64, return_sequences = True),\n",
        "                    tf.keras.layers.SimpleRNN(units = 64), \n",
        "                    Dense(7, activation=\"softmax\")])   # 출력층 : 7개의 output(topic_idx), 다중분류이므로 softmax\n",
        "            \n",
        "rnn.compile(loss=\"categorical_crossentropy\",\n",
        "               optimizer=\"adam\",\n",
        "               metrics=[\"accuracy\"])\n",
        "\n",
        "rnn.summary()"
      ],
      "metadata": {
        "colab": {
          "base_uri": "https://localhost:8080/"
        },
        "id": "oqz_wF1TQr_1",
        "outputId": "4ed66984-d2dc-499a-f7c9-5f13b82e073c"
      },
      "execution_count": 142,
      "outputs": [
        {
          "output_type": "stream",
          "name": "stdout",
          "text": [
            "Model: \"sequential_6\"\n",
            "_________________________________________________________________\n",
            " Layer (type)                Output Shape              Param #   \n",
            "=================================================================\n",
            " embedding_7 (Embedding)     (None, 13, 200)           400000    \n",
            "                                                                 \n",
            " simple_rnn_15 (SimpleRNN)   (None, 13, 64)            16960     \n",
            "                                                                 \n",
            " simple_rnn_16 (SimpleRNN)   (None, 13, 64)            8256      \n",
            "                                                                 \n",
            " simple_rnn_17 (SimpleRNN)   (None, 64)                8256      \n",
            "                                                                 \n",
            " dense_6 (Dense)             (None, 7)                 455       \n",
            "                                                                 \n",
            "=================================================================\n",
            "Total params: 433,927\n",
            "Trainable params: 433,927\n",
            "Non-trainable params: 0\n",
            "_________________________________________________________________\n"
          ]
        }
      ]
    },
    {
      "cell_type": "code",
      "source": [
        "# 모델 실행\n",
        "rnn_history = rnn.fit(train_X, train_y, epochs=20, batch_size=100, validation_split=0.2)"
      ],
      "metadata": {
        "colab": {
          "base_uri": "https://localhost:8080/"
        },
        "id": "SLg-k7UfStQG",
        "outputId": "568af1f4-71e7-4294-d684-687ad3287808"
      },
      "execution_count": 158,
      "outputs": [
        {
          "output_type": "stream",
          "name": "stdout",
          "text": [
            "Epoch 1/20\n",
            "428/428 [==============================] - 18s 42ms/step - loss: 0.2884 - accuracy: 0.8941 - val_loss: 0.6396 - val_accuracy: 0.8243\n",
            "Epoch 2/20\n",
            "428/428 [==============================] - 17s 40ms/step - loss: 0.2826 - accuracy: 0.8949 - val_loss: 0.6034 - val_accuracy: 0.8388\n",
            "Epoch 3/20\n",
            "428/428 [==============================] - 13s 30ms/step - loss: 0.2795 - accuracy: 0.8963 - val_loss: 0.6104 - val_accuracy: 0.8335\n",
            "Epoch 4/20\n",
            "428/428 [==============================] - 11s 26ms/step - loss: 0.2764 - accuracy: 0.8968 - val_loss: 0.6256 - val_accuracy: 0.8370\n",
            "Epoch 5/20\n",
            "428/428 [==============================] - 12s 28ms/step - loss: 0.2873 - accuracy: 0.8931 - val_loss: 0.6327 - val_accuracy: 0.8266\n",
            "Epoch 6/20\n",
            "428/428 [==============================] - 13s 29ms/step - loss: 0.2830 - accuracy: 0.8944 - val_loss: 0.6851 - val_accuracy: 0.8109\n",
            "Epoch 7/20\n",
            "428/428 [==============================] - 13s 30ms/step - loss: 0.2756 - accuracy: 0.8978 - val_loss: 0.6129 - val_accuracy: 0.8337\n",
            "Epoch 8/20\n",
            "428/428 [==============================] - 13s 30ms/step - loss: 0.2671 - accuracy: 0.9004 - val_loss: 0.6583 - val_accuracy: 0.8255\n",
            "Epoch 9/20\n",
            "428/428 [==============================] - 16s 37ms/step - loss: 0.2681 - accuracy: 0.8997 - val_loss: 0.6683 - val_accuracy: 0.8270\n",
            "Epoch 10/20\n",
            "428/428 [==============================] - 16s 37ms/step - loss: 0.2652 - accuracy: 0.9023 - val_loss: 0.6943 - val_accuracy: 0.8232\n",
            "Epoch 11/20\n",
            "428/428 [==============================] - 13s 31ms/step - loss: 0.2693 - accuracy: 0.8990 - val_loss: 0.6680 - val_accuracy: 0.8310\n",
            "Epoch 12/20\n",
            "428/428 [==============================] - 25s 59ms/step - loss: 0.2685 - accuracy: 0.8983 - val_loss: 0.6357 - val_accuracy: 0.8360\n",
            "Epoch 13/20\n",
            "428/428 [==============================] - 19s 44ms/step - loss: 0.2737 - accuracy: 0.8976 - val_loss: 0.6426 - val_accuracy: 0.8358\n",
            "Epoch 14/20\n",
            "428/428 [==============================] - 25s 59ms/step - loss: 0.2586 - accuracy: 0.9022 - val_loss: 0.6483 - val_accuracy: 0.8303\n",
            "Epoch 15/20\n",
            "428/428 [==============================] - 17s 39ms/step - loss: 0.2606 - accuracy: 0.9028 - val_loss: 0.6619 - val_accuracy: 0.8363\n",
            "Epoch 16/20\n",
            "428/428 [==============================] - 11s 26ms/step - loss: 0.2607 - accuracy: 0.9018 - val_loss: 0.6392 - val_accuracy: 0.8394\n",
            "Epoch 17/20\n",
            "428/428 [==============================] - 13s 29ms/step - loss: 0.2567 - accuracy: 0.9021 - val_loss: 0.6454 - val_accuracy: 0.8421\n",
            "Epoch 18/20\n",
            "428/428 [==============================] - 14s 33ms/step - loss: 0.2562 - accuracy: 0.9027 - val_loss: 0.6368 - val_accuracy: 0.8368\n",
            "Epoch 19/20\n",
            "428/428 [==============================] - 23s 53ms/step - loss: 0.2620 - accuracy: 0.9020 - val_loss: 0.6382 - val_accuracy: 0.8337\n",
            "Epoch 20/20\n",
            "428/428 [==============================] - 21s 48ms/step - loss: 0.2610 - accuracy: 0.9023 - val_loss: 0.6796 - val_accuracy: 0.8322\n"
          ]
        }
      ]
    },
    {
      "cell_type": "code",
      "source": [
        "# 결과 확인\n",
        "plt.figure(figsize=(12,4))\n",
        "plt.title(\"Simple RNN\", fontsize=15)\n",
        "\n",
        "plt.subplot(1, 2, 1)\n",
        "plt.title(\"loss of Simple RNN\", fontsize=15)\n",
        "plt.plot(rnn_history.history[\"loss\"],'b-', label='loss')\n",
        "plt.plot(rnn_history.history[\"val_loss\"], 'r--', label=\"val_loss\")\n",
        "plt.xlabel(\"Epoch\")\n",
        "plt.legend()\n",
        "\n",
        "plt.subplot(1, 2, 2)\n",
        "plt.title(\"accuracy of Simple RNN\", fontsize=15)\n",
        "plt.plot(rnn_history.history[\"accuracy\"], \"g-\", label=\"accuracy\")\n",
        "plt.plot(rnn_history.history[\"val_accuracy\"], \"k--\", label=\"val_accuracy\")\n",
        "plt.xlabel(\"Epoch\")\n",
        "plt.legend()\n",
        "\n",
        "plt.show"
      ],
      "metadata": {
        "colab": {
          "base_uri": "https://localhost:8080/",
          "height": 315
        },
        "id": "qejE2jXwitRO",
        "outputId": "125e8a78-ddc0-427a-9e31-2288fa5e6639"
      },
      "execution_count": 159,
      "outputs": [
        {
          "output_type": "execute_result",
          "data": {
            "text/plain": [
              "<function matplotlib.pyplot.show(*args, **kw)>"
            ]
          },
          "metadata": {},
          "execution_count": 159
        },
        {
          "output_type": "display_data",
          "data": {
            "text/plain": [
              "<Figure size 864x288 with 2 Axes>"
            ],
            "image/png": "[encoded data removed]"
          },
          "metadata": {
            "needs_background": "light"
          }
        }
      ]
    },
    {
      "cell_type": "code",
      "source": [
        "# vocab_size = 2000으로 가장 많이 사용하는 사이즈라고 함\n",
        "# 위에서는 vocab_size = 1번 쓰인 단어 제외한 모든 단어들로 했음\n",
        "embedding_dim = 200\n",
        "vocab_size = 2000 # 1번만 쓰인 단어 제외\n",
        "max_len = 13   # 위 참고"
      ],
      "metadata": {
        "id": "CBYPyoljoers"
      },
      "execution_count": 154,
      "outputs": []
    },
    {
      "cell_type": "code",
      "source": [
        "# RNN 모델\n",
        "rnn = Sequential([Embedding(vocab_size, embedding_dim, input_length=max_len),\n",
        "                    tf.keras.layers.SimpleRNN(units = 64, return_sequences=True),\n",
        "                    tf.keras.layers.SimpleRNN(units = 64, return_sequences = True),\n",
        "                    tf.keras.layers.SimpleRNN(units = 64), \n",
        "                    Dense(7, activation=\"softmax\")])   # 출력층 : 7개의 output(topic_idx), 다중분류이므로 softmax\n",
        "            \n",
        "rnn.compile(loss=\"categorical_crossentropy\",\n",
        "               optimizer=\"adam\",\n",
        "               metrics=[\"accuracy\"])\n",
        "\n",
        "rnn.summary()"
      ],
      "metadata": {
        "colab": {
          "base_uri": "https://localhost:8080/"
        },
        "id": "bX2NnQmpoy-F",
        "outputId": "4c203f74-585e-4143-b4d2-d9011bef81fc"
      },
      "execution_count": 155,
      "outputs": [
        {
          "output_type": "stream",
          "name": "stdout",
          "text": [
            "Model: \"sequential_7\"\n",
            "_________________________________________________________________\n",
            " Layer (type)                Output Shape              Param #   \n",
            "=================================================================\n",
            " embedding_8 (Embedding)     (None, 13, 200)           400000    \n",
            "                                                                 \n",
            " simple_rnn_18 (SimpleRNN)   (None, 13, 64)            16960     \n",
            "                                                                 \n",
            " simple_rnn_19 (SimpleRNN)   (None, 13, 64)            8256      \n",
            "                                                                 \n",
            " simple_rnn_20 (SimpleRNN)   (None, 64)                8256      \n",
            "                                                                 \n",
            " dense_7 (Dense)             (None, 7)                 455       \n",
            "                                                                 \n",
            "=================================================================\n",
            "Total params: 433,927\n",
            "Trainable params: 433,927\n",
            "Non-trainable params: 0\n",
            "_________________________________________________________________\n"
          ]
        }
      ]
    },
    {
      "cell_type": "code",
      "source": [
        "# 모델 실행\n",
        "rnn_history = rnn.fit(train_X, train_y, epochs=20, batch_size=100, validation_split=0.2)"
      ],
      "metadata": {
        "colab": {
          "base_uri": "https://localhost:8080/"
        },
        "id": "l13DmOFUo4K7",
        "outputId": "b369eab5-93fc-4a2d-d5d4-10c6a402f9d5"
      },
      "execution_count": 156,
      "outputs": [
        {
          "output_type": "stream",
          "name": "stdout",
          "text": [
            "Epoch 1/20\n",
            "428/428 [==============================] - 15s 30ms/step - loss: 0.9608 - accuracy: 0.6741 - val_loss: 0.7893 - val_accuracy: 0.7212\n",
            "Epoch 2/20\n",
            "428/428 [==============================] - 14s 33ms/step - loss: 0.7157 - accuracy: 0.7588 - val_loss: 0.6960 - val_accuracy: 0.7802\n",
            "Epoch 3/20\n",
            "428/428 [==============================] - 13s 29ms/step - loss: 0.6539 - accuracy: 0.7757 - val_loss: 0.7407 - val_accuracy: 0.7588\n",
            "Epoch 4/20\n",
            "428/428 [==============================] - 13s 29ms/step - loss: 0.5978 - accuracy: 0.7921 - val_loss: 0.6106 - val_accuracy: 0.8029\n",
            "Epoch 5/20\n",
            "428/428 [==============================] - 12s 29ms/step - loss: 0.5539 - accuracy: 0.8050 - val_loss: 0.6595 - val_accuracy: 0.7875\n",
            "Epoch 6/20\n",
            "428/428 [==============================] - 11s 26ms/step - loss: 0.5184 - accuracy: 0.8163 - val_loss: 0.6351 - val_accuracy: 0.7945\n",
            "Epoch 7/20\n",
            "428/428 [==============================] - 12s 28ms/step - loss: 0.4860 - accuracy: 0.8266 - val_loss: 0.6041 - val_accuracy: 0.8054\n",
            "Epoch 8/20\n",
            "428/428 [==============================] - 13s 31ms/step - loss: 0.4532 - accuracy: 0.8357 - val_loss: 0.6209 - val_accuracy: 0.8049\n",
            "Epoch 9/20\n",
            "428/428 [==============================] - 16s 39ms/step - loss: 0.4262 - accuracy: 0.8475 - val_loss: 0.6085 - val_accuracy: 0.8103\n",
            "Epoch 10/20\n",
            "428/428 [==============================] - 18s 43ms/step - loss: 0.4045 - accuracy: 0.8538 - val_loss: 0.5866 - val_accuracy: 0.8224\n",
            "Epoch 11/20\n",
            "428/428 [==============================] - 17s 41ms/step - loss: 0.3796 - accuracy: 0.8632 - val_loss: 0.5715 - val_accuracy: 0.8306\n",
            "Epoch 12/20\n",
            "428/428 [==============================] - 12s 28ms/step - loss: 0.3646 - accuracy: 0.8676 - val_loss: 0.5876 - val_accuracy: 0.8240\n",
            "Epoch 13/20\n",
            "428/428 [==============================] - 11s 26ms/step - loss: 0.3497 - accuracy: 0.8727 - val_loss: 0.6038 - val_accuracy: 0.8229\n",
            "Epoch 14/20\n",
            "428/428 [==============================] - 13s 29ms/step - loss: 0.3369 - accuracy: 0.8780 - val_loss: 0.5834 - val_accuracy: 0.8307\n",
            "Epoch 15/20\n",
            "428/428 [==============================] - 13s 29ms/step - loss: 0.3246 - accuracy: 0.8825 - val_loss: 0.6246 - val_accuracy: 0.8209\n",
            "Epoch 16/20\n",
            "428/428 [==============================] - 13s 30ms/step - loss: 0.3219 - accuracy: 0.8829 - val_loss: 0.5940 - val_accuracy: 0.8304\n",
            "Epoch 17/20\n",
            "428/428 [==============================] - 12s 29ms/step - loss: 0.3113 - accuracy: 0.8863 - val_loss: 0.5823 - val_accuracy: 0.8392\n",
            "Epoch 18/20\n",
            "428/428 [==============================] - 15s 36ms/step - loss: 0.2984 - accuracy: 0.8902 - val_loss: 0.6446 - val_accuracy: 0.8209\n",
            "Epoch 19/20\n",
            "428/428 [==============================] - 13s 30ms/step - loss: 0.3011 - accuracy: 0.8890 - val_loss: 0.6411 - val_accuracy: 0.7983\n",
            "Epoch 20/20\n",
            "428/428 [==============================] - 11s 26ms/step - loss: 0.3028 - accuracy: 0.8888 - val_loss: 0.6116 - val_accuracy: 0.8326\n"
          ]
        }
      ]
    },
    {
      "cell_type": "code",
      "source": [
        "# 결과 확인\n",
        "plt.figure(figsize=(12,4))\n",
        "plt.title(\"Simple RNN\", fontsize=15)\n",
        "\n",
        "plt.subplot(1, 2, 1)\n",
        "plt.title(\"loss of Simple RNN\", fontsize=15)\n",
        "plt.plot(rnn_history.history[\"loss\"],'b-', label='loss')\n",
        "plt.plot(rnn_history.history[\"val_loss\"], 'r--', label=\"val_loss\")\n",
        "plt.xlabel(\"Epoch\")\n",
        "plt.legend()\n",
        "\n",
        "plt.subplot(1, 2, 2)\n",
        "plt.title(\"accuracy of Simple RNN\", fontsize=15)\n",
        "plt.plot(rnn_history.history[\"accuracy\"], \"g-\", label=\"accuracy\")\n",
        "plt.plot(rnn_history.history[\"val_accuracy\"], \"k--\", label=\"val_accuracy\")\n",
        "plt.xlabel(\"Epoch\")\n",
        "plt.legend()\n",
        "\n",
        "plt.show"
      ],
      "metadata": {
        "colab": {
          "base_uri": "https://localhost:8080/",
          "height": 315
        },
        "id": "zlVjLKHUo8Ly",
        "outputId": "7e007502-62d5-4cf0-bac1-c1801a387ae7"
      },
      "execution_count": 157,
      "outputs": [
        {
          "output_type": "execute_result",
          "data": {
            "text/plain": [
              "<function matplotlib.pyplot.show(*args, **kw)>"
            ]
          },
          "metadata": {},
          "execution_count": 157
        },
        {
          "output_type": "display_data",
          "data": {
            "text/plain": [
              "<Figure size 864x288 with 2 Axes>"
            ],
            "image/png": "[encoded data removed]"
          },
          "metadata": {
            "needs_background": "light"
          }
        }
      ]
    },
    {
      "cell_type": "markdown",
      "source": [
        "vocab_size 큰 차이는 아니지만 2000보다 빈도수 1인 단어들 제외한 것이 더 결과 좋음 -> 앞으로 빈도수 1인 단어들 제외한 것만 사용"
      ],
      "metadata": {
        "id": "HGzlosGssmYV"
      }
    },
    {
      "cell_type": "markdown",
      "source": [
        "### **LSTM (Long Short-Term Memory model)**  \n",
        "references :   \n",
        "https://dacon.io/competitions/official/235747/codeshare/2907?page=2&dtype=recent  \n",
        "https://wikidocs.net/22933    \n",
        "  \n",
        "- LSTM은 RNN의 한종류, 긴 의존 기간을 필요로하는 학습을 수행할 능력 有  \n",
        "ex : I grew up in Frace ...... I speak fluent *French* : French 예측하려면 한참 전에 가야하는데 RNN은 힘들어함 (정보와 관련정보를 사용하는 지점 사이의 거리가 멀 경우 역전파시 gradient가 줄어 학습능력 크게 저하 : vanishing gradient problem)\n",
        "- RNN의 hidden state 에 cell-state를 추가한 구조\n"
      ],
      "metadata": {
        "id": "rfhTd1HLwnSK"
      }
    },
    {
      "cell_type": "markdown",
      "source": [
        "#### 단방향 : 정방향 only"
      ],
      "metadata": {
        "id": "AtIkucjstCjN"
      }
    },
    {
      "cell_type": "code",
      "source": [
        "vocab_size = total_count - rare_count + 1\n",
        "embedding_dim = 200\n",
        "max_len = 13"
      ],
      "metadata": {
        "id": "BYcuw_oooWC1"
      },
      "execution_count": 160,
      "outputs": []
    },
    {
      "cell_type": "code",
      "source": [
        "# LSTM 레이어를 사용한 모델 정의\n",
        "lstm1 = Sequential([Embedding(vocab_size, embedding_dim, input_length = max_len),\n",
        "                    tf.keras.layers.LSTM(units = 64, return_sequences = True),\n",
        "                    tf.keras.layers.LSTM(units = 64, return_sequences = True),\n",
        "                    tf.keras.layers.LSTM(units = 64),\n",
        "                    Dense(7, activation=\"softmax\")])\n",
        "\n",
        "lstm1.compile(loss = \"categorical_crossentropy\",\n",
        "              optimizer=\"adam\",\n",
        "              metrics=[\"accuracy\"])\n",
        "lstm1.summary()"
      ],
      "metadata": {
        "colab": {
          "base_uri": "https://localhost:8080/"
        },
        "id": "YxbI13VgtPn2",
        "outputId": "7faa8436-5011-4f43-ffb4-762bf66ea792"
      },
      "execution_count": 161,
      "outputs": [
        {
          "output_type": "stream",
          "name": "stdout",
          "text": [
            "Model: \"sequential_8\"\n",
            "_________________________________________________________________\n",
            " Layer (type)                Output Shape              Param #   \n",
            "=================================================================\n",
            " embedding_9 (Embedding)     (None, 13, 200)           7525800   \n",
            "                                                                 \n",
            " lstm (LSTM)                 (None, 13, 64)            67840     \n",
            "                                                                 \n",
            " lstm_1 (LSTM)               (None, 13, 64)            33024     \n",
            "                                                                 \n",
            " lstm_2 (LSTM)               (None, 64)                33024     \n",
            "                                                                 \n",
            " dense_8 (Dense)             (None, 7)                 455       \n",
            "                                                                 \n",
            "=================================================================\n",
            "Total params: 7,660,143\n",
            "Trainable params: 7,660,143\n",
            "Non-trainable params: 0\n",
            "_________________________________________________________________\n"
          ]
        }
      ]
    },
    {
      "cell_type": "code",
      "source": [
        "# 단방향 lstm 실행\n",
        "lstm1_history = lstm1.fit(train_X, train_y, epochs=20, batch_size=100, validation_split=0.2)"
      ],
      "metadata": {
        "colab": {
          "base_uri": "https://localhost:8080/"
        },
        "id": "vY9j7IOPvoAv",
        "outputId": "795e7d01-6b47-4ad7-af9a-4d348438b5f5"
      },
      "execution_count": 162,
      "outputs": [
        {
          "output_type": "stream",
          "name": "stdout",
          "text": [
            "Epoch 1/20\n",
            "428/428 [==============================] - 121s 270ms/step - loss: 1.0425 - accuracy: 0.6205 - val_loss: 0.7920 - val_accuracy: 0.7479\n",
            "Epoch 2/20\n",
            "428/428 [==============================] - 102s 239ms/step - loss: 0.7638 - accuracy: 0.7450 - val_loss: 0.7629 - val_accuracy: 0.7549\n",
            "Epoch 3/20\n",
            "428/428 [==============================] - 98s 230ms/step - loss: 0.7232 - accuracy: 0.7584 - val_loss: 0.7359 - val_accuracy: 0.7691\n",
            "Epoch 4/20\n",
            "428/428 [==============================] - 99s 231ms/step - loss: 0.6903 - accuracy: 0.7669 - val_loss: 0.7401 - val_accuracy: 0.7650\n",
            "Epoch 5/20\n",
            "428/428 [==============================] - 77s 181ms/step - loss: 0.6669 - accuracy: 0.7728 - val_loss: 0.7124 - val_accuracy: 0.7747\n",
            "Epoch 6/20\n",
            "428/428 [==============================] - 79s 185ms/step - loss: 0.6468 - accuracy: 0.7787 - val_loss: 0.6934 - val_accuracy: 0.7754\n",
            "Epoch 7/20\n",
            "428/428 [==============================] - 101s 235ms/step - loss: 0.6321 - accuracy: 0.7813 - val_loss: 0.6793 - val_accuracy: 0.7778\n",
            "Epoch 8/20\n",
            "428/428 [==============================] - 84s 197ms/step - loss: 0.6156 - accuracy: 0.7847 - val_loss: 0.6909 - val_accuracy: 0.7843\n",
            "Epoch 9/20\n",
            "428/428 [==============================] - 80s 187ms/step - loss: 0.6038 - accuracy: 0.7861 - val_loss: 0.6684 - val_accuracy: 0.7803\n",
            "Epoch 10/20\n",
            "428/428 [==============================] - 74s 174ms/step - loss: 0.5904 - accuracy: 0.7903 - val_loss: 0.6613 - val_accuracy: 0.7841\n",
            "Epoch 11/20\n",
            "428/428 [==============================] - 74s 172ms/step - loss: 0.5753 - accuracy: 0.7943 - val_loss: 0.6589 - val_accuracy: 0.7879\n",
            "Epoch 12/20\n",
            "428/428 [==============================] - 75s 175ms/step - loss: 0.5630 - accuracy: 0.7975 - val_loss: 0.6409 - val_accuracy: 0.7918\n",
            "Epoch 13/20\n",
            "428/428 [==============================] - 71s 167ms/step - loss: 0.5480 - accuracy: 0.8015 - val_loss: 0.6446 - val_accuracy: 0.7894\n",
            "Epoch 14/20\n",
            "428/428 [==============================] - 72s 169ms/step - loss: 0.5355 - accuracy: 0.8071 - val_loss: 0.6216 - val_accuracy: 0.8041\n",
            "Epoch 15/20\n",
            "428/428 [==============================] - 71s 165ms/step - loss: 0.5236 - accuracy: 0.8095 - val_loss: 0.6410 - val_accuracy: 0.7938\n",
            "Epoch 16/20\n",
            "428/428 [==============================] - 74s 173ms/step - loss: 0.5086 - accuracy: 0.8139 - val_loss: 0.6303 - val_accuracy: 0.7990\n",
            "Epoch 17/20\n",
            "428/428 [==============================] - 71s 166ms/step - loss: 0.4944 - accuracy: 0.8190 - val_loss: 0.6352 - val_accuracy: 0.7970\n",
            "Epoch 18/20\n",
            "428/428 [==============================] - 73s 169ms/step - loss: 0.4851 - accuracy: 0.8227 - val_loss: 0.6232 - val_accuracy: 0.8003\n",
            "Epoch 19/20\n",
            "428/428 [==============================] - 74s 173ms/step - loss: 0.4669 - accuracy: 0.8290 - val_loss: 0.6157 - val_accuracy: 0.8130\n",
            "Epoch 20/20\n",
            "428/428 [==============================] - 73s 171ms/step - loss: 0.4554 - accuracy: 0.8329 - val_loss: 0.6064 - val_accuracy: 0.8140\n"
          ]
        }
      ]
    },
    {
      "cell_type": "code",
      "source": [
        "plt.figure(figsize=(12, 4))\n",
        "\n",
        "plt.subplot(1, 2, 1)\n",
        "plt.title(\"loss of LSTM1\", fontsize=15)\n",
        "plt.plot(lstm1_history.history[\"loss\"],'b-', label=\"loss\")\n",
        "plt.plot(lstm1_history.history[\"val_loss\"], \"r--\", label=\"val_loss\")\n",
        "plt.xlabel(\"Epoch\")\n",
        "plt.legend()\n",
        "\n",
        "plt.subplot(1, 2, 2)\n",
        "plt.title(\"accuracy of LSTM1\", fontsize=15)\n",
        "plt.plot(lstm1_history.history['accuracy'], 'g-', label='accuracy')\n",
        "plt.plot(lstm1_history.history['val_accuracy'],'k--', label='val_accuracy')\n",
        "plt.xlabel('Epoch')\n",
        "plt.legend()\n",
        "plt.show"
      ],
      "metadata": {
        "colab": {
          "base_uri": "https://localhost:8080/",
          "height": 315
        },
        "id": "npC6Ew6ev3Se",
        "outputId": "c8b153fc-df19-4077-80fe-fef06db2e55d"
      },
      "execution_count": 164,
      "outputs": [
        {
          "output_type": "execute_result",
          "data": {
            "text/plain": [
              "<function matplotlib.pyplot.show(*args, **kw)>"
            ]
          },
          "metadata": {},
          "execution_count": 164
        },
        {
          "output_type": "display_data",
          "data": {
            "text/plain": [
              "<Figure size 864x288 with 2 Axes>"
            ],
            "image/png": "[encoded data removed]"
          },
          "metadata": {
            "needs_background": "light"
          }
        }
      ]
    },
    {
      "cell_type": "markdown",
      "source": [
        "뉴스제목이 길이가 긴 데이터는 아니어서 그런지 rnn보다 성능 더 낮음 ..!"
      ],
      "metadata": {
        "id": "_J7QV4Wp2YgF"
      }
    },
    {
      "cell_type": "markdown",
      "source": [
        "#### 양방향 : 정방향 + 역방향"
      ],
      "metadata": {
        "id": "GFvkK0t_tEX8"
      }
    },
    {
      "cell_type": "code",
      "source": [
        "vocab_size = 2000 # 흠 위에서 단방향 lstm 성능 그냥 rnn보다도 낮게 나와서 2000으로 해봄\n",
        "embedding_dim = 200\n",
        "max_len = 13"
      ],
      "metadata": {
        "id": "SgMdUPsow6q2"
      },
      "execution_count": 165,
      "outputs": []
    },
    {
      "cell_type": "code",
      "source": [
        "# 양방향 LSTM 레이어를 사용한 모델 \n",
        "lstm2 = Sequential([Embedding(vocab_size, embedding_dim, input_length =max_len),\n",
        "        tf.keras.layers.Bidirectional(LSTM(units = 64, return_sequences = True)),\n",
        "        tf.keras.layers.Bidirectional(LSTM(units = 64, return_sequences = True)),\n",
        "        tf.keras.layers.Bidirectional(LSTM(units = 64)),\n",
        "        Dense(7, activation='softmax') \n",
        "    ])\n",
        "    \n",
        "lstm2.compile(loss= 'categorical_crossentropy',\n",
        "              optimizer= 'adam',\n",
        "              metrics = ['accuracy']) \n",
        "lstm2.summary()"
      ],
      "metadata": {
        "colab": {
          "base_uri": "https://localhost:8080/"
        },
        "id": "fePqvSzzxCz_",
        "outputId": "1d4db107-c6e2-4664-f9b7-2dff4cd49d20"
      },
      "execution_count": 166,
      "outputs": [
        {
          "output_type": "stream",
          "name": "stdout",
          "text": [
            "Model: \"sequential_9\"\n",
            "_________________________________________________________________\n",
            " Layer (type)                Output Shape              Param #   \n",
            "=================================================================\n",
            " embedding_10 (Embedding)    (None, 13, 200)           400000    \n",
            "                                                                 \n",
            " bidirectional (Bidirectiona  (None, 13, 128)          135680    \n",
            " l)                                                              \n",
            "                                                                 \n",
            " bidirectional_1 (Bidirectio  (None, 13, 128)          98816     \n",
            " nal)                                                            \n",
            "                                                                 \n",
            " bidirectional_2 (Bidirectio  (None, 128)              98816     \n",
            " nal)                                                            \n",
            "                                                                 \n",
            " dense_9 (Dense)             (None, 7)                 903       \n",
            "                                                                 \n",
            "=================================================================\n",
            "Total params: 734,215\n",
            "Trainable params: 734,215\n",
            "Non-trainable params: 0\n",
            "_________________________________________________________________\n"
          ]
        }
      ]
    },
    {
      "cell_type": "code",
      "source": [
        "# 모델 실행\n",
        "lstm2_history = lstm2.fit(train_X, train_y, epochs=20, batch_size = 100, validation_split=0.2)"
      ],
      "metadata": {
        "colab": {
          "base_uri": "https://localhost:8080/"
        },
        "id": "ejfSz82tyLZZ",
        "outputId": "9b7aa222-82d4-4492-f2db-5b840cdf9f93"
      },
      "execution_count": 167,
      "outputs": [
        {
          "output_type": "stream",
          "name": "stdout",
          "text": [
            "Epoch 1/20\n",
            "428/428 [==============================] - 99s 203ms/step - loss: 0.9873 - accuracy: 0.6539 - val_loss: 0.7508 - val_accuracy: 0.7608\n",
            "Epoch 2/20\n",
            "428/428 [==============================] - 76s 178ms/step - loss: 0.7407 - accuracy: 0.7524 - val_loss: 0.7943 - val_accuracy: 0.7587\n",
            "Epoch 3/20\n",
            "428/428 [==============================] - 81s 188ms/step - loss: 0.7018 - accuracy: 0.7611 - val_loss: 0.6976 - val_accuracy: 0.7797\n",
            "Epoch 4/20\n",
            "428/428 [==============================] - 76s 177ms/step - loss: 0.6741 - accuracy: 0.7686 - val_loss: 0.7150 - val_accuracy: 0.7732\n",
            "Epoch 5/20\n",
            "428/428 [==============================] - 76s 179ms/step - loss: 0.6530 - accuracy: 0.7752 - val_loss: 0.6864 - val_accuracy: 0.7783\n",
            "Epoch 6/20\n",
            "428/428 [==============================] - 79s 183ms/step - loss: 0.6326 - accuracy: 0.7783 - val_loss: 0.6564 - val_accuracy: 0.7924\n",
            "Epoch 7/20\n",
            "428/428 [==============================] - 78s 183ms/step - loss: 0.6144 - accuracy: 0.7826 - val_loss: 0.6357 - val_accuracy: 0.7968\n",
            "Epoch 8/20\n",
            "428/428 [==============================] - 79s 184ms/step - loss: 0.5936 - accuracy: 0.7891 - val_loss: 0.6556 - val_accuracy: 0.7862\n",
            "Epoch 9/20\n",
            "428/428 [==============================] - 76s 178ms/step - loss: 0.5752 - accuracy: 0.7937 - val_loss: 0.6572 - val_accuracy: 0.7886\n",
            "Epoch 10/20\n",
            "428/428 [==============================] - 80s 188ms/step - loss: 0.5548 - accuracy: 0.8000 - val_loss: 0.6380 - val_accuracy: 0.7949\n",
            "Epoch 11/20\n",
            "428/428 [==============================] - 81s 190ms/step - loss: 0.5355 - accuracy: 0.8056 - val_loss: 0.6385 - val_accuracy: 0.7946\n",
            "Epoch 12/20\n",
            "428/428 [==============================] - 79s 184ms/step - loss: 0.5166 - accuracy: 0.8141 - val_loss: 0.6219 - val_accuracy: 0.8010\n",
            "Epoch 13/20\n",
            "428/428 [==============================] - 78s 183ms/step - loss: 0.4964 - accuracy: 0.8188 - val_loss: 0.6367 - val_accuracy: 0.7975\n",
            "Epoch 14/20\n",
            "428/428 [==============================] - 79s 184ms/step - loss: 0.4800 - accuracy: 0.8234 - val_loss: 0.6061 - val_accuracy: 0.8140\n",
            "Epoch 15/20\n",
            "428/428 [==============================] - 77s 179ms/step - loss: 0.4588 - accuracy: 0.8306 - val_loss: 0.6156 - val_accuracy: 0.8118\n",
            "Epoch 16/20\n",
            "428/428 [==============================] - 78s 183ms/step - loss: 0.4431 - accuracy: 0.8361 - val_loss: 0.6204 - val_accuracy: 0.8052\n",
            "Epoch 17/20\n",
            "428/428 [==============================] - 79s 184ms/step - loss: 0.4300 - accuracy: 0.8406 - val_loss: 0.6184 - val_accuracy: 0.8145\n",
            "Epoch 18/20\n",
            "428/428 [==============================] - 77s 180ms/step - loss: 0.4102 - accuracy: 0.8481 - val_loss: 0.6262 - val_accuracy: 0.8160\n",
            "Epoch 19/20\n",
            "428/428 [==============================] - 94s 221ms/step - loss: 0.3935 - accuracy: 0.8530 - val_loss: 0.6102 - val_accuracy: 0.8209\n",
            "Epoch 20/20\n",
            "428/428 [==============================] - 77s 180ms/step - loss: 0.3797 - accuracy: 0.8600 - val_loss: 0.6202 - val_accuracy: 0.8222\n"
          ]
        }
      ]
    },
    {
      "cell_type": "code",
      "source": [
        "# 양방향 lstm 학습결과 확인\n",
        "plt.figure(figsize=(12, 4))\n",
        "\n",
        "plt.subplot(1, 2, 1)\n",
        "plt.title('loss of Bidirectional LSTM2', fontsize= 15)\n",
        "plt.plot(lstm2_history.history['loss'], 'b-', label='loss')\n",
        "plt.plot(lstm2_history.history['val_loss'],'r--', label='val_loss')\n",
        "plt.xlabel('Epoch')\n",
        "plt.legend()\n",
        "\n",
        "plt.subplot(1, 2, 2)\n",
        "plt.title('accuracy of Bidirectional LSTM', fontsize= 15)\n",
        "plt.plot(lstm2_history.history['accuracy'], 'g-', label='accuracy')\n",
        "plt.plot(lstm2_history.history['val_accuracy'],'k--', label='val_accuracy')\n",
        "plt.xlabel('Epoch')\n",
        "plt.legend()\n",
        "plt.show"
      ],
      "metadata": {
        "colab": {
          "base_uri": "https://localhost:8080/",
          "height": 315
        },
        "id": "DPkKeC9nyVlP",
        "outputId": "f8899fc4-6fde-4662-d3ae-d0505c10a367"
      },
      "execution_count": 168,
      "outputs": [
        {
          "output_type": "execute_result",
          "data": {
            "text/plain": [
              "<function matplotlib.pyplot.show(*args, **kw)>"
            ]
          },
          "metadata": {},
          "execution_count": 168
        },
        {
          "output_type": "display_data",
          "data": {
            "text/plain": [
              "<Figure size 864x288 with 2 Axes>"
            ],
            "image/png": "[encoded data removed]"
          },
          "metadata": {
            "needs_background": "light"
          }
        }
      ]
    },
    {
      "cell_type": "markdown",
      "source": [
        "vocab_size를 전체 단어에서 빈도수 1인 단어들로 제외하고 돌린 rnn이 가장 성능이 좋다"
      ],
      "metadata": {
        "id": "4avR4xpc8J5Y"
      }
    },
    {
      "cell_type": "markdown",
      "source": [
        "다음시간\n",
        "- 파라미터 튜닝 -> vocab_size => 빈도수 2회까지 삭제한 단어들로로\n",
        "- bert 모델"
      ],
      "metadata": {
        "id": "tf3HvzWDwo35"
      }
    }
  ]
}