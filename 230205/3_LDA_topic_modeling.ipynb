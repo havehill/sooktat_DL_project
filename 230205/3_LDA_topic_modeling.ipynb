{
 "cells": [
  {
   "cell_type": "markdown",
   "metadata": {
    "id": "yRWat4-Cs6-Z"
   },
   "source": [
    "# **3_LDA Topic Modeling**  \n",
    "references :  \n",
    "https://codong.tistory.com/32  \n",
    "https://han-py.tistory.com/283"
   ]
  },
  {
   "cell_type": "markdown",
   "metadata": {
    "id": "sYHyn0gy9mAv"
   },
   "source": [
    "<기본 단어>  \n",
    "**말뭉치(Corpus)** : 특정한 목적을 가지고 수집한 텍스트 데이터  \n",
    "**문서(Document)** : 문장(Sentence)들의 집합  \n",
    "**문장(Sentence)** : 여러개의 토큰(단어, 형태소)로 구성된 문자열, 마침표, 느낌표 등의 기호로 구분  \n",
    "**어휘집합(Vocabulary)** : 코퍼스에 있는 모든 문서, 문장을 토큰화하고 중복을 제거한 토큰의 집합  \n",
    "**토큰(Token)** : 의미를 가진 가장 작은 단위  \n",
    "**토큰화(Tokenization)** : 토큰단위를 나누는 것것"
   ]
  },
  {
   "cell_type": "code",
   "execution_count": null,
   "metadata": {
    "id": "_IeWrR-AqsE1"
   },
   "outputs": [],
   "source": [
    "%%bash\n",
    "apt-get update\n",
    "apt-get install g++ openjdk-8-jdk python-dev python3-dev\n",
    "pip3 install JPype1\n",
    "pip3 install konlpy"
   ]
  },
  {
   "cell_type": "code",
   "execution_count": null,
   "metadata": {
    "id": "awxm1Pz4rRRl"
   },
   "outputs": [],
   "source": [
    "%env JAVA_HOME \"/usr/lib/jvm/java-8-openjdk-amd64\""
   ]
  },
  {
   "cell_type": "code",
   "execution_count": null,
   "metadata": {
    "id": "5aRaa8fVrU6p"
   },
   "outputs": [],
   "source": [
    "%%bash\n",
    "bash <(curl -s https://raw.githubusercontent.com/konlpy/konlpy/master/scripts/mecab.sh)\n",
    "pip3 install /tmp/mecab-python-0.996"
   ]
  },
  {
   "cell_type": "code",
   "execution_count": 4,
   "metadata": {
    "id": "CXLrEDdgrYrr"
   },
   "outputs": [],
   "source": [
    "import konlpy\n",
    "from konlpy.tag import Kkma, Komoran, Hannanum, Okt\n",
    "from konlpy.utils import pprint\n",
    "from konlpy.tag import Mecab"
   ]
  },
  {
   "cell_type": "code",
   "execution_count": 6,
   "metadata": {
    "id": "dybGhiXrrZOe"
   },
   "outputs": [],
   "source": [
    "m = Mecab()"
   ]
  },
  {
   "cell_type": "code",
   "execution_count": 7,
   "metadata": {
    "id": "pzCsdabetRyE"
   },
   "outputs": [],
   "source": [
    "import numpy as np\n",
    "import pandas as pd\n",
    "import matplotlib.pylab as plt\n",
    "import seaborn as sns\n",
    "import sklearn as sk"
   ]
  },
  {
   "cell_type": "code",
   "execution_count": 8,
   "metadata": {
    "id": "RDPzvsVYtUt2"
   },
   "outputs": [],
   "source": [
    "import warnings\n",
    "warnings.filterwarnings(action='ignore')"
   ]
  },
  {
   "cell_type": "code",
   "execution_count": 13,
   "metadata": {
    "colab": {
     "base_uri": "https://localhost:8080/"
    },
    "id": "bQJOwcl5vE61",
    "outputId": "b9f66d87-e7dc-4e17-eeb5-b1d9d3205e38"
   },
   "outputs": [
    {
     "name": "stdout",
     "output_type": "stream",
     "text": [
      "Mounted at /content/gdrive\n"
     ]
    }
   ],
   "source": [
    "from google.colab import auth\n",
    "auth.authenticate_user()\n",
    "\n",
    "from google.colab import drive\n",
    "drive.mount('/content/gdrive', force_remount=False)"
   ]
  },
  {
   "cell_type": "code",
   "execution_count": 14,
   "metadata": {
    "id": "VEFi-nbwtXoY"
   },
   "outputs": [],
   "source": [
    "train = pd.read_csv(\"/content/gdrive/My Drive/Colab Notebooks/NLP_news_topic_classification/preprocessed_train.csv\")\n",
    "test = pd.read_csv(\"/content/gdrive/My Drive/Colab Notebooks/NLP_news_topic_classification/preprocessed_test.csv\")"
   ]
  },
  {
   "cell_type": "code",
   "execution_count": 15,
   "metadata": {
    "id": "JDvGvOMxvmp8"
   },
   "outputs": [],
   "source": [
    "itsci = train[train[\"topic_idx\"]==0]\n",
    "econ = train[train[\"topic_idx\"]==1]\n",
    "society = train[train[\"topic_idx\"]==2]\n",
    "lifestyle = train[train[\"topic_idx\"]==3]\n",
    "world = train[train[\"topic_idx\"]==4]\n",
    "sports = train[train[\"topic_idx\"]==5]\n",
    "politic = train[train[\"topic_idx\"]==6]"
   ]
  },
  {
   "cell_type": "code",
   "execution_count": 16,
   "metadata": {
    "id": "lOP6dzrVvpSk"
   },
   "outputs": [],
   "source": [
    "# 전처리 과정에서 불필요한 컬럼 생겨서 삭제 후 index 컬럼을 컬럼으로\n",
    "train = train.drop(columns=[\"Unnamed: 0\"])\n",
    "test = test.drop(columns=[\"Unnamed: 0\"])\n",
    "train.set_index(\"index\", inplace=True)\n",
    "test.set_index(\"index\", inplace=True)"
   ]
  },
  {
   "cell_type": "markdown",
   "metadata": {
    "id": "pwYNXeSWvrUd"
   },
   "source": [
    "## **Data Augmentation / Oversampling**    \n",
    "references  \n",
    "https://dacon.io/competitions/official/235747/codeshare/3050?page=1&dtype=recent  \n",
    "https://dacon.io/competitions/official/235747/codeshare/3071?page=1&dtype=recent  "
   ]
  },
  {
   "cell_type": "markdown",
   "metadata": {
    "id": "9E442ZYLv73T"
   },
   "source": [
    "### Oversampling"
   ]
  },
  {
   "cell_type": "code",
   "execution_count": 17,
   "metadata": {
    "colab": {
     "base_uri": "https://localhost:8080/",
     "height": 387
    },
    "id": "fcI6aucqwCd3",
    "outputId": "f90b1ff9-25be-49b4-d3e9-f511b3e092b0"
   },
   "outputs": [
    {
     "data": {
      "text/plain": [
       "<seaborn.axisgrid.FacetGrid at 0x7fe79579f1c0>"
      ]
     },
     "execution_count": 17,
     "metadata": {},
     "output_type": "execute_result"
    },
    {
     "data": {
      "image/png": "[encoded data removed]",
      "text/plain": [
       "<Figure size 360x360 with 1 Axes>"
      ]
     },
     "metadata": {
      "needs_background": "light"
     },
     "output_type": "display_data"
    }
   ],
   "source": [
    "# 뉴스토픽별 비율 확인했을 때 차이 많이 안난다고 생각했었는데 아닌가보다 맞춰주는게 좋을 듯\n",
    "# 소수 클래스 데이터 증가시킴 -> 데이터 불균형 처리 -> 정확도 증가\n",
    "sns.displot(train.topic_idx)"
   ]
  },
  {
   "cell_type": "code",
   "execution_count": 18,
   "metadata": {
    "id": "cFpn3lygwGJo"
   },
   "outputs": [],
   "source": [
    "from imblearn.over_sampling import RandomOverSampler"
   ]
  },
  {
   "cell_type": "markdown",
   "metadata": {
    "id": "JFhlPpkHwH6R"
   },
   "source": [
    "**SMOTE 오버샘플링**  \n",
    "불균형 데이터의 문제를 해결  \n",
    "소수 클래스 데이터 사이에 새로운 데이터를 생성하는 방식"
   ]
  },
  {
   "cell_type": "code",
   "execution_count": 19,
   "metadata": {
    "id": "0d6tvgMzwMSG"
   },
   "outputs": [],
   "source": [
    "# SMOTE : 오버샘플링\n",
    "titles_t = train.title.to_numpy().reshape(-1, 1)\n",
    "labels_t = train.topic_idx.to_numpy().reshape(-1, 1)\n",
    "oversample = RandomOverSampler()\n",
    "X_oversample, y_oversample = oversample.fit_resample(titles_t, labels_t)\n",
    "train = pd.DataFrame({\"title\": X_oversample.reshape(-1), 'topic_idx': y_oversample.reshape(-1)})"
   ]
  },
  {
   "cell_type": "code",
   "execution_count": 20,
   "metadata": {
    "colab": {
     "base_uri": "https://localhost:8080/",
     "height": 387
    },
    "id": "4QpntZAbwPVK",
    "outputId": "3de4448b-9c5c-441d-cbb1-6f44d32d9f47"
   },
   "outputs": [
    {
     "data": {
      "text/plain": [
       "<seaborn.axisgrid.FacetGrid at 0x7fe790b233d0>"
      ]
     },
     "execution_count": 20,
     "metadata": {},
     "output_type": "execute_result"
    },
    {
     "data": {
      "image/png": "[encoded data removed]",
      "text/plain": [
       "<Figure size 360x360 with 1 Axes>"
      ]
     },
     "metadata": {
      "needs_background": "light"
     },
     "output_type": "display_data"
    }
   ],
   "source": [
    "# SMOTE로 클래스별 비율 맞춰준 후 distplot\n",
    "sns.displot(train.topic_idx)"
   ]
  },
  {
   "cell_type": "markdown",
   "metadata": {
    "id": "XoCHhmnCwSTH"
   },
   "source": [
    "### Data Augmentation  \n",
    "references https://hong-yp-ml-records.tistory.com/103  \n",
    "  \n",
    "학습데이터 부족해서 데이터를 늘리거나 (크롤링한 데이터가 적을 때), 불균형 데이터의 레이블들의 균형을 잡아주기 위해 사용  \n",
    "1. SR (Synonym Replacement) : 특정 단어를 유의어로 교체\n",
    "2. RI (Random Insertion) : 임의의 단어를 삽입  \n",
    "3. RS (Random Swap) : 텍스트 내 두 단어를 임의로 선정하여 서로 위치 바꾸기\n",
    "4. RD (Random Delete) : 임의의 단어를 삭제  \n",
    "  \n",
    "+SMOTE 모듈로 진행한 oversampling과 다르게 클래스의 비율이 다르더라도 균형이 적절하다 판단되는 선에서 클래스 간 비율을 맞춰줄 수 있는 듯 하다."
   ]
  },
  {
   "cell_type": "markdown",
   "metadata": {
    "id": "kqb5hmQYwffq"
   },
   "source": [
    "## **주제별 토픽 모델링**  \n",
    "references  \n",
    "https://happy-obok.tistory.com/5\n",
    "https://heytech.tistory.com/328\n",
    "https://chaelist.github.io/docs/ml_application/topic_modeling/"
   ]
  },
  {
   "cell_type": "markdown",
   "metadata": {
    "id": "Bhh-yiUEw87X"
   },
   "source": [
    "**텍스트 기반의 문서 데이터에서 핵심 주제를 찾는 데이터 분석 방법론**  \n",
    "- 문서 내에 어떤 토픽이, 어떤 비율로 구성되어 있는지 분석  \n",
    "- 토픽별로 어떤 키워드가 구성되었는지 정보를 제공 -> 키워드 조합을 통해 인사이트 도출 가능  \n",
    "  \n",
    "*토픽별로 단어들이 어떻게 구성되어 있는지 알려주지만, 해당 토픽의 제목은 알려주지 않으므로 단어의 조합을 보고 토픽의 제목을 정해야함*    \n",
    "  \n",
    "**가정**\n",
    "1. 문서 작성 시 사용할 최대 단어 개수 지정  \n",
    "2. 확률 분포 기반하여 전체 문서 내 토픽별 비율 산출   \n",
    "3. 단어가 토픽 분포에서 특정 토픽을 선택할 확률 산출  \n",
    "4. 선택된 토픽에서 특정 단어가 출현할 확률 분포에 기반해 단어 선택   \n",
    "5. 3.4번 과정 반복하여 문서 완성   \n",
    "  \n",
    "  \n",
    "**과정**  \n",
    "1. 토픽 개수 (하이퍼 파라미터) 결정 - k개의 토픽\n",
    "2. 단어의 토픽 할당 : 문서 내의 모든 단어을 k개의 토픽 중 하나로 **임의로** 할당 -> 토픽 내 단어 분포의 결과는 틀린 상태  \n",
    "3. 모든 단어에 대해 토픽을 재할당 : 같은 문서 내, 타 문서 내 단어의 토픽 분포 비교  \n",
    "  \n",
    "scikit-learn, genism 두 가지 방식으로 할 수 있음"
   ]
  },
  {
   "cell_type": "markdown",
   "metadata": {
    "id": "KyplgPkQw_Zh"
   },
   "source": [
    "### **1. Tokenization (한글 형태소 단위로 쪼개기기)**"
   ]
  },
  {
   "cell_type": "code",
   "execution_count": 22,
   "metadata": {
    "id": "4JWID4SGxmuC"
   },
   "outputs": [],
   "source": [
    "import konlpy\n",
    "import re"
   ]
  },
  {
   "cell_type": "code",
   "execution_count": 24,
   "metadata": {
    "id": "_hene6bWxuFy"
   },
   "outputs": [],
   "source": [
    "# tokenization 함수 생성\n",
    "def tokenize_korean_text(text):\n",
    "  okt = konlpy.tag.Okt()\n",
    "  # okt.pos() : 각 품사를 태깅, 품사를 태깅 = 주어진 텍스트를 형태소 단위로 나누고, 나눠진 형태소를 해당 품사와 함께 리스트화\n",
    "  Okt_morphs = okt.pos(text, stem=True)  # stem=True : 동사원형으로 바꿔서 return\n",
    "\n",
    "  words = []\n",
    "  for word, pos in Okt_morphs:\n",
    "    if pos == \"Adjecvie\" or pos == \"Verb\" or pos == \"Noun\":  # 뉴스 특성상 명사, 동사만 남겨도 될 것 같긴 함\n",
    "      words.append(word)\n",
    "\n",
    "  words_str = ' '.join(words)\n",
    "  return words_str\n",
    "  "
   ]
  },
  {
   "cell_type": "code",
   "execution_count": 27,
   "metadata": {
    "id": "6eRsvkZSzRNN"
   },
   "outputs": [],
   "source": [
    "# train의 title 컬럼을 하나씩 tokenize해서 list로 저장\n",
    "tokenized_list = []\n",
    "\n",
    "for text in train[\"title\"]:\n",
    "  tokenized_list.append(tokenize_korean_text(text))"
   ]
  },
  {
   "cell_type": "code",
   "execution_count": 28,
   "metadata": {
    "colab": {
     "base_uri": "https://localhost:8080/"
    },
    "id": "majizL4I3DGk",
    "outputId": "2feaa9dc-6e36-48dd-eaf2-741a70ff874d"
   },
   "outputs": [
    {
     "name": "stdout",
     "output_type": "stream",
     "text": [
      "53403\n"
     ]
    }
   ],
   "source": [
    "print(len(tokenized_list))"
   ]
  },
  {
   "cell_type": "code",
   "execution_count": 29,
   "metadata": {
    "colab": {
     "base_uri": "https://localhost:8080/"
    },
    "id": "9t2qnRUj3He3",
    "outputId": "c528aa3d-c8a4-4991-b41e-d4c855bd936b"
   },
   "outputs": [
    {
     "name": "stdout",
     "output_type": "stream",
     "text": [
      "['인천 핀란드 항공기 결항 휴가 철 여행객 분통', '실리콘밸리 넘어서다 구글 들이다 미국 전역 거점', '이란 외무 긴장 완화 해결 책 미국 경제 전쟁 멈추다 것', '클린턴 측근 한국 기업 특수 관계 조명 공과 사 맞다 물리다', '시진핑 트럼프 중미 무역 협상 조속 타결 희망']\n"
     ]
    }
   ],
   "source": [
    "print(tokenized_list[:5])"
   ]
  },
  {
   "cell_type": "code",
   "execution_count": 31,
   "metadata": {
    "id": "zDZz1zaz0s5J"
   },
   "outputs": [],
   "source": [
    "# 단어가 1-2개만 포함된 corpus는 삭제\n",
    "drop_corpus = []\n",
    "\n",
    "for index in range(len(tokenized_list)):\n",
    "  corpus = tokenized_list[index]\n",
    "  if len(set(corpus.split())) < 3: # 같은 단어 1-2개만 반복되는 corpus도 지우기 위해 set 씀 (중복 제거)\n",
    "    train.drop(index, axis='index', inplace=True)\n",
    "    drop_corpus.append(corpus)\n",
    "\n",
    "for corpus in drop_corpus:\n",
    "  tokenized_list.remove(corpus)\n",
    "\n",
    "train.reset_index(drop=True, inplace=True)"
   ]
  },
  {
   "cell_type": "code",
   "execution_count": 34,
   "metadata": {
    "colab": {
     "base_uri": "https://localhost:8080/"
    },
    "id": "ZyZEEH5j3cyz",
    "outputId": "9be92fd6-5309-41ac-e09d-2d93001c7edf"
   },
   "outputs": [
    {
     "name": "stdout",
     "output_type": "stream",
     "text": [
      "53128\n",
      "53128\n"
     ]
    }
   ],
   "source": [
    "print(len(tokenized_list))\n",
    "print(len(train))"
   ]
  },
  {
   "cell_type": "markdown",
   "metadata": {
    "id": "fLZcFpcrxMUh"
   },
   "source": [
    "### **2. Vectorization & LDA**"
   ]
  },
  {
   "cell_type": "code",
   "execution_count": 39,
   "metadata": {
    "id": "Sx1H2a235ycR"
   },
   "outputs": [],
   "source": [
    "from sklearn.feature_extraction.text import CountVectorizer\n",
    "from sklearn.decomposition import LatentDirichletAllocation"
   ]
  },
  {
   "cell_type": "markdown",
   "metadata": {
    "id": "r1HkWF7G4O0u"
   },
   "source": [
    "#### 1 ) vector화"
   ]
  },
  {
   "cell_type": "markdown",
   "metadata": {
    "id": "tQYH680E6You"
   },
   "source": [
    "**Vectorize (벡터화)**  \n",
    "references : https://velog.io/@ljs7463/%EC%9E%90%EC%97%B0%EC%96%B4%EC%B2%98%EB%A6%ACNLP-%ED%85%8D%EC%8A%A4%ED%8A%B8%EC%A0%84%EC%B2%98%EB%A6%AC%EB%B2%A1%ED%84%B0%ED%99%94  \n",
    "  \n",
    "자연어를 컴퓨터가 이해할 수 있도록 벡터로 만들어주는 것, 크게 두가지 방식  \n",
    "1. 등장 횟수 기반의 단어 표현 : 단어가 문서/문장에 등장하는 횟수 기반으로 벡터화하는 방법   \n",
    "ex ) Bag-of-Words, TR-IDF\n",
    "  \n",
    "2. 분포 기반의 단어 표현 : 타겟 단어 주변에 있는 단어를 벡터화하는 방법   \n",
    "ex ) Word2Vec (Glove, fastText)"
   ]
  },
  {
   "cell_type": "code",
   "execution_count": 41,
   "metadata": {
    "id": "YFqTEp4r4hz4"
   },
   "outputs": [],
   "source": [
    "# LDA는 Count 기반의 Vectorizer만 적용 \n",
    "count_vectorizer = CountVectorizer(max_features=1000, min_df=3, ngram_range=(1,3))\n",
    "  # max_features : 포함시킬 최대 단어 수, 빈도 순으로 최대 1000단어까지만 포함시킴\n",
    "  # min_df : 단어장에 포함되기 위한 최소 빈도, 3개 문서 미만으로 등장하는 단어는 제외\n",
    "  # bigram, trigram까지 포함 -> 1-gram ~ 3-gram\n",
    "\n",
    "feat_vect = count_vectorizer.fit_transform(tokenized_list)"
   ]
  },
  {
   "cell_type": "code",
   "execution_count": 42,
   "metadata": {
    "colab": {
     "base_uri": "https://localhost:8080/"
    },
    "id": "E22SY1tbAGmH",
    "outputId": "4bbe599d-cd7b-4623-c833-18f2e214c421"
   },
   "outputs": [
    {
     "name": "stdout",
     "output_type": "stream",
     "text": [
      "CountVectorizer Shape : (53128, 1000)\n"
     ]
    }
   ],
   "source": [
    "print(\"CountVectorizer Shape :\", feat_vect.shape)"
   ]
  },
  {
   "cell_type": "markdown",
   "metadata": {
    "id": "AxGXW44h4VAn"
   },
   "source": [
    "#### 2 ) 토픽모델링 : LDA"
   ]
  },
  {
   "cell_type": "code",
   "execution_count": 43,
   "metadata": {
    "colab": {
     "base_uri": "https://localhost:8080/"
    },
    "id": "2z9kUzp54hDP",
    "outputId": "fdbf44b2-cb5d-454f-fed5-f4f6d05bef08"
   },
   "outputs": [
    {
     "data": {
      "text/plain": [
       "LatentDirichletAllocation(n_components=7)"
      ]
     },
     "execution_count": 43,
     "metadata": {},
     "output_type": "execute_result"
    }
   ],
   "source": [
    "lda = LatentDirichletAllocation(n_components = 7)  # 토픽의 개수는 우리가 분류해야하는 7개의 토픽으로 설정\n",
    "lda.fit(feat_vect)"
   ]
  },
  {
   "cell_type": "markdown",
   "metadata": {
    "id": "u-J_ZZXM4X6F"
   },
   "source": [
    "#### 3 ) 토픽별 연관어 출력력"
   ]
  },
  {
   "cell_type": "code",
   "execution_count": 48,
   "metadata": {
    "id": "HTcQxrqL3j87"
   },
   "outputs": [],
   "source": [
    "def display_topics(model, feature_names, num_top_words):\n",
    "  for topic_index, topic in enumerate(model.components_):\n",
    "    print(\"Topic #\", topic_index)\n",
    "\n",
    "    # components_array에서 가장 값이 큰 순으로 정렬했을 때, 그 값의 array index를 반환\n",
    "    topic_word_indexes = topic.argsort()[::-1] # components_array에서 값이 큰 순으로 정렬\n",
    "    top_indexes = topic_word_indexes[:num_top_words] # num_top_words 개수 만큼 array index 반환\n",
    "\n",
    "    # top_indexes 대상인 index별로 feature_names에 해당하는 word feature 추출후 join\n",
    "    feature_concat = \" \".join([feature_names[i] for i in top_indexes])\n",
    "    print(feature_concat)"
   ]
  },
  {
   "cell_type": "code",
   "execution_count": 49,
   "metadata": {
    "id": "Y7YtG6pAB-4z"
   },
   "outputs": [],
   "source": [
    "# CountVectorizer 객체 내의 전체 word들의 명칭을 get_features_names()를 통해 추출\n",
    "feature_names = count_vectorizer.get_feature_names()"
   ]
  },
  {
   "cell_type": "code",
   "execution_count": 50,
   "metadata": {
    "colab": {
     "base_uri": "https://localhost:8080/"
    },
    "id": "Aal4aMpaCKfB",
    "outputId": "7eef7174-c22c-4fa4-fd1e-d39f8aa75203"
   },
   "outputs": [
    {
     "name": "stdout",
     "output_type": "stream",
     "text": [
      "Topic # 0\n",
      "미국 되다 이란 중국 하다 세계 기업 확대 맞다 영국 시위 홍콩 찾다 협상 계약\n",
      "Topic # 1\n",
      "하다 대통령 박근혜 박근혜 대통령 한국 일본 청와대 게임 총리 방문 회의 대표 장관 여당 국회\n",
      "Topic # 2\n",
      "개발 기술 서비스 네이버 출시 삼성 사업 투자 하다 증권 전자 축구 결정 카카오 한국\n",
      "Topic # 3\n",
      "대다 전국 코스피 금융 하락 코로나 특징 대출 상승 추진 리그 최고 개막 가능성 소식\n",
      "Topic # 4\n",
      "하다 여행 한국 사망 터키 중국 독일 미국 올해 추다 공격 시리아 모바일 이탈리아 투자\n",
      "Topic # 5\n",
      "갤럭시 서울 삼성 증가 출시 영업 경기 현대 작년 감소 럭시 갤럭시 럭시 노트 연승 강원\n",
      "Topic # 6\n",
      "북한 하다 감독 보다 부산 대회 경기 월드컵 시즌 축제 한국 류현진 김정은 개최 방송\n"
     ]
    }
   ],
   "source": [
    "# Topic별 가장 연관도가 높은 word를 15개만만 추출\n",
    "display_topics(lda, feature_names, 15)"
   ]
  },
  {
   "cell_type": "markdown",
   "metadata": {
    "id": "4Dxn_W57Cjn0"
   },
   "source": [
    "Topic # 0 : 세계, Topic # 1 : 정치, Topic # 2 : IT과학, Topic # 3 : 경제, Topic # 4 : 세계, Topic # 5 : IT과학, Topic # 6 : 스포츠   \n",
    "+럭시는 갤럭시 토큰화하면서 그렇게 됐나  \n",
    "+토픽별로 7가지 토픽이 다 안나오고 세계, IT과학이 2번씩 나옴, 그리고 몇몇 토픽은 한두단어가 주제에 맞지 않게 섞여 있음음\n",
    "\n"
   ]
  },
  {
   "cell_type": "markdown",
   "metadata": {
    "id": "Pa6hIUsLxUhg"
   },
   "source": [
    "### **3. LDA 시각화 : pyLDAvis**"
   ]
  },
  {
   "cell_type": "code",
   "execution_count": null,
   "metadata": {
    "id": "aXMFyeFNEmGy"
   },
   "outputs": [],
   "source": [
    "!pip install pyLDAvis\n",
    "import pyLDAvis.sklearn"
   ]
  },
  {
   "cell_type": "code",
   "execution_count": 56,
   "metadata": {
    "colab": {
     "base_uri": "https://localhost:8080/",
     "height": 860
    },
    "id": "qrFiFcd9E3VX",
    "outputId": "bd67afe6-0579-44ff-cf1c-583fd49ac7e9"
   },
   "outputs": [
    {
     "data": {
      "text/html": [
       "\n",
       "<link rel=\"stylesheet\" type=\"text/css\" href=\"https://cdn.jsdelivr.net/gh/bmabey/pyLDAvis@3.3.1/pyLDAvis/js/ldavis.v1.0.0.css\">\n",
       "\n",
       "\n",
       "<div id=\"ldavis_el23301406319303329929828941515\"></div>\n",
       "<script type=\"text/javascript\">\n",
       "\n",
       "var ldavis_el23301406319303329929828941515_data = {\"mdsDat\": {\"x\": [0.24540239529397972, -0.0883733726796699, -0.35901038338980173, 0.1270104703296744, 0.08307569103821778, -0.08867639077597829, 0.08057159018357817], \"y\": [0.01097993713874892, -0.22765234048739766, -0.02872509063629692, 0.030504711897930487, -0.1211841158674397, 0.3191218425554357, 0.016955055399019255], \"topics\": [1, 2, 3, 4, 5, 6, 7], \"cluster\": [1, 1, 1, 1, 1, 1, 1], \"Freq\": [18.72095193902647, 15.176230933198564, 13.88162883909126, 13.861110996208085, 13.13634422315565, 12.831799989045045, 12.391933080274928]}, \"tinfo\": {\"Term\": [\"\\ub300\\ud1b5\\ub839\", \"\\ubd81\\ud55c\", \"\\uac24\\ub7ed\\uc2dc\", \"\\ud558\\ub2e4\", \"\\ubbf8\\uad6d\", \"\\uc11c\\uc6b8\", \"\\uac1c\\ubc1c\", \"\\uc0bc\\uc131\", \"\\ucd9c\\uc2dc\", \"\\uae30\\uc220\", \"\\ub300\\ub2e4\", \"\\uc774\\ub780\", \"\\ub418\\ub2e4\", \"\\ubc15\\uadfc\\ud61c\", \"\\uacbd\\uae30\", \"\\uc99d\\uac00\", \"\\uc911\\uad6d\", \"\\uac10\\ub3c5\", \"\\ubc15\\uadfc\\ud61c \\ub300\\ud1b5\\ub839\", \"\\uc601\\uc5c5\", \"\\uc138\\uacc4\", \"\\ud604\\ub300\", \"\\uae30\\uc5c5\", \"\\uc791\\ub144\", \"\\uc11c\\ube44\\uc2a4\", \"\\uc5ec\\ud589\", \"\\ub124\\uc774\\ubc84\", \"\\uc804\\uad6d\", \"\\ubcf4\\ub2e4\", \"\\ubd80\\uc0b0\", \"\\ub300\\ud1b5\\ub839\", \"\\ubc15\\uadfc\\ud61c\", \"\\ubc15\\uadfc\\ud61c \\ub300\\ud1b5\\ub839\", \"\\uccad\\uc640\\ub300\", \"\\ud68c\\uc758\", \"\\uc5ec\\ub2f9\", \"\\uad6d\\ud68c\", \"\\ub17c\\uc758\", \"\\uc815\\uc0c1\\ud68c\\ub2f4\", \"\\uad6d\\ubbfc\", \"\\ud3c9\\uc591\", \"\\uacf5\\uc5f0\", \"\\ubc29\\ubb38\", \"\\ubb38\\uc7ac\\uc778\", \"\\ub0a8\\ubd81\", \"\\uc57c\\ub2f9\", \"\\uc544\\uc2dc\\uc548\", \"\\uc544\\uc2dc\\uc548 \\uac8c\\uc784\", \"\\uc5ec\\uc57c\", \"\\uc815\\uc0c1\", \"\\uc120\\uc5b8\", \"\\uc778\\uc0ac\", \"\\ucc38\\uc11d\", \"\\ub300\\uc120\", \"\\ud68c\\ub2f4\", \"\\uc678\\uad50\", \"\\ud611\\uc758\", \"\\uc815\\uce58\", \"\\uac1c\\ud601\", \"\\ubd81\\ubbf8\", \"\\uc704\\uc6d0\\uc7a5\", \"\\uac8c\\uc784\", \"\\uae30\\ub150\", \"\\ucd1d\\ub9ac\", \"\\uc7a5\\uad00\", \"\\uc758\\uc6d0\", \"\\ud558\\ub2e4\", \"\\uc77c\\ubcf8\", \"\\ub300\\ud45c\", \"\\ub3fc\\ub2e4\", \"\\ud55c\\uad6d\", \"\\ubbfc\\uc8fc\", \"\\ubd81\\ud55c\", \"\\ud2b8\\ub7fc\\ud504\", \"\\uac1c\\ubc1c\", \"\\uae30\\uc220\", \"\\uc11c\\ube44\\uc2a4\", \"\\ub124\\uc774\\ubc84\", \"\\uacb0\\uc815\", \"\\uce74\\uce74\\uc624\", \"\\ud68c\\uc7a5\", \"\\ubc1c\\uacac\", \"\\uc560\\ud50c\", \"\\uc8fc\\ub2e4\", \"\\ub274\\uc2a4\", \"\\uc778\\ucc9c\", \"\\ub098\\uc624\\ub2e4\", \"\\ub9cc\\ub4e4\\ub2e4\", \"\\ud559\\uc0dd\", \"\\ubc30\\uad6c\", \"\\ub3c4\\uc804\", \"\\ubcf4\\uc548\", \"\\ud504\\ub85c\\ubc30\\uad6c\", \"\\uc2dc\\uc2a4\\ud15c\", \"\\uae30\\uc220 \\uac1c\\ubc1c\", \"\\ub300\\uc2e0\", \"\\ud50c\\ub7ab\\ud3fc\", \"\\uacfc\\ud559\", \"\\ubc30\\ud130\\ub9ac\", \"\\uc7ac\\ub2e8\", \"\\ubc14\\uc774\\uc624\", \"\\ud074\\ub77c\\uc6b0\\ub4dc\", \"\\uae30\\ub2a5\", \"\\uae30\\ubc18\", \"\\uc13c\\ud130\", \"\\uad6c\\uae00\", \"\\uc0ac\\uc5c5\", \"\\uc790\\uc728\", \"\\ucd95\\uad6c\", \"\\uc81c\\uacf5\", \"\\ub85c\\ubd07\", \"\\uad6c\\ucd95\", \"\\uc5f0\\uad6c\", \"\\uccb4\\ud5d8\", \"\\uc2a4\\ub9c8\\ud2b8\", \"\\uc99d\\uad8c\", \"\\uc0b0\\uc5c5\", \"\\uc804\\uc790\", \"\\ud22c\\uc790\", \"\\uc120\\uc218\", \"\\ud601\\uc2e0\", \"\\ucd9c\\uc2dc\", \"\\uc0bc\\uc131\", \"\\uad6d\\ub0b4\", \"\\ud558\\ub2e4\", \"\\ud55c\\uad6d\", \"\\uac10\\ub3c5\", \"\\uc9c0\\uc6d0\", \"\\uc2dc\\uc791\", \"\\uac24\\ub7ed\\uc2dc\", \"\\uc11c\\uc6b8\", \"\\uc601\\uc5c5\", \"\\ud604\\ub300\", \"\\uc791\\ub144\", \"\\ub7ed\\uc2dc\", \"\\uac24\\ub7ed\\uc2dc \\ub7ed\\uc2dc\", \"\\ub178\\ud2b8\", \"\\uac15\\uc6d0\", \"\\uac24\\ub7ed\\uc2dc \\ub178\\ud2b8\", \"\\uc8fc\\uc758\\ubcf4\", \"\\uc5ed\\ub300\", \"\\uac74\\uc124\", \"\\uc544\\ud30c\\ud2b8\", \"\\uc774\\uc775\", \"\\uc11c\\ub2e4\", \"\\ucda9\\ubd81\", \"\\uc601\\uc5c5 \\uc774\\uc775\", \"\\ud55c\\ud30c\", \"\\uc0bc\\uc131 \\uac24\\ub7ed\\uc2dc\", \"\\ub86f\\ub370\", \"\\ub9e4\\ucd9c\", \"\\ucd5c\\uc800\", \"\\uc2dc\\ud2b8\", \"\\ube0c\\ub809 \\uc2dc\\ud2b8\", \"\\ube0c\\ub809\", \"\\ubd84\\uc591\", \"\\uc601\\ud558\", \"\\ud504\\ub85c\\uc57c\\uad6c\", \"\\uce74\\uba54\\ub77c\", \"\\ud574\\uc81c\", \"\\uc5f0\\ud328\", \"\\uace0\\uac1d\", \"\\uac1c\\uc6d4\", \"\\uc99d\\uac00\", \"\\uac10\\uc18c\", \"\\ub3cc\\ud30c\", \"\\uc5f0\\uc2b9\", \"\\uc5c5\\ubb34\", \"\\uc5f0\\uc18d\", \"\\uc0bc\\uc131\", \"\\ucd9c\\uc2dc\", \"\\uaebe\\ub2e4\", \"\\uacbd\\uae30\", \"\\ud310\\ub9e4\", \"\\ucd5c\\ub300\", \"\\ub9de\\ub2e4\", \"\\ud611\\uc0c1\", \"\\ud655\\ub300\", \"\\uc2dc\\ub300\", \"\\uc774\\ub2dd\", \"\\ucc3e\\ub2e4\", \"\\ub178\\uc870\", \"\\uccad\\ub144\", \"\\uc804\\uc7c1\", \"\\uacf5\\uae09\", \"\\ubb34\\uc5ed\", \"\\uc131\\uacf5\", \"\\uc2e4\\uc810\", \"\\uc7a5\\ube44\", \"\\uc0c1\\uc6a9\", \"\\uc704\\ud5d8\", \"\\uc694\\uae08\", \"\\ubcc0\\uacbd\", \"\\ubca0\\ub124\\uc218\\uc5d8\\ub77c\", \"\\uc774\\ub2dd \\uc2e4\\uc810\", \"\\uc0ac\\uc6a9\", \"\\ud64d\\ucf69\", \"\\ucc28\\ub2e8\", \"\\uae30\\uc5c5\", \"\\uacc4\\uc57d\", \"\\uc18c\\ub4dd\", \"\\uc720\\ub825\", \"\\uc54c\\ud30c\", \"\\uace0\\ubc1c\", \"\\uc774\\ub2e4\", \"\\uc138\\uacc4\", \"\\ud398\\uc774\\uc2a4\\ubd81\", \"\\uc911\\ub2e8\", \"\\ub0b4\\ub2e4\", \"\\uc778\\ud130\\ub137\", \"\\uc774\\ub780\", \"\\ud1b5\\uc2e0\", \"\\uac00\\uc7a5\", \"\\uc2dc\\uc704\", \"\\uace0\\uc6a9\", \"\\ub418\\ub2e4\", \"\\uc601\\uad6d\", \"\\ubbf8\\uad6d\", \"\\uc911\\uad6d\", \"\\uc704\\uae30\", \"\\uac00\\ub2a5\", \"\\ub118\\ub2e4\", \"\\ud558\\ub2e4\", \"\\ud569\\uc758\", \"\\uc9c0\\uc6d0\", \"\\ud55c\\uad6d\", \"\\ub7ec\\uc2dc\\uc544\", \"\\uc55e\\ub450\\ub2e4\", \"\\ucd5c\\ub300\", \"\\ubd80\\uc0b0\", \"\\ub300\\ud68c\", \"\\uc2dc\\uc98c\", \"\\ud648\\ub7f0\", \"\\ub300\\ubd81\", \"\\ud655\\uc815\", \"\\ucd9c\\uc804\", \"\\ub2e4\\uc800\\uc2a4\", \"\\ucc28\\ub2e4\", \"\\ubd81\\ud55c \\uae40\\uc815\\uc740\", \"\\ub0a8\\uc790\", \"\\uc2dc\\ubc94\", \"\\uc6d0\\uc7a5\", \"\\ubc29\\uc1a1\", \"\\ucd94\\uc2e0\\uc218\", \"\\uc787\\ub2e4\", \"\\ub3c4\\ubc1c\", \"\\uc140\\ub7ec\", \"\\uc218\\uc5c5\", \"\\ucd5c\\uace0 \\uc140\\ub7ec\", \"\\ud558\\ub098\", \"\\ub4f1\\uad50\", \"\\ub0a8\\ub2e4\", \"\\uc9d5\\uacc4\", \"\\uc2e0\\ud0dc\\uc6a9\", \"\\uac15\\uc815\\ud638\", \"\\uacb0\\uc758\", \"\\uc9c0\\uad6c\", \"\\ub9e8\\uc720\", \"\\uc0ac\\uc9c4\", \"\\uc6d4\\ub4dc\\ucef5\", \"\\uc9d1\\uc911\", \"\\uc6b0\\uc2b9\", \"\\uc120\\ubc1c\", \"\\uc190\\ud765\\ubbfc\", \"\\ubd81\\ud55c\", \"\\ubcf4\\ub2e4\", \"\\uc778\\uad8c\", \"\\ubcf5\\uadc0\", \"\\uc2b9\\ub9ac\", \"\\ud6c8\\ub828\", \"\\uac10\\ub3c5\", \"\\ub958\\ud604\\uc9c4\", \"\\uae40\\uc815\\uc740\", \"\\uad6d\\uc81c\", \"\\ub450\\uc0b0\", \"\\ucd95\\uc81c\", \"\\uac1c\\ucd5c\", \"\\uacbd\\uae30\", \"\\ud558\\ub2e4\", \"\\ud504\\ub85c\\ub18d\\uad6c\", \"\\uc81c\\uc7ac\", \"\\ud55c\\uad6d\", \"\\ucd5c\\uace0\", \"\\uc911\\uad6d\", \"\\uad50\\uc721\", \"\\ub300\\ub2e4\", \"\\ucf54\\uc2a4\\ud53c\", \"\\ud558\\ub77d\", \"\\uc0c1\\uc2b9\", \"\\uae08\\ub9ac\", \"\\uc18c\\uc2dd\", \"\\ub300\\uad6c\", \"\\uc548\\uc804\", \"\\ub2ec\\ub7ec\", \"\\uc5c5\\uccb4\", \"\\ud68c\\ubcf5\", \"\\uc601\\ud5a5\", \"\\uc6b8\\uc0b0\", \"\\uc81c\\uc548\", \"\\ud658\\uc728\", \"\\ub9c8\\uac10\", \"\\uc5f0\\ud734\", \"\\ucd9c\\ubc1c\", \"\\uc778\\uc218\", \"\\ub5a0\\ub098\\ub2e4\", \"\\uacbd\\ubd81\", \"\\ub9c8\\ub828\", \"\\uacf3\\uacf3\", \"\\ud0dc\\ud48d\", \"\\ucd94\\uc11d\", \"\\ub2ec\\ub7ec \\ud658\\uc728\", \"\\ubc1c\\uc0dd\", \"\\uc9c0\\ubc29\", \"\\ub300\\ucd9c\", \"\\uc774\\uc801\", \"\\uc804\\uad6d\", \"\\ud2b9\\uc9d5\", \"\\ud655\\uc0b0\", \"\\uc2e0\\uccad\", \"\\uc0c1\\uc7a5\", \"\\uc624\\ub974\\ub2e4\", \"\\ucf54\\uc2a4\\ub2e5\", \"\\uc74c\\uc545\", \"\\uc6b0\\ub824\", \"\\ub2e4\\uc2dc\", \"\\ud655\\uc778\", \"\\ub0a0\\uc528\", \"\\uae08\\uc735\", \"\\uac00\\ub2a5\\uc131\", \"\\ucf54\\ub85c\\ub098\", \"\\ub9ac\\uadf8\", \"\\ucd94\\uc9c4\", \"\\uc8fc\\ud0dd\", \"\\uac1c\\ub9c9\", \"\\uc740\\ud589\", \"\\ud589\\uc0ac\", \"\\uac70\\ub798\", \"\\ucd5c\\uace0\", \"\\uc81c\\uc8fc\", \"\\ud2b8\\ub7fc\\ud504\", \"\\uc0ac\\ub9dd\", \"\\ud130\\ud0a4\", \"\\ub3c5\\uc77c\", \"\\uacf5\\uaca9\", \"\\uc2dc\\ub9ac\\uc544\", \"\\ubaa8\\ubc14\\uc77c\", \"\\uc774\\ud0c8\\ub9ac\\uc544\", \"\\uc5ec\\uc131\", \"\\uc778\\uacf5\", \"\\uc0ac\\uc6b0\\ub514\", \"\\uc791\\uac00\", \"\\uc678\\uad6d\\uc778\", \"\\uc5ec\\ud589\", \"\\uc774\\uc6a9\", \"\\uc778\\uacf5 \\uc9c0\\ub2a5\", \"\\uc18c\\uc124\", \"\\uc0ac\\ub78c\", \"\\ub09c\\ubbfc\", \"\\uc774\\ub77c\\ud06c\", \"\\uc790\\uae08\", \"\\uc2dc\\uc124\", \"\\uad50\\uc218\", \"\\uc990\\uae30\\ub2e4\", \"\\ucc38\\uc5ec\", \"\\uc774\\uc57c\\uae30\", \"\\uc2f6\\ub2e4\", \"\\ub178\\ucd1d\", \"\\ubbf8\\uc220\", \"\\uc804\\uc2dc\", \"\\uad00\\uad11\\uac1d\", \"\\ucd5c\\uc18c\", \"\\ucd94\\ub2e4\", \"\\uc720\\ucd9c\", \"\\uc9c1\\uc6d0\", \"\\ud14c\\ub7ec\", \"\\uc9c0\\ub2a5\", \"\\uac00\\ub2e4\", \"\\uc62c\\ud574\", \"\\uac1c\\uc120\", \"\\uc8fc\\uc2dd\", \"\\ud55c\\uad6d\", \"\\uc911\\uad6d\", \"\\ud558\\ub2e4\", \"\\ubbfc\\uc8fc\", \"\\ubaa9\\ud45c\", \"\\ubbf8\\uad6d\", \"\\ud22c\\uc790\", \"\\uad6d\\ub0b4\"], \"Freq\": [1860.0, 1895.0, 1030.0, 4834.0, 2018.0, 809.0, 817.0, 1178.0, 1114.0, 751.0, 667.0, 796.0, 998.0, 757.0, 953.0, 804.0, 1389.0, 845.0, 708.0, 587.0, 597.0, 559.0, 549.0, 524.0, 522.0, 467.0, 512.0, 475.0, 524.0, 417.0, 1859.9535453484525, 756.7707139484958, 707.6762028332074, 505.5219311801076, 364.0137850425094, 341.8731791121149, 330.3219197713684, 308.1692454898892, 302.40556812621804, 302.40492115133753, 289.89085438699976, 275.4512334448886, 372.37941653443715, 272.56374263332674, 271.5989084557268, 268.7130069544789, 263.89990686442735, 258.1240953126424, 255.23622625025519, 235.02039436457096, 229.24028111537885, 217.69292051903176, 197.47785448359807, 208.98168485081047, 194.587655260593, 186.88871549019635, 177.26208919659265, 178.2115747097131, 171.48658521134607, 161.86006411554712, 304.0699049963519, 492.8176652615056, 230.13154905751978, 403.96560288798986, 352.8560026845129, 232.86582185713087, 2524.756387568606, 506.55969959298545, 356.1647429013248, 293.36252958341606, 523.118188697898, 298.77162122687446, 305.72582849354666, 263.38434666020515, 816.7051377788229, 750.4443891430295, 521.4536411301285, 511.70860996364894, 348.0068742420762, 314.8772564758078, 268.1045899925855, 209.63943340240615, 206.71633620790126, 212.53698539101853, 217.3887817816621, 204.76648681186575, 200.82564059083478, 260.94720476039095, 181.3804479711921, 169.68797884634043, 189.05252479406593, 156.04607889416926, 137.53175612058288, 131.68573166937534, 126.81411823948098, 141.31586085493683, 119.01829435142315, 118.04350367998966, 113.17128108643507, 107.3244630633701, 103.4268780108368, 102.4532081455751, 136.26140212497603, 98.55547597560788, 249.95204705002303, 254.21373809382862, 435.2052398561254, 116.79828933509336, 349.5172197103841, 151.20182296376782, 211.550482909828, 136.906275170043, 256.0033268921547, 197.3031995868688, 206.74653328657283, 369.1495942180273, 242.51146246912015, 363.5859432874495, 415.2696388869777, 254.04372974270444, 210.36386966547278, 441.2315646537254, 438.44500047671727, 237.60564826981323, 380.13358243722604, 311.980939448146, 253.69295790915578, 229.5608666839931, 209.75384452876517, 1029.8264474037173, 808.7379016087315, 586.6592483435696, 558.3917421693535, 524.0704048709455, 420.09306900330307, 419.0835833531684, 349.4285005134866, 309.0478838320517, 305.0108453019086, 247.46949020466846, 237.37420259136601, 242.38456872749674, 229.29821013316405, 225.26067783446112, 214.15036565863582, 213.13843895187267, 174.7864186752655, 172.76722473932404, 168.72937722694957, 293.2398134613714, 149.54831157210884, 145.51028245672885, 141.47265029759885, 139.4536924113781, 139.4536924113762, 137.43423040276002, 130.3685374474574, 129.35833765650338, 128.3492193387852, 165.98345062764722, 221.08753118612418, 192.8302648535421, 241.90152630037167, 702.449726404837, 441.61235522094063, 302.0716395837274, 345.2136516992144, 185.0592658737398, 306.7751052260838, 739.2834621965917, 672.7966646498165, 290.9389422359272, 558.9959324203146, 224.02372448315086, 248.74811134556853, 377.26734352888656, 296.14000175813834, 406.29674742887255, 213.05158369909574, 212.03869253352798, 303.83927192446544, 198.85445594673587, 187.70540638543918, 180.6091367309468, 183.62636708696058, 157.29060760229768, 227.71898031681812, 130.9308859903012, 128.90275360105252, 126.87045809322899, 120.7916801547728, 111.66748939551726, 109.63869844322645, 108.62600547430576, 101.52947738019829, 157.82401853622267, 308.6041956980156, 95.44597847532332, 544.3706723753268, 295.31489783178336, 92.39801273847807, 86.31662480441672, 84.29363615461908, 83.27955759776974, 267.7754934090662, 589.6136334956427, 144.13636704633177, 226.9702223868303, 170.2149473428179, 256.62687797784776, 734.370587505459, 212.76740423043765, 191.51139092226245, 313.5730624285065, 161.38138663370825, 775.3242134725134, 330.8808650726719, 1215.3979346217088, 724.8962447477354, 212.94597960297128, 168.41493737408013, 195.06854549168432, 624.8839660914338, 228.06428818575534, 242.8202330434749, 284.93941777235625, 198.24465318139278, 197.17996553467245, 195.53314207666847, 416.73166016802236, 410.74089136510077, 378.77658637104975, 271.87986785342764, 236.91339696016703, 182.96465367657459, 178.96960593583876, 164.98327770543773, 146.94825530998747, 133.01426707607868, 132.014785857585, 131.01539095287967, 126.0196941621754, 301.63402711960777, 125.99251128115942, 122.02385172139131, 115.03124711029272, 114.03252144756568, 115.98936913285354, 109.03735951107774, 291.43742155180263, 108.03787760434588, 107.03856182643281, 103.0425062002534, 102.04402909000939, 98.04798659598792, 105.97117886840047, 95.05022495478863, 96.03974717962919, 94.05119337500008, 393.2058865912539, 153.7159471503465, 224.5681327779659, 185.68802601716766, 267.0480588502495, 1588.915409202109, 468.7570827360276, 147.53973193907535, 189.1893048140396, 246.9307979706431, 191.07414714552056, 591.1304384728936, 341.87788752079194, 339.66861180650204, 278.30812911931275, 191.31653777618322, 363.6847959134362, 324.0680106129613, 394.07835718623016, 680.8087979072335, 201.54767391461888, 208.40792911261278, 351.5416464243701, 213.5537990326608, 219.95257592260538, 185.7688501870935, 666.3402696763284, 382.2231523861367, 315.15601970106553, 292.71664444405593, 243.00837638993997, 252.07168787628734, 224.71707093837844, 232.80404449732364, 204.39395848312057, 204.3930493571424, 198.29667909176266, 217.39027164067295, 156.6337717930489, 144.43901202426767, 141.39189086838516, 139.35762044345958, 137.31586769497605, 135.29469968022917, 135.27793398949646, 128.1811316166141, 124.11681710553007, 114.97069651256665, 113.94054704127821, 111.92292365049299, 110.90656063925951, 107.85864050726069, 106.84194274247844, 102.77580729108742, 298.1853978950147, 98.712350163812, 469.2769284657629, 310.8814012962385, 150.77783596116836, 155.71778712557946, 153.88615508904692, 188.53811896595414, 159.10717443044015, 119.25187056627927, 236.6206900170626, 200.19571258218286, 200.61860628703428, 248.44856346906877, 340.2449913515353, 252.52780110450018, 313.9932886069966, 254.3234103552776, 282.9455837504635, 212.06812326500398, 253.2187755036329, 208.13708704955016, 199.63836216815787, 174.14291076646973, 254.11497448246865, 198.8941385512841, 201.55370733328087, 404.437191099783, 389.31397975382987, 357.05056388500674, 293.5334096671748, 292.5254270287072, 275.38493844100003, 265.30210158887843, 246.14714949823664, 232.03264306404984, 213.84236413500471, 191.70411308894666, 241.8412372762726, 465.4798498537948, 168.5146755089048, 167.50719290436973, 164.47977522971178, 158.43131104833628, 154.40029424762528, 147.34266973519544, 147.34237749673588, 147.34222757969732, 144.3180389949412, 141.29242634919427, 180.3365082969178, 129.19499122131265, 129.1946966602731, 125.16198601845227, 117.09620479644438, 116.08770542681202, 115.07979653025274, 126.00363627321616, 336.2633637532471, 125.76417325935591, 183.36323074310363, 193.7511094672774, 194.4953729696034, 226.54989056672827, 347.4490860434592, 183.06213280232362, 199.3377405319323, 451.7710842638652, 364.4110671285803, 580.2819294804012, 242.8930443837599, 195.48452787708896, 356.8232833176773, 253.13021643394956, 202.45002517977886], \"Total\": [1860.0, 1895.0, 1030.0, 4834.0, 2018.0, 809.0, 817.0, 1178.0, 1114.0, 751.0, 667.0, 796.0, 998.0, 757.0, 953.0, 804.0, 1389.0, 845.0, 708.0, 587.0, 597.0, 559.0, 549.0, 524.0, 522.0, 467.0, 512.0, 475.0, 524.0, 417.0, 1860.8140602367728, 757.631057968909, 708.5365260056207, 506.3825877802819, 364.8748383314356, 342.7341682096001, 331.18249429986525, 309.04227700896126, 303.265989399387, 303.2660178119533, 290.75171239284333, 276.3121498676665, 373.5526924405392, 273.42421702334246, 272.4616609922922, 269.57367454485905, 264.7604773472215, 258.9846494568751, 256.0967374920556, 235.881361399671, 230.10573562558264, 218.55387637130653, 198.33846812523103, 209.8927819011851, 195.45064353294865, 187.7494585510346, 178.12309112529084, 179.08643232292266, 172.34724903251924, 162.72087606594638, 306.2003320914254, 504.5892991502065, 232.08134077491357, 416.4186657120826, 372.56535188560554, 241.02443789413718, 4834.325447585451, 678.3981828545066, 470.5412240946786, 416.13738445232156, 1943.9706575962355, 542.3846164724472, 1895.6066899077791, 703.9289447791871, 817.5643401181125, 751.3035632059804, 522.3141603322348, 512.5699559318823, 348.86680161129124, 315.7363974568507, 268.9640862224808, 210.49869882250096, 207.5754248866028, 213.42286855266227, 218.2959352995884, 205.62660986219925, 201.73045749652337, 262.1390553807908, 182.24044949173722, 170.54734750192043, 190.03893785650615, 156.90542464805918, 138.39139399786794, 132.54483806427135, 127.67270565161273, 142.2930476313282, 119.87733391225406, 118.90291989443963, 114.03081188328363, 108.18426893498594, 104.28658878630188, 103.312137360193, 137.4276216168425, 99.41444211979241, 252.46586472424107, 257.35994386117676, 448.7506110342203, 117.93533931329843, 365.5370417600498, 154.05109160429097, 224.43693607226643, 140.40617197878888, 297.6143830479927, 219.01859813658854, 237.9896565854447, 514.9619918298965, 297.1588269565511, 534.0527816539889, 706.6874764991258, 342.3837540228422, 253.8279490463573, 1114.7451043645588, 1178.4434251699442, 504.06513900863524, 4834.325447585451, 1943.9706575962355, 845.7637184104428, 634.3051191776606, 344.0253310632831, 1030.680240177121, 809.6013173448408, 587.5129465313922, 559.2471040574555, 524.9243973539353, 420.94665095362694, 419.9371583337956, 350.28216144121944, 309.9024481142635, 305.86448271562017, 248.3233995636191, 238.22846456663555, 243.2760822653539, 230.15252880507106, 226.11455676322038, 215.00989125459492, 214.00027242232522, 175.63992522771295, 173.6209395280079, 169.58296787548764, 294.760067126555, 150.40259989823446, 146.3646170576929, 142.32666235668913, 140.30767687601215, 140.30767687601224, 138.2886940896967, 131.22224648810723, 130.21274040743123, 129.20325335617605, 167.568775861182, 225.07233957713458, 195.84004381280636, 253.37667378889174, 804.2044502084299, 508.6884809199575, 336.3688601792115, 395.19509862171094, 193.50179712853844, 370.82006773004076, 1178.4434251699442, 1114.7451043645588, 363.66277290851946, 953.8737065127474, 312.85835328714444, 497.8451147215471, 378.1489008596043, 297.03902102069776, 407.54388987612793, 213.90585014781104, 212.89202375958476, 305.1290449182647, 199.71192914311027, 188.55963029673018, 181.46271123523752, 184.50415586069812, 158.14420055924776, 229.09255072515757, 131.78414163049294, 129.75642810052662, 127.7287149042758, 121.64564855426188, 112.52101620966337, 110.49329861451713, 109.47946842924011, 102.38253791871952, 159.1526211294865, 311.2254437751666, 96.29943549539637, 549.4183359991846, 298.05960717154613, 93.2578675564326, 87.1747976981384, 85.14710391910013, 84.13324325602461, 270.5972619082774, 597.0981540349447, 145.9725155728917, 231.09453910393356, 173.34036509831313, 266.53864335522593, 796.3074983459733, 219.9615892248628, 197.6614059907119, 334.44196835235095, 167.27990110547387, 998.1549297671935, 398.11201324078365, 2018.165905957077, 1389.5788582246619, 257.21920383022905, 182.95285260818738, 260.26066658636256, 4834.325447585451, 398.568853767171, 634.3051191776606, 1943.9706575962355, 303.04566283768486, 328.4831695748783, 497.8451147215471, 417.5953101424552, 411.60117172893484, 379.632153756394, 272.73535292658846, 237.76909234363185, 183.82118972420352, 179.82504461058167, 165.83855138522412, 147.85648973844795, 133.86941085022912, 132.87037119462843, 131.8713337394136, 126.87612927324929, 303.717702928955, 126.87646273202022, 122.88001824445625, 115.88676710659868, 114.8877389543339, 116.88641029344615, 109.89256174198692, 293.72830704755324, 108.89352651379072, 107.89448753765329, 103.89833544765706, 102.8993117487856, 98.90316984898239, 106.89662212441506, 95.90606517282743, 96.90524962972316, 94.90702376477492, 401.7228662648362, 155.83421345300687, 228.81298040428044, 190.87776576098824, 278.8900809927659, 1895.6066899077791, 524.0572411010982, 153.93100057703998, 203.34278205798753, 280.0621913605795, 212.90608776649742, 845.7637184104428, 437.9686283459979, 461.95682919770945, 373.72569332293585, 231.17995228173174, 607.0353719715772, 573.048498446466, 953.8737065127474, 4834.325447585451, 314.8607377224787, 366.90253749849296, 1943.9706575962355, 784.6577053074075, 1389.5788582246619, 268.6650813976482, 667.5915874709268, 383.0758948467859, 316.008971556087, 293.6527813108488, 243.86122689845564, 253.00451518092677, 225.57024077857685, 233.6976737332923, 205.24693689535567, 205.24691612949593, 199.1499369965625, 218.4554114621538, 157.48715183660048, 145.29314064371908, 142.2446832076565, 140.21231929623636, 138.17994150493143, 136.14768165702168, 136.14763715118966, 129.03452062709914, 124.96986592588495, 115.82435133142015, 114.80811676925475, 112.7758789559844, 111.75970989772297, 108.71122543603155, 107.6950498161205, 103.63031184289535, 300.762099469907, 99.56571940845903, 475.51137069557626, 315.9992197832674, 152.39895925545807, 157.47180895416963, 156.399866151333, 193.01627865211069, 162.4608595305457, 120.86305146860765, 277.2928240477436, 233.36922365246173, 238.24745140509174, 324.6563666449708, 515.8949029904201, 337.935419368701, 478.8613658667282, 352.95510365681025, 426.67740455085396, 277.0512071915489, 383.8990346594789, 283.44091957873275, 305.26156611811166, 211.05883731949922, 784.6577053074075, 363.6077923885324, 703.9289447791871, 405.29123874647485, 390.1680366137481, 357.90520360617916, 294.38776498121774, 293.37955349245556, 276.23991111388403, 266.15779512061, 247.0017271726158, 232.88674922546596, 214.7391489787168, 192.5582194636847, 242.97103696149617, 467.7882089784103, 169.3693077942868, 168.3610987968331, 165.33643657314735, 159.2871170715254, 155.25432606504563, 148.19683465071947, 148.19683053359051, 148.19682974983314, 145.17218835958676, 142.14751191085537, 181.45535607961537, 130.04898970188492, 130.04898753578792, 126.0161345862895, 117.95043270112288, 116.94221233393905, 115.93400813448352, 127.02283577273744, 351.3619739276284, 127.00956414888411, 193.64015659387786, 215.5560655748064, 219.93561329462392, 299.8971858381078, 601.2693680495481, 235.60142042666257, 279.41361542654914, 1943.9706575962355, 1389.5788582246619, 4834.325447585451, 542.3846164724472, 305.23932521513433, 2018.165905957077, 706.6874764991258, 504.06513900863524], \"Category\": [\"Default\", \"Default\", \"Default\", \"Default\", \"Default\", \"Default\", \"Default\", \"Default\", \"Default\", \"Default\", \"Default\", \"Default\", \"Default\", \"Default\", \"Default\", \"Default\", \"Default\", \"Default\", \"Default\", \"Default\", \"Default\", \"Default\", \"Default\", \"Default\", \"Default\", \"Default\", \"Default\", \"Default\", \"Default\", \"Default\", \"Topic1\", \"Topic1\", \"Topic1\", \"Topic1\", \"Topic1\", \"Topic1\", \"Topic1\", \"Topic1\", \"Topic1\", \"Topic1\", \"Topic1\", \"Topic1\", \"Topic1\", \"Topic1\", \"Topic1\", \"Topic1\", \"Topic1\", \"Topic1\", \"Topic1\", \"Topic1\", \"Topic1\", \"Topic1\", \"Topic1\", \"Topic1\", \"Topic1\", \"Topic1\", \"Topic1\", \"Topic1\", \"Topic1\", \"Topic1\", \"Topic1\", \"Topic1\", \"Topic1\", \"Topic1\", \"Topic1\", \"Topic1\", \"Topic1\", \"Topic1\", \"Topic1\", \"Topic1\", \"Topic1\", \"Topic1\", \"Topic1\", \"Topic1\", \"Topic2\", \"Topic2\", \"Topic2\", \"Topic2\", \"Topic2\", \"Topic2\", \"Topic2\", \"Topic2\", \"Topic2\", \"Topic2\", \"Topic2\", \"Topic2\", \"Topic2\", \"Topic2\", \"Topic2\", \"Topic2\", \"Topic2\", \"Topic2\", \"Topic2\", \"Topic2\", \"Topic2\", \"Topic2\", \"Topic2\", \"Topic2\", \"Topic2\", \"Topic2\", \"Topic2\", \"Topic2\", \"Topic2\", \"Topic2\", \"Topic2\", \"Topic2\", \"Topic2\", \"Topic2\", \"Topic2\", \"Topic2\", \"Topic2\", \"Topic2\", \"Topic2\", \"Topic2\", \"Topic2\", \"Topic2\", \"Topic2\", \"Topic2\", \"Topic2\", \"Topic2\", \"Topic2\", \"Topic2\", \"Topic2\", \"Topic2\", \"Topic2\", \"Topic2\", \"Topic2\", \"Topic2\", \"Topic2\", \"Topic3\", \"Topic3\", \"Topic3\", \"Topic3\", \"Topic3\", \"Topic3\", \"Topic3\", \"Topic3\", \"Topic3\", \"Topic3\", \"Topic3\", \"Topic3\", \"Topic3\", \"Topic3\", \"Topic3\", \"Topic3\", \"Topic3\", \"Topic3\", \"Topic3\", \"Topic3\", \"Topic3\", \"Topic3\", \"Topic3\", \"Topic3\", \"Topic3\", \"Topic3\", \"Topic3\", \"Topic3\", \"Topic3\", \"Topic3\", \"Topic3\", \"Topic3\", \"Topic3\", \"Topic3\", \"Topic3\", \"Topic3\", \"Topic3\", \"Topic3\", \"Topic3\", \"Topic3\", \"Topic3\", \"Topic3\", \"Topic3\", \"Topic3\", \"Topic3\", \"Topic3\", \"Topic4\", \"Topic4\", \"Topic4\", \"Topic4\", \"Topic4\", \"Topic4\", \"Topic4\", \"Topic4\", \"Topic4\", \"Topic4\", \"Topic4\", \"Topic4\", \"Topic4\", \"Topic4\", \"Topic4\", \"Topic4\", \"Topic4\", \"Topic4\", \"Topic4\", \"Topic4\", \"Topic4\", \"Topic4\", \"Topic4\", \"Topic4\", \"Topic4\", \"Topic4\", \"Topic4\", \"Topic4\", \"Topic4\", \"Topic4\", \"Topic4\", \"Topic4\", \"Topic4\", \"Topic4\", \"Topic4\", \"Topic4\", \"Topic4\", \"Topic4\", \"Topic4\", \"Topic4\", \"Topic4\", \"Topic4\", \"Topic4\", \"Topic4\", \"Topic4\", \"Topic4\", \"Topic4\", \"Topic4\", \"Topic4\", \"Topic4\", \"Topic4\", \"Topic4\", \"Topic4\", \"Topic4\", \"Topic5\", \"Topic5\", \"Topic5\", \"Topic5\", \"Topic5\", \"Topic5\", \"Topic5\", \"Topic5\", \"Topic5\", \"Topic5\", \"Topic5\", \"Topic5\", \"Topic5\", \"Topic5\", \"Topic5\", \"Topic5\", \"Topic5\", \"Topic5\", \"Topic5\", \"Topic5\", \"Topic5\", \"Topic5\", \"Topic5\", \"Topic5\", \"Topic5\", \"Topic5\", \"Topic5\", \"Topic5\", \"Topic5\", \"Topic5\", \"Topic5\", \"Topic5\", \"Topic5\", \"Topic5\", \"Topic5\", \"Topic5\", \"Topic5\", \"Topic5\", \"Topic5\", \"Topic5\", \"Topic5\", \"Topic5\", \"Topic5\", \"Topic5\", \"Topic5\", \"Topic5\", \"Topic5\", \"Topic5\", \"Topic5\", \"Topic5\", \"Topic5\", \"Topic5\", \"Topic5\", \"Topic5\", \"Topic5\", \"Topic5\", \"Topic6\", \"Topic6\", \"Topic6\", \"Topic6\", \"Topic6\", \"Topic6\", \"Topic6\", \"Topic6\", \"Topic6\", \"Topic6\", \"Topic6\", \"Topic6\", \"Topic6\", \"Topic6\", \"Topic6\", \"Topic6\", \"Topic6\", \"Topic6\", \"Topic6\", \"Topic6\", \"Topic6\", \"Topic6\", \"Topic6\", \"Topic6\", \"Topic6\", \"Topic6\", \"Topic6\", \"Topic6\", \"Topic6\", \"Topic6\", \"Topic6\", \"Topic6\", \"Topic6\", \"Topic6\", \"Topic6\", \"Topic6\", \"Topic6\", \"Topic6\", \"Topic6\", \"Topic6\", \"Topic6\", \"Topic6\", \"Topic6\", \"Topic6\", \"Topic6\", \"Topic6\", \"Topic6\", \"Topic6\", \"Topic6\", \"Topic6\", \"Topic6\", \"Topic6\", \"Topic6\", \"Topic6\", \"Topic6\", \"Topic7\", \"Topic7\", \"Topic7\", \"Topic7\", \"Topic7\", \"Topic7\", \"Topic7\", \"Topic7\", \"Topic7\", \"Topic7\", \"Topic7\", \"Topic7\", \"Topic7\", \"Topic7\", \"Topic7\", \"Topic7\", \"Topic7\", \"Topic7\", \"Topic7\", \"Topic7\", \"Topic7\", \"Topic7\", \"Topic7\", \"Topic7\", \"Topic7\", \"Topic7\", \"Topic7\", \"Topic7\", \"Topic7\", \"Topic7\", \"Topic7\", \"Topic7\", \"Topic7\", \"Topic7\", \"Topic7\", \"Topic7\", \"Topic7\", \"Topic7\", \"Topic7\", \"Topic7\", \"Topic7\", \"Topic7\", \"Topic7\", \"Topic7\", \"Topic7\", \"Topic7\", \"Topic7\", \"Topic7\"], \"logprob\": [30.0, 29.0, 28.0, 27.0, 26.0, 25.0, 24.0, 23.0, 22.0, 21.0, 20.0, 19.0, 18.0, 17.0, 16.0, 15.0, 14.0, 13.0, 12.0, 11.0, 10.0, 9.0, 8.0, 7.0, 6.0, 5.0, 4.0, 3.0, 2.0, 1.0, -2.9772, -3.8764, -3.9435, -4.2799, -4.6083, -4.6711, -4.7054, -4.7749, -4.7937, -4.7937, -4.836, -4.8871, -4.5856, -4.8976, -4.9012, -4.9119, -4.9299, -4.9521, -4.9633, -5.0458, -5.0707, -5.1224, -5.2199, -5.1633, -5.2346, -5.275, -5.3279, -5.3225, -5.361, -5.4188, -4.7882, -4.3054, -5.0668, -4.5042, -4.6394, -5.055, -2.6716, -4.2779, -4.6301, -4.8241, -4.2457, -4.8058, -4.7828, -4.9319, -3.5903, -3.6749, -4.039, -4.0578, -4.4434, -4.5434, -4.7042, -4.9502, -4.9642, -4.9365, -4.9139, -4.9737, -4.9931, -4.7313, -5.095, -5.1616, -5.0536, -5.2454, -5.3717, -5.4152, -5.4529, -5.3446, -5.5163, -5.5245, -5.5667, -5.6197, -5.6567, -5.6662, -5.381, -5.705, -4.7743, -4.7574, -4.2198, -5.5351, -4.439, -5.277, -4.9411, -5.3763, -4.7504, -5.0108, -4.9641, -4.3844, -4.8045, -4.3996, -4.2667, -4.7581, -4.9467, -4.206, -4.2124, -4.825, -4.3551, -4.5526, -4.7595, -4.8594, -4.9497, -3.2693, -3.5109, -3.832, -3.8814, -3.9448, -4.1659, -4.1684, -4.3501, -4.4729, -4.4861, -4.6951, -4.7368, -4.7159, -4.7714, -4.7892, -4.8397, -4.8445, -5.0429, -5.0545, -5.0781, -4.5254, -5.1988, -5.2262, -5.2543, -5.2687, -5.2687, -5.2833, -5.3361, -5.3438, -5.3517, -5.0945, -4.8079, -4.9446, -4.7179, -3.6518, -4.116, -4.4958, -4.3623, -4.9857, -4.4803, -3.6007, -3.695, -4.5333, -3.8803, -4.7947, -4.69, -4.272, -4.5141, -4.1979, -4.8434, -4.8482, -4.4884, -4.9124, -4.9701, -5.0086, -4.992, -5.1468, -4.7768, -5.3303, -5.3459, -5.3618, -5.4109, -5.4894, -5.5078, -5.517, -5.5846, -5.1435, -4.4729, -5.6464, -3.9053, -4.5169, -5.6788, -5.7469, -5.7706, -5.7827, -4.6148, -3.8255, -5.2342, -4.7801, -5.0679, -4.6573, -3.6059, -4.8447, -4.95, -4.4569, -5.1212, -3.5517, -4.4032, -3.1021, -3.6189, -4.8439, -5.0785, -4.9316, -3.7674, -4.7753, -4.7126, -4.5527, -4.9154, -4.9208, -4.9292, -4.1188, -4.1333, -4.2143, -4.5459, -4.6835, -4.9419, -4.964, -5.0454, -5.1612, -5.2608, -5.2683, -5.2759, -5.3148, -4.442, -5.315, -5.347, -5.406, -5.4148, -5.3977, -5.4595, -4.4764, -5.4688, -5.4781, -5.5161, -5.5258, -5.5658, -5.4881, -5.5968, -5.5865, -5.6074, -4.1769, -5.1161, -4.7371, -4.9272, -4.5638, -2.7804, -4.0012, -5.1571, -4.9085, -4.6421, -4.8986, -3.7692, -4.3168, -4.3233, -4.5225, -4.8973, -4.255, -4.3703, -4.1747, -3.628, -4.8452, -4.8117, -4.2889, -4.7874, -4.7578, -4.9267, -3.626, -4.1818, -4.3747, -4.4486, -4.6347, -4.5981, -4.7129, -4.6776, -4.8077, -4.8077, -4.838, -4.7461, -5.0739, -5.1549, -5.1762, -5.1907, -5.2055, -5.2203, -5.2205, -5.2743, -5.3066, -5.3831, -5.3921, -5.41, -5.4191, -5.447, -5.4564, -5.4952, -4.4301, -5.5356, -3.9766, -4.3884, -5.112, -5.0797, -5.0916, -4.8885, -5.0582, -5.3465, -4.6613, -4.8285, -4.8264, -4.6125, -4.2981, -4.5963, -4.3784, -4.5892, -4.4825, -4.7709, -4.5935, -4.7896, -4.8313, -4.9679, -4.59, -4.835, -4.8217, -4.0904, -4.1285, -4.215, -4.4109, -4.4144, -4.4747, -4.512, -4.587, -4.646, -4.7277, -4.8369, -4.6046, -3.9498, -4.9659, -4.9719, -4.9901, -5.0276, -5.0534, -5.1001, -5.1001, -5.1001, -5.1209, -5.1421, -4.8981, -5.2316, -5.2316, -5.2633, -5.3299, -5.3386, -5.3473, -5.2566, -4.275, -5.2585, -4.8814, -4.8263, -4.8225, -4.6699, -4.2423, -4.8831, -4.7979, -3.9797, -4.1946, -3.7294, -4.6003, -4.8174, -4.2157, -4.559, -4.7824], \"loglift\": [30.0, 29.0, 28.0, 27.0, 26.0, 25.0, 24.0, 23.0, 22.0, 21.0, 20.0, 19.0, 18.0, 17.0, 16.0, 15.0, 14.0, 13.0, 12.0, 11.0, 10.0, 9.0, 8.0, 7.0, 6.0, 5.0, 4.0, 3.0, 2.0, 1.0, 1.6751, 1.6744, 1.6743, 1.6738, 1.6732, 1.673, 1.6729, 1.6727, 1.6727, 1.6727, 1.6726, 1.6724, 1.6724, 1.6724, 1.6724, 1.6723, 1.6723, 1.6722, 1.6722, 1.6719, 1.6718, 1.6716, 1.6712, 1.6712, 1.6711, 1.6709, 1.6707, 1.6706, 1.6705, 1.6702, 1.6685, 1.6519, 1.6671, 1.6452, 1.6212, 1.6411, 1.0259, 1.3834, 1.397, 1.3259, 0.3628, 1.0792, -0.1491, 0.6925, 1.8844, 1.8843, 1.8838, 1.8838, 1.883, 1.8827, 1.8822, 1.8813, 1.8813, 1.8813, 1.8813, 1.8812, 1.8809, 1.8809, 1.8807, 1.8804, 1.8802, 1.8799, 1.8792, 1.8789, 1.8787, 1.8785, 1.8782, 1.8782, 1.8779, 1.8775, 1.8772, 1.8771, 1.8769, 1.8768, 1.8754, 1.8731, 1.8548, 1.8758, 1.8406, 1.8668, 1.8263, 1.8602, 1.7348, 1.781, 1.7447, 1.5525, 1.6822, 1.501, 1.3538, 1.587, 1.6976, 0.9586, 0.8967, 1.1333, -0.6575, 0.0559, 0.6813, 0.8691, 1.3907, 1.9738, 1.9735, 1.9731, 1.9731, 1.973, 1.9726, 1.9726, 1.9722, 1.9718, 1.9718, 1.9712, 1.971, 1.9709, 1.9709, 1.9708, 1.9706, 1.9706, 1.9697, 1.9697, 1.9696, 1.9694, 1.9689, 1.9687, 1.9686, 1.9685, 1.9685, 1.9684, 1.9681, 1.968, 1.968, 1.9651, 1.9567, 1.9591, 1.9283, 1.8393, 1.8332, 1.8671, 1.8394, 1.93, 1.785, 1.5083, 1.4697, 1.7515, 1.4402, 1.6406, 1.2808, 1.9737, 1.9731, 1.973, 1.9721, 1.9721, 1.9718, 1.9718, 1.9715, 1.9714, 1.9713, 1.9707, 1.9701, 1.9696, 1.9695, 1.9693, 1.969, 1.9685, 1.9683, 1.9683, 1.9677, 1.9677, 1.9676, 1.9672, 1.9669, 1.9668, 1.9668, 1.9662, 1.966, 1.9659, 1.9656, 1.9635, 1.9634, 1.9581, 1.9579, 1.9382, 1.8951, 1.9428, 1.9445, 1.9117, 1.9402, 1.7235, 1.7911, 1.469, 1.3254, 1.7872, 1.8933, 1.6878, -0.0698, 1.4178, 1.0159, 0.0559, 1.5517, 1.4657, 1.0415, 2.0277, 2.0277, 2.0275, 2.0266, 2.0262, 2.0251, 2.025, 2.0246, 2.0236, 2.0234, 2.0233, 2.0233, 2.023, 2.0229, 2.0228, 2.0228, 2.0224, 2.0223, 2.0221, 2.022, 2.022, 2.0219, 2.0218, 2.0215, 2.0214, 2.0211, 2.0211, 2.0208, 2.0208, 2.0207, 2.0084, 2.0161, 2.0111, 2.0022, 1.9864, 1.8533, 1.9183, 1.9874, 1.9576, 1.9039, 1.9216, 1.6716, 1.7821, 1.7223, 1.735, 1.8405, 1.5175, 1.4598, 1.1458, 0.0696, 1.5837, 1.4642, 0.3196, 0.7284, 0.1864, 1.6608, 2.0514, 2.051, 2.0505, 2.0501, 2.0497, 2.0495, 2.0495, 2.0494, 2.0491, 2.0491, 2.049, 2.0484, 2.0478, 2.0473, 2.0472, 2.0471, 2.047, 2.047, 2.0468, 2.0466, 2.0464, 2.0458, 2.0457, 2.0457, 2.0456, 2.0454, 2.0453, 2.045, 2.0446, 2.0446, 2.04, 2.0369, 2.0425, 2.042, 2.037, 2.0298, 2.0324, 2.0398, 1.8946, 1.8999, 1.8813, 1.7857, 1.637, 1.7619, 1.6312, 1.7255, 1.6425, 1.7859, 1.6371, 1.7444, 1.6286, 1.861, 0.9258, 1.4499, 0.8026, 2.086, 2.0859, 2.0857, 2.0852, 2.0852, 2.085, 2.0849, 2.0847, 2.0845, 2.0839, 2.0837, 2.0835, 2.0832, 2.0831, 2.083, 2.0829, 2.0827, 2.0826, 2.0823, 2.0823, 2.0823, 2.0822, 2.0821, 2.0819, 2.0815, 2.0815, 2.0813, 2.0809, 2.0808, 2.0807, 2.0801, 2.0442, 2.0783, 2.0336, 1.9815, 1.9652, 1.8076, 1.5397, 1.8358, 1.7504, 0.6288, 0.7497, -0.0319, 1.2848, 1.6425, 0.3554, 1.0614, 1.1759]}, \"token.table\": {\"Topic\": [2, 3, 4, 4, 5, 6, 1, 2, 7, 3, 4, 2, 5, 3, 7, 3, 5, 5, 6, 2, 1, 4, 5, 7, 3, 4, 7, 1, 2, 5, 7, 1, 3, 3, 3, 6, 7, 3, 1, 2, 5, 2, 3, 5, 6, 4, 6, 3, 6, 4, 4, 6, 6, 7, 4, 1, 2, 7, 7, 2, 5, 2, 4, 1, 2, 6, 2, 3, 4, 6, 7, 1, 3, 5, 6, 7, 1, 6, 2, 4, 6, 1, 3, 2, 2, 2, 2, 2, 4, 7, 1, 5, 3, 5, 2, 7, 3, 6, 5, 1, 5, 3, 4, 3, 4, 7, 2, 4, 7, 3, 1, 2, 1, 6, 7, 5, 6, 6, 6, 6, 5, 1, 2, 4, 6, 1, 1, 5, 7, 5, 5, 2, 7, 3, 6, 1, 4, 5, 1, 2, 4, 7, 3, 5, 5, 6, 1, 2, 4, 7, 3, 2, 5, 3, 7, 4, 5, 3, 6, 6, 6, 2, 4, 3, 5, 7, 2, 3, 4, 7, 4, 1, 1, 4, 5, 6, 7, 7, 1, 7, 2, 1, 1, 2, 6, 1, 5, 6, 2, 2, 4, 4, 3, 5, 2, 1, 2, 3, 5, 5, 1, 1, 5, 5, 3, 3, 3, 7, 7, 2, 4, 4, 5, 7, 5, 1, 2, 3, 4, 5, 6, 2, 3, 3, 6, 4, 2, 6, 3, 2, 3, 4, 5, 1, 2, 4, 7, 1, 2, 4, 3, 4, 5, 2, 6, 5, 4, 7, 6, 4, 5, 5, 2, 4, 3, 5, 4, 7, 5, 7, 2, 4, 7, 2, 3, 4, 5, 5, 3, 6, 7, 5, 4, 7, 1, 1, 3, 6, 4, 1, 4, 5, 6, 2, 1, 1, 3, 6, 6, 1, 7, 1, 5, 7, 3, 2, 7, 3, 5, 3, 5, 3, 5, 6, 3, 4, 5, 7, 3, 3, 3, 6, 3, 5, 6, 3, 4, 6, 7, 1, 7, 4, 4, 5, 6, 3, 5, 6, 5, 4, 5, 1, 4, 1, 5, 4, 4, 7, 2, 4, 6, 1, 6, 1, 7, 4, 4, 1, 2, 4, 7, 1, 4, 7, 7, 7, 3, 6, 7, 7, 7, 4, 5, 1, 6, 2, 3, 4, 5, 1, 2, 5, 6, 5, 7, 2, 7, 3, 1, 4, 4, 2, 3, 6, 7, 2, 3, 4, 1, 1, 1, 2, 3, 6, 4, 5, 7, 3, 6, 7, 2, 2, 6, 7, 3, 3, 4, 6, 1, 4, 5, 6, 7, 4, 5, 7, 2, 3, 6, 7, 2, 6, 7, 5, 2, 7, 6, 2, 3, 4, 5, 6, 7, 6, 7, 2, 4, 5, 5, 5, 4, 1, 7, 1, 4, 4, 1, 2, 3, 1, 7, 1, 2, 3, 4, 5, 6, 5, 3, 4, 6, 7, 3, 2, 7, 6, 5, 1, 2, 6, 1, 2, 6, 3, 5, 6, 7, 6, 2, 3, 5, 3, 3, 2, 2, 4, 5, 6, 7, 2, 6, 6, 2, 6, 7, 5, 7, 3, 4, 2, 4, 6, 7, 1, 4, 5, 6, 7, 4, 6, 2, 3, 4, 7, 4, 7, 1, 3, 5, 2, 3, 2, 4, 5, 1, 2, 4, 5, 6, 7, 6, 2, 1, 2, 3, 4, 5, 6, 7, 3, 1, 4, 7, 3, 6, 1, 2, 3, 6, 1, 2, 3, 4, 1, 5, 4, 7, 4, 6, 1, 2, 4, 6, 5, 6, 1, 6, 1, 2, 2, 4, 5], \"Freq\": [0.07105655809500197, 0.005465889084230921, 0.9182693661507947, 0.002959145276538652, 0.24856820322924675, 0.748663754964279, 0.010003428313660391, 0.230078851214189, 0.7569260757336363, 0.025295782830943487, 0.9713580607082298, 0.30032028387003434, 0.6987767234928752, 0.8689011380809093, 0.12974541880846158, 0.9970879606800306, 0.9908681405220737, 0.33863070303188153, 0.6590274451312772, 0.9993097300231675, 0.02546673950069696, 0.11884478433658582, 0.07640021850209089, 0.7767355547712573, 0.9550997587158692, 0.01578677287133668, 0.02368015930700502, 0.19893604172954626, 0.21987667770107744, 0.565397171231342, 0.01570547697864839, 0.9921829385726659, 0.9993400085200002, 0.9971736413854108, 0.9977683367256329, 0.8244146618537472, 0.1705685507283615, 0.9947545921758062, 0.9770322137831214, 0.021799907406925632, 0.9916122501666003, 0.997515379487851, 0.5860314590740107, 0.41305258474983936, 0.9922392016771456, 0.9897349151044637, 0.006710067221047211, 0.9854981455400357, 0.010212416015958918, 0.9865303747702194, 0.9624587229907898, 0.02989002245313012, 0.9929611529916571, 0.9986828087735151, 0.997267509458818, 0.9952512045948941, 0.9924062428808205, 0.9919436225011726, 0.9919255308276866, 0.30521271902332825, 0.6923117772968177, 0.9869445733832256, 0.007771217113253745, 0.007122194031121864, 0.9757405822636953, 0.014244388062243728, 0.4721611981897498, 0.09919352903146005, 0.02579031754817961, 0.001983870580629201, 0.40074185728709855, 0.9958253884787767, 0.11773340925206248, 0.7438610857289402, 0.05886670462603124, 0.0775970197343139, 0.9964294782477404, 0.9964683729783158, 0.33533961858741707, 0.0038767585963863246, 0.6590489613856751, 0.99103184785143, 0.004308834121093174, 0.9896118291210569, 0.9958311678770674, 0.9982649314207724, 0.9947310143685028, 0.003640213420185103, 0.9901380502903481, 0.005460320130277655, 0.26409394187738294, 0.7359995101500836, 0.8001918856654651, 0.197985621195579, 0.9963790420862156, 0.9919208301833721, 0.23101348904707156, 0.7638846037823166, 0.9917096085437995, 0.9983055928286907, 0.9934494711890771, 0.01153799346658618, 0.9807294446598253, 0.238222705002665, 0.7492488302503173, 0.011526905080774114, 0.9988880426461085, 0.996435219737925, 0.991936472344391, 0.9963396324952888, 0.9966273966816164, 0.9940634016029211, 0.09855626907450347, 0.8570110354304651, 0.042850551771523256, 0.9949435678361886, 0.9939246991247844, 0.9934576633353281, 0.9974720035027289, 0.9976159264124997, 0.9967653813367789, 0.9957464859291569, 0.9909127841953431, 0.006649774035774449, 0.9908163313303929, 0.9995625246744593, 0.7565755809917485, 0.12963795067555242, 0.11263625222629964, 0.9985394314442556, 0.9923479864980357, 0.9945330263985656, 0.9974708285963475, 0.8978238943970606, 0.1010795112897353, 0.704094395137359, 0.26914188483066287, 0.024030525431309183, 0.17331978718008234, 0.0030055454424291733, 0.7764325726275364, 0.04608503011724732, 0.16869974932978585, 0.8261962082561307, 0.9917944937371685, 0.991982605723868, 0.08909548398474043, 0.023098829181229002, 0.6533668825547632, 0.23098829181229, 0.9977511379375928, 0.9445860548182592, 0.05346713517839203, 0.9940288142023007, 0.0033925898095641662, 0.21691051333692654, 0.7808778480129356, 0.27765571027211605, 0.7196382694807906, 0.9913536891599731, 0.9928827459688391, 0.99565476659273, 0.9969617765462425, 0.9973231852474168, 0.9906584046459594, 0.9955114700519403, 0.22277601338580222, 0.11138800669290111, 0.02620894275127085, 0.6388429795622269, 0.9927648275738123, 0.9984485023749515, 0.11049636669699188, 0.6020317737078257, 0.03617145636269241, 0.07432491033429947, 0.17689328659563272, 0.9919421007676064, 0.5512693223945614, 0.4480215563273525, 0.9876629507084724, 0.9991670642824481, 0.9992427687410198, 0.9976308698092169, 0.9935461303253285, 0.995843444654635, 0.9943444095869617, 0.003292531157572721, 0.9967906419540518, 0.9909602337626192, 0.9956204717092684, 0.9955354883897699, 0.10495036741490174, 0.894940405774344, 0.9942294879218481, 0.05409584686838363, 0.009835608521524297, 0.004917804260762148, 0.929465005284046, 0.998574432882754, 0.9955698612041995, 0.16142589157821913, 0.8382540579012752, 0.9935055301677409, 0.9906811319740946, 0.990679933520902, 0.9906799335209026, 0.991919515556632, 0.9968140472257221, 0.9693580115634166, 0.028969319885803254, 0.9927577621951401, 0.006283276975918609, 0.996557921635472, 0.9904430280416024, 0.003365203753971658, 0.8177445122151129, 0.10768652012709305, 0.01682601876985829, 0.013460815015886632, 0.04374764880163155, 0.37167673105464155, 0.6270984115282651, 0.9965623441859109, 0.9977770300423009, 0.9942948231740848, 0.01278773472903611, 0.9846555741357804, 0.9953030474612021, 0.9974839657201733, 0.999257267333985, 0.020955819469349234, 0.9744456053247393, 0.049651888561470243, 0.7418576290949084, 0.07885888183292333, 0.12559007106724826, 0.9951946629119153, 0.004365048085739376, 0.9952309635485778, 0.008373832620670568, 0.9881122492391271, 0.0016747665241341136, 0.9902328787024953, 0.007921863029619962, 0.9922729878539366, 0.9865119416796504, 0.9919168659924753, 0.9960296551221293, 0.03944206248154565, 0.9573664256884263, 0.9924164811698744, 0.8697856998070058, 0.13025776180684628, 0.11426033569379619, 0.8819469661364893, 0.9957651922694724, 0.9987062714905068, 0.9933925462440882, 0.9919240529513791, 0.9958894056363994, 0.9388773829640473, 0.05980110719516225, 0.6104201668840796, 0.1802192873657759, 0.20347338896135986, 0.005813525398895996, 0.9983348255669627, 0.990678750314791, 0.990653508307649, 0.006350343001972109, 0.9912602744031841, 0.9940498028003129, 0.9919339046334424, 0.9971276779871333, 0.9961980393087387, 0.9949923261280036, 0.9970146312449455, 0.9865279749245492, 0.17961346414295012, 0.599726312477308, 0.00913288800726865, 0.21005642416717896, 0.9972278756653532, 0.9978719192598179, 0.03617537461603043, 0.95606347199509, 0.005167910659432919, 0.9939247996851304, 0.9978579077381303, 0.9959444527611916, 0.9957174874510473, 0.002137719550870836, 0.9940395911549387, 0.9948433342385417, 0.8601734814634882, 0.13776215914063678, 0.8278947843337806, 0.1698937179577465, 0.8729865355193619, 0.12398939200130069, 0.9819065302080847, 0.013329047921376716, 0.9914608336631165, 0.13564021733586837, 0.8314242951513413, 0.002511855876590155, 0.03014227051908186, 0.9991269187608195, 0.9963566072640756, 0.9906856762415053, 0.9933377184276988, 0.01554273049376913, 0.005180910164589709, 0.9791920211074551, 0.09313629294247577, 0.15966221647281562, 0.1696411050023666, 0.5771123866256981, 0.9960081986024429, 0.9960034867791668, 0.9953696098096684, 0.14064554369169352, 0.0036062959920947052, 0.8546921501264452, 0.0174815257112274, 0.9833358212565413, 0.9969067201297417, 0.993094609062652, 0.019914226129029936, 0.9782863585885956, 0.17106032265398455, 0.8280874710295161, 0.9928140767307579, 0.0032658357787195983, 0.9946923826545766, 0.986523654437302, 0.9920512745977093, 0.0776175861717417, 0.18345974913320767, 0.7338389965328307, 0.008273827177528567, 0.9845854341258995, 0.96670695318596, 0.029042698164385067, 0.9958099709710492, 0.9962636409831604, 0.003695528893928585, 0.00739105778785717, 0.9904017435728608, 0.9919240201483368, 0.00627898143667566, 0.9217544749039869, 0.0703245920907674, 0.9919338881117835, 0.9978195116984515, 0.9950708314441361, 0.9943181306596277, 0.9956499672681564, 0.9961923586102898, 0.997855212401121, 0.038978503209281076, 0.9614697458289332, 0.9974657215854386, 0.9915706421704901, 0.9969526810629268, 0.01875900596273507, 0.9642129064845827, 0.01875900596273507, 0.7473486999429866, 0.12234702582893076, 0.014740605521557922, 0.11497672306815179, 0.9928383942562121, 0.9919240477054654, 0.9920690497119471, 0.9971010353895073, 0.9982389895409794, 0.9474847787466479, 0.05099776429514536, 0.9941703997898232, 0.9890532242197095, 0.012617994794158597, 0.9863065930767303, 0.9919429236446419, 0.681580571254911, 0.3183205964652057, 0.99745010293251, 0.9962635394571187, 0.9958254817762642, 0.9939334749772465, 0.9801942876709483, 0.012982705796966204, 0.9910997818755253, 0.4061023971539363, 0.5669080443491191, 0.02452967499587535, 0.24751944783358953, 0.5472930013209368, 0.2035159904409514, 0.9980186352309386, 0.1252623282031889, 0.1610515648326714, 0.7122058089267025, 0.9946706610575374, 0.16603428826858105, 0.06857937993702261, 0.7652015024551996, 0.056851757302159224, 0.5217408106843726, 0.15832134944905102, 0.0007196424974956864, 0.2619498690884299, 0.9822819737765761, 0.012981700093963561, 0.9919273162405051, 0.00870425424552895, 0.8729123543373317, 0.0012434648922184212, 0.1168856998685316, 0.7165577379580452, 0.1184553442152866, 0.16506072554589116, 0.9905525769283241, 0.11366963096836076, 0.8820763363144795, 0.9939176884476532, 0.3626015194362321, 0.003153056690749844, 0.38309638792610606, 0.07094377554187149, 0.02207139683524891, 0.15922936288286713, 0.0516421809189766, 0.9450519108172718, 0.006417076056931224, 0.006417076056931224, 0.9882297127674085, 0.9913537070272928, 0.9942072901908936, 0.9865063020493149, 0.9932515959315269, 0.9919795363936416, 0.0032773019044053026, 0.996299778939212, 0.9970320778851257, 0.9992444689262343, 0.8994669935616295, 0.09588226834920924, 0.9701774518420146, 0.028817152034911326, 0.057349847832527466, 0.04205655507718681, 0.2485160072742857, 0.05607540676958241, 0.27273038747024175, 0.32370802998804393, 0.9918778693676963, 0.500155555687776, 0.39369674262973536, 0.10645881305804068, 0.9919476229095732, 0.997508844247861, 0.03984494919442717, 0.9562787806662523, 0.9932022917881747, 0.9930919989953423, 0.014062146099149443, 0.3234293602804372, 0.6632645576765488, 0.027357008613546528, 0.9574953014741285, 0.016414205168127916, 0.001647350461229502, 0.5996355678875387, 0.29981778394376934, 0.09884102767377012, 0.9915703180322022, 0.39560613298354375, 0.6037254591789681, 0.9954119593721312, 0.9953258357524367, 0.9906871280333861, 0.9976676827163985, 0.03967745438308733, 0.21091699435220107, 0.08561976998455686, 0.6557221408573379, 0.00835314829117628, 0.018465986260745738, 0.9786972718195242, 0.9971914316164001, 0.9872992913154212, 0.9931201692847172, 0.9970063241882, 0.09742244990416275, 0.8999978705432179, 0.027277489770572205, 0.9683508868553132, 0.587246857770676, 0.04528168541846176, 0.00849031601596158, 0.3580083253397133, 0.3736172549098681, 0.2628106165715802, 0.002841195854827894, 0.2869607813376173, 0.0752916901529392, 0.012658259101853028, 0.984179645169073, 0.18538741059845393, 0.715978965069891, 0.01917800799294351, 0.07671203197177404, 0.9864870755624766, 0.0068506046914060875, 0.9974145899721214, 0.35888882436526365, 0.6415534736440996, 0.9971718328245616, 0.9906864688997666, 0.9926814028672323, 0.0034045067363497406, 0.9907114602777745, 0.522306581833694, 0.07860455488982326, 0.12928380738457773, 0.1408676365262359, 0.008894725948058948, 0.11997537325288814, 0.9968071426861124, 0.9931933360831978, 0.2690369826089359, 0.16049624966345696, 0.007716165849204661, 0.14660715113488856, 0.1810726919280027, 0.0030864663396818646, 0.23251379758936713, 0.9964235907852133, 0.4240170761027992, 0.572046706221528, 0.0025089767816733684, 0.9906380180130837, 0.005967698903693276, 0.11465577027950455, 0.11137989112866156, 0.11793164943034753, 0.6551758301685975, 0.16940608850031244, 0.8273320601178049, 0.9977700303704614, 0.9965020722963353, 0.9936948594469379, 0.9973037858176516, 0.9928494156898873, 0.006426209810290532, 0.9962117212048077, 0.9908204146387045, 0.004197316672654356, 0.15110340021555682, 0.004197316672654356, 0.8436606512035255, 0.995532671040615, 0.9912497031200848, 0.997694335895739, 0.994225772732319, 0.9976023604821964, 0.9964155577942726, 0.023484532793086214, 0.07515050493787588, 0.8971091526958933], \"Term\": [\"\\uac00\\ub2a5\", \"\\uac00\\ub2a5\", \"\\uac00\\ub2a5\", \"\\uac00\\ub2a5\\uc131\", \"\\uac00\\ub2a5\\uc131\", \"\\uac00\\ub2a5\\uc131\", \"\\uac00\\ub2e4\", \"\\uac00\\ub2e4\", \"\\uac00\\ub2e4\", \"\\uac00\\uc7a5\", \"\\uac00\\uc7a5\", \"\\uac10\\ub3c5\", \"\\uac10\\ub3c5\", \"\\uac10\\uc18c\", \"\\uac10\\uc18c\", \"\\uac15\\uc6d0\", \"\\uac15\\uc815\\ud638\", \"\\uac1c\\ub9c9\", \"\\uac1c\\ub9c9\", \"\\uac1c\\ubc1c\", \"\\uac1c\\uc120\", \"\\uac1c\\uc120\", \"\\uac1c\\uc120\", \"\\uac1c\\uc120\", \"\\uac1c\\uc6d4\", \"\\uac1c\\uc6d4\", \"\\uac1c\\uc6d4\", \"\\uac1c\\ucd5c\", \"\\uac1c\\ucd5c\", \"\\uac1c\\ucd5c\", \"\\uac1c\\ucd5c\", \"\\uac1c\\ud601\", \"\\uac24\\ub7ed\\uc2dc\", \"\\uac24\\ub7ed\\uc2dc \\ub178\\ud2b8\", \"\\uac24\\ub7ed\\uc2dc \\ub7ed\\uc2dc\", \"\\uac70\\ub798\", \"\\uac70\\ub798\", \"\\uac74\\uc124\", \"\\uac8c\\uc784\", \"\\uac8c\\uc784\", \"\\uacb0\\uc758\", \"\\uacb0\\uc815\", \"\\uacbd\\uae30\", \"\\uacbd\\uae30\", \"\\uacbd\\ubd81\", \"\\uacc4\\uc57d\", \"\\uacc4\\uc57d\", \"\\uace0\\uac1d\", \"\\uace0\\uac1d\", \"\\uace0\\ubc1c\", \"\\uace0\\uc6a9\", \"\\uace0\\uc6a9\", \"\\uacf3\\uacf3\", \"\\uacf5\\uaca9\", \"\\uacf5\\uae09\", \"\\uacf5\\uc5f0\", \"\\uacfc\\ud559\", \"\\uad00\\uad11\\uac1d\", \"\\uad50\\uc218\", \"\\uad50\\uc721\", \"\\uad50\\uc721\", \"\\uad6c\\uae00\", \"\\uad6c\\uae00\", \"\\uad6c\\ucd95\", \"\\uad6c\\ucd95\", \"\\uad6c\\ucd95\", \"\\uad6d\\ub0b4\", \"\\uad6d\\ub0b4\", \"\\uad6d\\ub0b4\", \"\\uad6d\\ub0b4\", \"\\uad6d\\ub0b4\", \"\\uad6d\\ubbfc\", \"\\uad6d\\uc81c\", \"\\uad6d\\uc81c\", \"\\uad6d\\uc81c\", \"\\uad6d\\uc81c\", \"\\uad6d\\ud68c\", \"\\uae08\\ub9ac\", \"\\uae08\\uc735\", \"\\uae08\\uc735\", \"\\uae08\\uc735\", \"\\uae30\\ub150\", \"\\uae30\\ub150\", \"\\uae30\\ub2a5\", \"\\uae30\\ubc18\", \"\\uae30\\uc220\", \"\\uae30\\uc220 \\uac1c\\ubc1c\", \"\\uae30\\uc5c5\", \"\\uae30\\uc5c5\", \"\\uae30\\uc5c5\", \"\\uae40\\uc815\\uc740\", \"\\uae40\\uc815\\uc740\", \"\\uaebe\\ub2e4\", \"\\uaebe\\ub2e4\", \"\\ub098\\uc624\\ub2e4\", \"\\ub09c\\ubbfc\", \"\\ub0a0\\uc528\", \"\\ub0a0\\uc528\", \"\\ub0a8\\ub2e4\", \"\\ub0a8\\ubd81\", \"\\ub0a8\\uc790\", \"\\ub0b4\\ub2e4\", \"\\ub0b4\\ub2e4\", \"\\ub118\\ub2e4\", \"\\ub118\\ub2e4\", \"\\ub118\\ub2e4\", \"\\ub124\\uc774\\ubc84\", \"\\ub178\\uc870\", \"\\ub178\\ucd1d\", \"\\ub178\\ud2b8\", \"\\ub17c\\uc758\", \"\\ub274\\uc2a4\", \"\\ub2e4\\uc2dc\", \"\\ub2e4\\uc2dc\", \"\\ub2e4\\uc2dc\", \"\\ub2e4\\uc800\\uc2a4\", \"\\ub2ec\\ub7ec\", \"\\ub2ec\\ub7ec \\ud658\\uc728\", \"\\ub300\\uad6c\", \"\\ub300\\ub2e4\", \"\\ub300\\ubd81\", \"\\ub300\\uc120\", \"\\ub300\\uc2e0\", \"\\ub300\\ucd9c\", \"\\ub300\\ucd9c\", \"\\ub300\\ud1b5\\ub839\", \"\\ub300\\ud45c\", \"\\ub300\\ud45c\", \"\\ub300\\ud45c\", \"\\ub300\\ud68c\", \"\\ub3c4\\ubc1c\", \"\\ub3c4\\uc804\", \"\\ub3c5\\uc77c\", \"\\ub3cc\\ud30c\", \"\\ub3cc\\ud30c\", \"\\ub3fc\\ub2e4\", \"\\ub3fc\\ub2e4\", \"\\ub3fc\\ub2e4\", \"\\ub418\\ub2e4\", \"\\ub418\\ub2e4\", \"\\ub418\\ub2e4\", \"\\ub418\\ub2e4\", \"\\ub450\\uc0b0\", \"\\ub450\\uc0b0\", \"\\ub4f1\\uad50\", \"\\ub5a0\\ub098\\ub2e4\", \"\\ub7ec\\uc2dc\\uc544\", \"\\ub7ec\\uc2dc\\uc544\", \"\\ub7ec\\uc2dc\\uc544\", \"\\ub7ec\\uc2dc\\uc544\", \"\\ub7ed\\uc2dc\", \"\\ub85c\\ubd07\", \"\\ub85c\\ubd07\", \"\\ub86f\\ub370\", \"\\ub86f\\ub370\", \"\\ub958\\ud604\\uc9c4\", \"\\ub958\\ud604\\uc9c4\", \"\\ub9ac\\uadf8\", \"\\ub9ac\\uadf8\", \"\\ub9c8\\uac10\", \"\\ub9c8\\ub828\", \"\\ub9cc\\ub4e4\\ub2e4\", \"\\ub9de\\ub2e4\", \"\\ub9e4\\ucd9c\", \"\\ub9e8\\uc720\", \"\\ubaa8\\ubc14\\uc77c\", \"\\ubaa9\\ud45c\", \"\\ubaa9\\ud45c\", \"\\ubaa9\\ud45c\", \"\\ubaa9\\ud45c\", \"\\ubb34\\uc5ed\", \"\\ubb38\\uc7ac\\uc778\", \"\\ubbf8\\uad6d\", \"\\ubbf8\\uad6d\", \"\\ubbf8\\uad6d\", \"\\ubbf8\\uad6d\", \"\\ubbf8\\uad6d\", \"\\ubbf8\\uc220\", \"\\ubbfc\\uc8fc\", \"\\ubbfc\\uc8fc\", \"\\ubc14\\uc774\\uc624\", \"\\ubc15\\uadfc\\ud61c\", \"\\ubc15\\uadfc\\ud61c \\ub300\\ud1b5\\ub839\", \"\\ubc1c\\uacac\", \"\\ubc1c\\uc0dd\", \"\\ubc29\\ubb38\", \"\\ubc29\\uc1a1\", \"\\ubc29\\uc1a1\", \"\\ubc30\\uad6c\", \"\\ubc30\\ud130\\ub9ac\", \"\\ubca0\\ub124\\uc218\\uc5d8\\ub77c\", \"\\ubcc0\\uacbd\", \"\\ubcf4\\ub2e4\", \"\\ubcf4\\ub2e4\", \"\\ubcf4\\uc548\", \"\\ubcf5\\uadc0\", \"\\ubcf5\\uadc0\", \"\\ubcf5\\uadc0\", \"\\ubcf5\\uadc0\", \"\\ubd80\\uc0b0\", \"\\ubd81\\ubbf8\", \"\\ubd81\\ud55c\", \"\\ubd81\\ud55c\", \"\\ubd81\\ud55c \\uae40\\uc815\\uc740\", \"\\ubd84\\uc591\", \"\\ube0c\\ub809\", \"\\ube0c\\ub809 \\uc2dc\\ud2b8\", \"\\uc0ac\\ub78c\", \"\\uc0ac\\ub9dd\", \"\\uc0ac\\uc5c5\", \"\\uc0ac\\uc5c5\", \"\\uc0ac\\uc6a9\", \"\\uc0ac\\uc6a9\", \"\\uc0ac\\uc6b0\\ub514\", \"\\uc0ac\\uc9c4\", \"\\uc0b0\\uc5c5\", \"\\uc0b0\\uc5c5\", \"\\uc0b0\\uc5c5\", \"\\uc0b0\\uc5c5\", \"\\uc0b0\\uc5c5\", \"\\uc0b0\\uc5c5\", \"\\uc0bc\\uc131\", \"\\uc0bc\\uc131\", \"\\uc0bc\\uc131 \\uac24\\ub7ed\\uc2dc\", \"\\uc0c1\\uc2b9\", \"\\uc0c1\\uc6a9\", \"\\uc0c1\\uc7a5\", \"\\uc0c1\\uc7a5\", \"\\uc11c\\ub2e4\", \"\\uc11c\\ube44\\uc2a4\", \"\\uc11c\\uc6b8\", \"\\uc120\\ubc1c\", \"\\uc120\\ubc1c\", \"\\uc120\\uc218\", \"\\uc120\\uc218\", \"\\uc120\\uc218\", \"\\uc120\\uc218\", \"\\uc120\\uc5b8\", \"\\uc131\\uacf5\", \"\\uc131\\uacf5\", \"\\uc138\\uacc4\", \"\\uc138\\uacc4\", \"\\uc138\\uacc4\", \"\\uc13c\\ud130\", \"\\uc13c\\ud130\", \"\\uc140\\ub7ec\", \"\\uc18c\\ub4dd\", \"\\uc18c\\uc124\", \"\\uc18c\\uc2dd\", \"\\uc190\\ud765\\ubbfc\", \"\\uc190\\ud765\\ubbfc\", \"\\uc218\\uc5c5\", \"\\uc2a4\\ub9c8\\ud2b8\", \"\\uc2a4\\ub9c8\\ud2b8\", \"\\uc2b9\\ub9ac\", \"\\uc2b9\\ub9ac\", \"\\uc2dc\\ub300\", \"\\uc2dc\\ub9ac\\uc544\", \"\\uc2dc\\ubc94\", \"\\uc2dc\\uc124\", \"\\uc2dc\\uc2a4\\ud15c\", \"\\uc2dc\\uc704\", \"\\uc2dc\\uc704\", \"\\uc2dc\\uc791\", \"\\uc2dc\\uc791\", \"\\uc2dc\\uc791\", \"\\uc2dc\\uc791\", \"\\uc2dc\\uc98c\", \"\\uc2dc\\ud2b8\", \"\\uc2e0\\uccad\", \"\\uc2e0\\uccad\", \"\\uc2e0\\ud0dc\\uc6a9\", \"\\uc2e4\\uc810\", \"\\uc2f6\\ub2e4\", \"\\uc544\\uc2dc\\uc548\", \"\\uc544\\uc2dc\\uc548 \\uac8c\\uc784\", \"\\uc544\\ud30c\\ud2b8\", \"\\uc548\\uc804\", \"\\uc54c\\ud30c\", \"\\uc55e\\ub450\\ub2e4\", \"\\uc55e\\ub450\\ub2e4\", \"\\uc55e\\ub450\\ub2e4\", \"\\uc55e\\ub450\\ub2e4\", \"\\uc560\\ud50c\", \"\\uc57c\\ub2f9\", \"\\uc5c5\\ubb34\", \"\\uc5c5\\ubb34\", \"\\uc5c5\\ubb34\", \"\\uc5c5\\uccb4\", \"\\uc5ec\\ub2f9\", \"\\uc5ec\\uc131\", \"\\uc5ec\\uc57c\", \"\\uc5ec\\ud589\", \"\\uc5ec\\ud589\", \"\\uc5ed\\ub300\", \"\\uc5f0\\uad6c\", \"\\uc5f0\\uad6c\", \"\\uc5f0\\uc18d\", \"\\uc5f0\\uc18d\", \"\\uc5f0\\uc2b9\", \"\\uc5f0\\uc2b9\", \"\\uc5f0\\ud328\", \"\\uc5f0\\ud328\", \"\\uc5f0\\ud734\", \"\\uc601\\uad6d\", \"\\uc601\\uad6d\", \"\\uc601\\uad6d\", \"\\uc601\\uad6d\", \"\\uc601\\uc5c5\", \"\\uc601\\uc5c5 \\uc774\\uc775\", \"\\uc601\\ud558\", \"\\uc601\\ud5a5\", \"\\uc624\\ub974\\ub2e4\", \"\\uc624\\ub974\\ub2e4\", \"\\uc624\\ub974\\ub2e4\", \"\\uc62c\\ud574\", \"\\uc62c\\ud574\", \"\\uc62c\\ud574\", \"\\uc62c\\ud574\", \"\\uc678\\uad50\", \"\\uc678\\uad6d\\uc778\", \"\\uc694\\uae08\", \"\\uc6b0\\ub824\", \"\\uc6b0\\ub824\", \"\\uc6b0\\ub824\", \"\\uc6b0\\uc2b9\", \"\\uc6b0\\uc2b9\", \"\\uc6b8\\uc0b0\", \"\\uc6d0\\uc7a5\", \"\\uc6d4\\ub4dc\\ucef5\", \"\\uc6d4\\ub4dc\\ucef5\", \"\\uc704\\uae30\", \"\\uc704\\uae30\", \"\\uc704\\uc6d0\\uc7a5\", \"\\uc704\\uc6d0\\uc7a5\", \"\\uc704\\ud5d8\", \"\\uc720\\ub825\", \"\\uc720\\ucd9c\", \"\\uc740\\ud589\", \"\\uc740\\ud589\", \"\\uc740\\ud589\", \"\\uc74c\\uc545\", \"\\uc74c\\uc545\", \"\\uc758\\uc6d0\", \"\\uc758\\uc6d0\", \"\\uc774\\ub2dd\", \"\\uc774\\ub2dd \\uc2e4\\uc810\", \"\\uc774\\ub2e4\", \"\\uc774\\ub2e4\", \"\\uc774\\ub2e4\", \"\\uc774\\ub77c\\ud06c\", \"\\uc774\\ub780\", \"\\uc774\\ub780\", \"\\uc774\\ub780\", \"\\uc774\\uc57c\\uae30\", \"\\uc774\\uc6a9\", \"\\uc774\\uc775\", \"\\uc774\\uc801\", \"\\uc774\\ud0c8\\ub9ac\\uc544\", \"\\uc778\\uacf5\", \"\\uc778\\uacf5 \\uc9c0\\ub2a5\", \"\\uc778\\uad8c\", \"\\uc778\\uad8c\", \"\\uc778\\uc0ac\", \"\\uc778\\uc218\", \"\\uc778\\ucc9c\", \"\\uc778\\ud130\\ub137\", \"\\uc778\\ud130\\ub137\", \"\\uc778\\ud130\\ub137\", \"\\uc77c\\ubcf8\", \"\\uc77c\\ubcf8\", \"\\uc77c\\ubcf8\", \"\\uc77c\\ubcf8\", \"\\uc787\\ub2e4\", \"\\uc790\\uae08\", \"\\uc790\\uc728\", \"\\uc791\\uac00\", \"\\uc791\\ub144\", \"\\uc7a5\\uad00\", \"\\uc7a5\\uad00\", \"\\uc7a5\\ube44\", \"\\uc7ac\\ub2e8\", \"\\uc804\\uad6d\", \"\\uc804\\uad6d\", \"\\uc804\\uc2dc\", \"\\uc804\\uc790\", \"\\uc804\\uc790\", \"\\uc804\\uc7c1\", \"\\uc815\\uc0c1\", \"\\uc815\\uc0c1\\ud68c\\ub2f4\", \"\\uc815\\uce58\", \"\\uc81c\\uacf5\", \"\\uc81c\\uacf5\", \"\\uc81c\\uc548\", \"\\uc81c\\uc7ac\", \"\\uc81c\\uc7ac\", \"\\uc81c\\uc7ac\", \"\\uc81c\\uc8fc\", \"\\uc81c\\uc8fc\", \"\\uc81c\\uc8fc\", \"\\uc8fc\\ub2e4\", \"\\uc8fc\\uc2dd\", \"\\uc8fc\\uc2dd\", \"\\uc8fc\\uc2dd\", \"\\uc8fc\\uc758\\ubcf4\", \"\\uc8fc\\ud0dd\", \"\\uc8fc\\ud0dd\", \"\\uc8fc\\ud0dd\", \"\\uc911\\uad6d\", \"\\uc911\\uad6d\", \"\\uc911\\uad6d\", \"\\uc911\\uad6d\", \"\\uc911\\uad6d\", \"\\uc911\\ub2e8\", \"\\uc911\\ub2e8\", \"\\uc990\\uae30\\ub2e4\", \"\\uc99d\\uac00\", \"\\uc99d\\uac00\", \"\\uc99d\\uac00\", \"\\uc99d\\uac00\", \"\\uc99d\\uad8c\", \"\\uc99d\\uad8c\", \"\\uc99d\\uad8c\", \"\\uc9c0\\uad6c\", \"\\uc9c0\\ub2a5\", \"\\uc9c0\\ub2a5\", \"\\uc9c0\\ubc29\", \"\\uc9c0\\uc6d0\", \"\\uc9c0\\uc6d0\", \"\\uc9c0\\uc6d0\", \"\\uc9c0\\uc6d0\", \"\\uc9c0\\uc6d0\", \"\\uc9c0\\uc6d0\", \"\\uc9c1\\uc6d0\", \"\\uc9c1\\uc6d0\", \"\\uc9d1\\uc911\", \"\\uc9d1\\uc911\", \"\\uc9d1\\uc911\", \"\\uc9d5\\uacc4\", \"\\ucc28\\ub2e4\", \"\\ucc28\\ub2e8\", \"\\ucc38\\uc11d\", \"\\ucc38\\uc5ec\", \"\\ucc3e\\ub2e4\", \"\\ucc3e\\ub2e4\", \"\\uccad\\ub144\", \"\\uccad\\uc640\\ub300\", \"\\uccb4\\ud5d8\", \"\\uccb4\\ud5d8\", \"\\ucd1d\\ub9ac\", \"\\ucd1d\\ub9ac\", \"\\ucd5c\\uace0\", \"\\ucd5c\\uace0\", \"\\ucd5c\\uace0\", \"\\ucd5c\\uace0\", \"\\ucd5c\\uace0\", \"\\ucd5c\\uace0\", \"\\ucd5c\\uace0 \\uc140\\ub7ec\", \"\\ucd5c\\ub300\", \"\\ucd5c\\ub300\", \"\\ucd5c\\ub300\", \"\\ucd5c\\uc18c\", \"\\ucd5c\\uc800\", \"\\ucd94\\ub2e4\", \"\\ucd94\\ub2e4\", \"\\ucd94\\uc11d\", \"\\ucd94\\uc2e0\\uc218\", \"\\ucd94\\uc9c4\", \"\\ucd94\\uc9c4\", \"\\ucd94\\uc9c4\", \"\\ucd95\\uad6c\", \"\\ucd95\\uad6c\", \"\\ucd95\\uad6c\", \"\\ucd95\\uc81c\", \"\\ucd95\\uc81c\", \"\\ucd95\\uc81c\", \"\\ucd95\\uc81c\", \"\\ucd9c\\ubc1c\", \"\\ucd9c\\uc2dc\", \"\\ucd9c\\uc2dc\", \"\\ucd9c\\uc804\", \"\\ucda9\\ubd81\", \"\\uce74\\uba54\\ub77c\", \"\\uce74\\uce74\\uc624\", \"\\ucf54\\ub85c\\ub098\", \"\\ucf54\\ub85c\\ub098\", \"\\ucf54\\ub85c\\ub098\", \"\\ucf54\\ub85c\\ub098\", \"\\ucf54\\ub85c\\ub098\", \"\\ucf54\\uc2a4\\ub2e5\", \"\\ucf54\\uc2a4\\ub2e5\", \"\\ucf54\\uc2a4\\ud53c\", \"\\ud074\\ub77c\\uc6b0\\ub4dc\", \"\\ud0dc\\ud48d\", \"\\ud130\\ud0a4\", \"\\ud14c\\ub7ec\", \"\\ud14c\\ub7ec\", \"\\ud1b5\\uc2e0\", \"\\ud1b5\\uc2e0\", \"\\ud22c\\uc790\", \"\\ud22c\\uc790\", \"\\ud22c\\uc790\", \"\\ud22c\\uc790\", \"\\ud2b8\\ub7fc\\ud504\", \"\\ud2b8\\ub7fc\\ud504\", \"\\ud2b8\\ub7fc\\ud504\", \"\\ud2b8\\ub7fc\\ud504\", \"\\ud2b8\\ub7fc\\ud504\", \"\\ud2b9\\uc9d5\", \"\\ud2b9\\uc9d5\", \"\\ud310\\ub9e4\", \"\\ud310\\ub9e4\", \"\\ud310\\ub9e4\", \"\\ud310\\ub9e4\", \"\\ud398\\uc774\\uc2a4\\ubd81\", \"\\ud398\\uc774\\uc2a4\\ubd81\", \"\\ud3c9\\uc591\", \"\\ud504\\ub85c\\ub18d\\uad6c\", \"\\ud504\\ub85c\\ub18d\\uad6c\", \"\\ud504\\ub85c\\ubc30\\uad6c\", \"\\ud504\\ub85c\\uc57c\\uad6c\", \"\\ud50c\\ub7ab\\ud3fc\", \"\\ud558\\ub098\", \"\\ud558\\ub098\", \"\\ud558\\ub2e4\", \"\\ud558\\ub2e4\", \"\\ud558\\ub2e4\", \"\\ud558\\ub2e4\", \"\\ud558\\ub2e4\", \"\\ud558\\ub2e4\", \"\\ud558\\ub77d\", \"\\ud559\\uc0dd\", \"\\ud55c\\uad6d\", \"\\ud55c\\uad6d\", \"\\ud55c\\uad6d\", \"\\ud55c\\uad6d\", \"\\ud55c\\uad6d\", \"\\ud55c\\uad6d\", \"\\ud55c\\uad6d\", \"\\ud55c\\ud30c\", \"\\ud569\\uc758\", \"\\ud569\\uc758\", \"\\ud569\\uc758\", \"\\ud574\\uc81c\", \"\\ud574\\uc81c\", \"\\ud589\\uc0ac\", \"\\ud589\\uc0ac\", \"\\ud589\\uc0ac\", \"\\ud589\\uc0ac\", \"\\ud601\\uc2e0\", \"\\ud601\\uc2e0\", \"\\ud604\\ub300\", \"\\ud611\\uc0c1\", \"\\ud611\\uc758\", \"\\ud648\\ub7f0\", \"\\ud64d\\ucf69\", \"\\ud64d\\ucf69\", \"\\ud655\\ub300\", \"\\ud655\\uc0b0\", \"\\ud655\\uc778\", \"\\ud655\\uc778\", \"\\ud655\\uc778\", \"\\ud655\\uc778\", \"\\ud655\\uc815\", \"\\ud658\\uc728\", \"\\ud68c\\ub2f4\", \"\\ud68c\\ubcf5\", \"\\ud68c\\uc758\", \"\\ud68c\\uc7a5\", \"\\ud6c8\\ub828\", \"\\ud6c8\\ub828\", \"\\ud6c8\\ub828\"]}, \"R\": 30, \"lambda.step\": 0.01, \"plot.opts\": {\"xlab\": \"PC1\", \"ylab\": \"PC2\"}, \"topic.order\": [2, 3, 6, 1, 7, 4, 5]};\n",
       "\n",
       "function LDAvis_load_lib(url, callback){\n",
       "  var s = document.createElement('script');\n",
       "  s.src = url;\n",
       "  s.async = true;\n",
       "  s.onreadystatechange = s.onload = callback;\n",
       "  s.onerror = function(){console.warn(\"failed to load library \" + url);};\n",
       "  document.getElementsByTagName(\"head\")[0].appendChild(s);\n",
       "}\n",
       "\n",
       "if(typeof(LDAvis) !== \"undefined\"){\n",
       "   // already loaded: just create the visualization\n",
       "   !function(LDAvis){\n",
       "       new LDAvis(\"#\" + \"ldavis_el23301406319303329929828941515\", ldavis_el23301406319303329929828941515_data);\n",
       "   }(LDAvis);\n",
       "}else if(typeof define === \"function\" && define.amd){\n",
       "   // require.js is available: use it to load d3/LDAvis\n",
       "   require.config({paths: {d3: \"https://d3js.org/d3.v5\"}});\n",
       "   require([\"d3\"], function(d3){\n",
       "      window.d3 = d3;\n",
       "      LDAvis_load_lib(\"https://cdn.jsdelivr.net/gh/bmabey/pyLDAvis@3.3.1/pyLDAvis/js/ldavis.v3.0.0.js\", function(){\n",
       "        new LDAvis(\"#\" + \"ldavis_el23301406319303329929828941515\", ldavis_el23301406319303329929828941515_data);\n",
       "      });\n",
       "    });\n",
       "}else{\n",
       "    // require.js not available: dynamically load d3 & LDAvis\n",
       "    LDAvis_load_lib(\"https://d3js.org/d3.v5.js\", function(){\n",
       "         LDAvis_load_lib(\"https://cdn.jsdelivr.net/gh/bmabey/pyLDAvis@3.3.1/pyLDAvis/js/ldavis.v3.0.0.js\", function(){\n",
       "                 new LDAvis(\"#\" + \"ldavis_el23301406319303329929828941515\", ldavis_el23301406319303329929828941515_data);\n",
       "            })\n",
       "         });\n",
       "}\n",
       "</script>"
      ],
      "text/plain": [
       "<IPython.core.display.HTML object>"
      ]
     },
     "execution_count": 56,
     "metadata": {},
     "output_type": "execute_result"
    }
   ],
   "source": [
    "pyLDAvis.enable_notebook()\n",
    "vis = pyLDAvis.sklearn.prepare(lda, feat_vect, count_vectorizer)\n",
    "pyLDAvis.display(vis)"
   ]
  },
  {
   "cell_type": "markdown",
   "metadata": {
    "id": "CXyWAEdPFag7"
   },
   "source": [
    "시각화된 것을 보았을 때  \n",
    "1+4+7 : 정치+세계 (7->4->1 : 세계 -> 정치)  \n",
    "5 : 스포츠 (스포츠 세계랑 겹치는 단어 많으므로 7,4랑 가까움)  \n",
    "6 : 경제(+세계)+생활  \n",
    "3 : 경제+IT\n",
    "2 : IT  \n",
    "2, 3, 6 은 왜저렇게 되었는지 모르겠음"
   ]
  },
  {
   "cell_type": "markdown",
   "metadata": {
    "id": "-OKLtrAwxaou"
   },
   "source": [
    "### **4. 문서별 토픽 할당**"
   ]
  },
  {
   "cell_type": "markdown",
   "metadata": {
    "id": "xGEfC0eGI0f6"
   },
   "source": [
    "#### 1 ) 각 문서별로 가장 가까운 topic으로 할당"
   ]
  },
  {
   "cell_type": "code",
   "execution_count": 57,
   "metadata": {
    "colab": {
     "base_uri": "https://localhost:8080/",
     "height": 206
    },
    "id": "c3swFkAgG-tD",
    "outputId": "652159ec-9315-4514-e1e9-f75ce918aee3"
   },
   "outputs": [
    {
     "data": {
      "text/html": [
       "\n",
       "  <div id=\"df-77838512-e9b6-4a7c-b3cd-55dfc8b20ce3\">\n",
       "    <div class=\"colab-df-container\">\n",
       "      <div>\n",
       "<style scoped>\n",
       "    .dataframe tbody tr th:only-of-type {\n",
       "        vertical-align: middle;\n",
       "    }\n",
       "\n",
       "    .dataframe tbody tr th {\n",
       "        vertical-align: top;\n",
       "    }\n",
       "\n",
       "    .dataframe thead th {\n",
       "        text-align: right;\n",
       "    }\n",
       "</style>\n",
       "<table border=\"1\" class=\"dataframe\">\n",
       "  <thead>\n",
       "    <tr style=\"text-align: right;\">\n",
       "      <th></th>\n",
       "      <th>Doc_Num</th>\n",
       "      <th>Topic</th>\n",
       "      <th>Percentage</th>\n",
       "    </tr>\n",
       "  </thead>\n",
       "  <tbody>\n",
       "    <tr>\n",
       "      <th>0</th>\n",
       "      <td>0</td>\n",
       "      <td>2</td>\n",
       "      <td>0.380955</td>\n",
       "    </tr>\n",
       "    <tr>\n",
       "      <th>1</th>\n",
       "      <td>1</td>\n",
       "      <td>0</td>\n",
       "      <td>0.383572</td>\n",
       "    </tr>\n",
       "    <tr>\n",
       "      <th>2</th>\n",
       "      <td>2</td>\n",
       "      <td>0</td>\n",
       "      <td>0.519845</td>\n",
       "    </tr>\n",
       "    <tr>\n",
       "      <th>3</th>\n",
       "      <td>3</td>\n",
       "      <td>0</td>\n",
       "      <td>0.550266</td>\n",
       "    </tr>\n",
       "    <tr>\n",
       "      <th>4</th>\n",
       "      <td>4</td>\n",
       "      <td>0</td>\n",
       "      <td>0.857038</td>\n",
       "    </tr>\n",
       "  </tbody>\n",
       "</table>\n",
       "</div>\n",
       "      <button class=\"colab-df-convert\" onclick=\"convertToInteractive('df-77838512-e9b6-4a7c-b3cd-55dfc8b20ce3')\"\n",
       "              title=\"Convert this dataframe to an interactive table.\"\n",
       "              style=\"display:none;\">\n",
       "        \n",
       "  <svg xmlns=\"http://www.w3.org/2000/svg\" height=\"24px\"viewBox=\"0 0 24 24\"\n",
       "       width=\"24px\">\n",
       "    <path d=\"M0 0h24v24H0V0z\" fill=\"none\"/>\n",
       "    <path d=\"M18.56 5.44l.94 2.06.94-2.06 2.06-.94-2.06-.94-.94-2.06-.94 2.06-2.06.94zm-11 1L8.5 8.5l.94-2.06 2.06-.94-2.06-.94L8.5 2.5l-.94 2.06-2.06.94zm10 10l.94 2.06.94-2.06 2.06-.94-2.06-.94-.94-2.06-.94 2.06-2.06.94z\"/><path d=\"M17.41 7.96l-1.37-1.37c-.4-.4-.92-.59-1.43-.59-.52 0-1.04.2-1.43.59L10.3 9.45l-7.72 7.72c-.78.78-.78 2.05 0 2.83L4 21.41c.39.39.9.59 1.41.59.51 0 1.02-.2 1.41-.59l7.78-7.78 2.81-2.81c.8-.78.8-2.07 0-2.86zM5.41 20L4 18.59l7.72-7.72 1.47 1.35L5.41 20z\"/>\n",
       "  </svg>\n",
       "      </button>\n",
       "      \n",
       "  <style>\n",
       "    .colab-df-container {\n",
       "      display:flex;\n",
       "      flex-wrap:wrap;\n",
       "      gap: 12px;\n",
       "    }\n",
       "\n",
       "    .colab-df-convert {\n",
       "      background-color: #E8F0FE;\n",
       "      border: none;\n",
       "      border-radius: 50%;\n",
       "      cursor: pointer;\n",
       "      display: none;\n",
       "      fill: #1967D2;\n",
       "      height: 32px;\n",
       "      padding: 0 0 0 0;\n",
       "      width: 32px;\n",
       "    }\n",
       "\n",
       "    .colab-df-convert:hover {\n",
       "      background-color: #E2EBFA;\n",
       "      box-shadow: 0px 1px 2px rgba(60, 64, 67, 0.3), 0px 1px 3px 1px rgba(60, 64, 67, 0.15);\n",
       "      fill: #174EA6;\n",
       "    }\n",
       "\n",
       "    [theme=dark] .colab-df-convert {\n",
       "      background-color: #3B4455;\n",
       "      fill: #D2E3FC;\n",
       "    }\n",
       "\n",
       "    [theme=dark] .colab-df-convert:hover {\n",
       "      background-color: #434B5C;\n",
       "      box-shadow: 0px 1px 3px 1px rgba(0, 0, 0, 0.15);\n",
       "      filter: drop-shadow(0px 1px 2px rgba(0, 0, 0, 0.3));\n",
       "      fill: #FFFFFF;\n",
       "    }\n",
       "  </style>\n",
       "\n",
       "      <script>\n",
       "        const buttonEl =\n",
       "          document.querySelector('#df-77838512-e9b6-4a7c-b3cd-55dfc8b20ce3 button.colab-df-convert');\n",
       "        buttonEl.style.display =\n",
       "          google.colab.kernel.accessAllowed ? 'block' : 'none';\n",
       "\n",
       "        async function convertToInteractive(key) {\n",
       "          const element = document.querySelector('#df-77838512-e9b6-4a7c-b3cd-55dfc8b20ce3');\n",
       "          const dataTable =\n",
       "            await google.colab.kernel.invokeFunction('convertToInteractive',\n",
       "                                                     [key], {});\n",
       "          if (!dataTable) return;\n",
       "\n",
       "          const docLinkHtml = 'Like what you see? Visit the ' +\n",
       "            '<a target=\"_blank\" href=https://colab.research.google.com/notebooks/data_table.ipynb>data table notebook</a>'\n",
       "            + ' to learn more about interactive tables.';\n",
       "          element.innerHTML = '';\n",
       "          dataTable['output_type'] = 'display_data';\n",
       "          await google.colab.output.renderOutput(dataTable, element);\n",
       "          const docLink = document.createElement('div');\n",
       "          docLink.innerHTML = docLinkHtml;\n",
       "          element.appendChild(docLink);\n",
       "        }\n",
       "      </script>\n",
       "    </div>\n",
       "  </div>\n",
       "  "
      ],
      "text/plain": [
       "   Doc_Num  Topic  Percentage\n",
       "0        0      2    0.380955\n",
       "1        1      0    0.383572\n",
       "2        2      0    0.519845\n",
       "3        3      0    0.550266\n",
       "4        4      0    0.857038"
      ]
     },
     "execution_count": 57,
     "metadata": {},
     "output_type": "execute_result"
    }
   ],
   "source": [
    "# 문서별로, 가장 확률이 높은 topic으로 할당해줌 \n",
    "doc_topic = lda.transform(feat_vect)\n",
    "\n",
    "doc_per_topic_list = []\n",
    "for n in range(doc_topic.shape[0]):\n",
    "  topic_most_pr = doc_topic[n].argmax()\n",
    "  topic_pr = doc_topic[n].max()\n",
    "  doc_per_topic_list.append([n, topic_most_pr, topic_pr])\n",
    "\n",
    "doc_topic_df = pd.DataFrame(doc_per_topic_list, columns=[\"Doc_Num\", \"Topic\", \"Percentage\"])\n",
    "\n",
    "doc_topic_df.head()"
   ]
  },
  {
   "cell_type": "code",
   "execution_count": 58,
   "metadata": {
    "colab": {
     "base_uri": "https://localhost:8080/",
     "height": 206
    },
    "id": "DLVUxLA7H4ML",
    "outputId": "c2defe3d-09f8-4029-a982-2114bd4171f4"
   },
   "outputs": [
    {
     "data": {
      "text/html": [
       "\n",
       "  <div id=\"df-b81c44f9-44f1-4011-9767-f5a502111d8d\">\n",
       "    <div class=\"colab-df-container\">\n",
       "      <div>\n",
       "<style scoped>\n",
       "    .dataframe tbody tr th:only-of-type {\n",
       "        vertical-align: middle;\n",
       "    }\n",
       "\n",
       "    .dataframe tbody tr th {\n",
       "        vertical-align: top;\n",
       "    }\n",
       "\n",
       "    .dataframe thead th {\n",
       "        text-align: right;\n",
       "    }\n",
       "</style>\n",
       "<table border=\"1\" class=\"dataframe\">\n",
       "  <thead>\n",
       "    <tr style=\"text-align: right;\">\n",
       "      <th></th>\n",
       "      <th>Doc_Num</th>\n",
       "      <th>Topic</th>\n",
       "      <th>Percentage</th>\n",
       "      <th>title</th>\n",
       "      <th>topic_idx</th>\n",
       "    </tr>\n",
       "  </thead>\n",
       "  <tbody>\n",
       "    <tr>\n",
       "      <th>0</th>\n",
       "      <td>0</td>\n",
       "      <td>2</td>\n",
       "      <td>0.380955</td>\n",
       "      <td>인천에서핀란드 항공기 결항 휴가철 여행객 분통</td>\n",
       "      <td>4</td>\n",
       "    </tr>\n",
       "    <tr>\n",
       "      <th>1</th>\n",
       "      <td>1</td>\n",
       "      <td>0</td>\n",
       "      <td>0.383572</td>\n",
       "      <td>실리콘밸리 넘어서겠다 구글 15조원 들여 미국전역 거점화</td>\n",
       "      <td>4</td>\n",
       "    </tr>\n",
       "    <tr>\n",
       "      <th>2</th>\n",
       "      <td>2</td>\n",
       "      <td>0</td>\n",
       "      <td>0.519845</td>\n",
       "      <td>이란 외무 긴장완화 해결책은 미국이 경제전쟁 멈추는 것</td>\n",
       "      <td>4</td>\n",
       "    </tr>\n",
       "    <tr>\n",
       "      <th>3</th>\n",
       "      <td>3</td>\n",
       "      <td>0</td>\n",
       "      <td>0.550266</td>\n",
       "      <td>NYT 클린턴 측근한국기업 특수관계 조명 공과 사 맞물려</td>\n",
       "      <td>4</td>\n",
       "    </tr>\n",
       "    <tr>\n",
       "      <th>4</th>\n",
       "      <td>4</td>\n",
       "      <td>0</td>\n",
       "      <td>0.857038</td>\n",
       "      <td>시진핑 트럼프에 중미 무역협상 조속 타결 희망</td>\n",
       "      <td>4</td>\n",
       "    </tr>\n",
       "  </tbody>\n",
       "</table>\n",
       "</div>\n",
       "      <button class=\"colab-df-convert\" onclick=\"convertToInteractive('df-b81c44f9-44f1-4011-9767-f5a502111d8d')\"\n",
       "              title=\"Convert this dataframe to an interactive table.\"\n",
       "              style=\"display:none;\">\n",
       "        \n",
       "  <svg xmlns=\"http://www.w3.org/2000/svg\" height=\"24px\"viewBox=\"0 0 24 24\"\n",
       "       width=\"24px\">\n",
       "    <path d=\"M0 0h24v24H0V0z\" fill=\"none\"/>\n",
       "    <path d=\"M18.56 5.44l.94 2.06.94-2.06 2.06-.94-2.06-.94-.94-2.06-.94 2.06-2.06.94zm-11 1L8.5 8.5l.94-2.06 2.06-.94-2.06-.94L8.5 2.5l-.94 2.06-2.06.94zm10 10l.94 2.06.94-2.06 2.06-.94-2.06-.94-.94-2.06-.94 2.06-2.06.94z\"/><path d=\"M17.41 7.96l-1.37-1.37c-.4-.4-.92-.59-1.43-.59-.52 0-1.04.2-1.43.59L10.3 9.45l-7.72 7.72c-.78.78-.78 2.05 0 2.83L4 21.41c.39.39.9.59 1.41.59.51 0 1.02-.2 1.41-.59l7.78-7.78 2.81-2.81c.8-.78.8-2.07 0-2.86zM5.41 20L4 18.59l7.72-7.72 1.47 1.35L5.41 20z\"/>\n",
       "  </svg>\n",
       "      </button>\n",
       "      \n",
       "  <style>\n",
       "    .colab-df-container {\n",
       "      display:flex;\n",
       "      flex-wrap:wrap;\n",
       "      gap: 12px;\n",
       "    }\n",
       "\n",
       "    .colab-df-convert {\n",
       "      background-color: #E8F0FE;\n",
       "      border: none;\n",
       "      border-radius: 50%;\n",
       "      cursor: pointer;\n",
       "      display: none;\n",
       "      fill: #1967D2;\n",
       "      height: 32px;\n",
       "      padding: 0 0 0 0;\n",
       "      width: 32px;\n",
       "    }\n",
       "\n",
       "    .colab-df-convert:hover {\n",
       "      background-color: #E2EBFA;\n",
       "      box-shadow: 0px 1px 2px rgba(60, 64, 67, 0.3), 0px 1px 3px 1px rgba(60, 64, 67, 0.15);\n",
       "      fill: #174EA6;\n",
       "    }\n",
       "\n",
       "    [theme=dark] .colab-df-convert {\n",
       "      background-color: #3B4455;\n",
       "      fill: #D2E3FC;\n",
       "    }\n",
       "\n",
       "    [theme=dark] .colab-df-convert:hover {\n",
       "      background-color: #434B5C;\n",
       "      box-shadow: 0px 1px 3px 1px rgba(0, 0, 0, 0.15);\n",
       "      filter: drop-shadow(0px 1px 2px rgba(0, 0, 0, 0.3));\n",
       "      fill: #FFFFFF;\n",
       "    }\n",
       "  </style>\n",
       "\n",
       "      <script>\n",
       "        const buttonEl =\n",
       "          document.querySelector('#df-b81c44f9-44f1-4011-9767-f5a502111d8d button.colab-df-convert');\n",
       "        buttonEl.style.display =\n",
       "          google.colab.kernel.accessAllowed ? 'block' : 'none';\n",
       "\n",
       "        async function convertToInteractive(key) {\n",
       "          const element = document.querySelector('#df-b81c44f9-44f1-4011-9767-f5a502111d8d');\n",
       "          const dataTable =\n",
       "            await google.colab.kernel.invokeFunction('convertToInteractive',\n",
       "                                                     [key], {});\n",
       "          if (!dataTable) return;\n",
       "\n",
       "          const docLinkHtml = 'Like what you see? Visit the ' +\n",
       "            '<a target=\"_blank\" href=https://colab.research.google.com/notebooks/data_table.ipynb>data table notebook</a>'\n",
       "            + ' to learn more about interactive tables.';\n",
       "          element.innerHTML = '';\n",
       "          dataTable['output_type'] = 'display_data';\n",
       "          await google.colab.output.renderOutput(dataTable, element);\n",
       "          const docLink = document.createElement('div');\n",
       "          docLink.innerHTML = docLinkHtml;\n",
       "          element.appendChild(docLink);\n",
       "        }\n",
       "      </script>\n",
       "    </div>\n",
       "  </div>\n",
       "  "
      ],
      "text/plain": [
       "   Doc_Num  Topic  Percentage                            title  topic_idx\n",
       "0        0      2    0.380955        인천에서핀란드 항공기 결항 휴가철 여행객 분통          4\n",
       "1        1      0    0.383572  실리콘밸리 넘어서겠다 구글 15조원 들여 미국전역 거점화          4\n",
       "2        2      0    0.519845   이란 외무 긴장완화 해결책은 미국이 경제전쟁 멈추는 것          4\n",
       "3        3      0    0.550266  NYT 클린턴 측근한국기업 특수관계 조명 공과 사 맞물려          4\n",
       "4        4      0    0.857038        시진핑 트럼프에 중미 무역협상 조속 타결 희망          4"
      ]
     },
     "execution_count": 58,
     "metadata": {},
     "output_type": "execute_result"
    }
   ],
   "source": [
    "# 원래 train데이터에 join\n",
    "doc_topic_df = doc_topic_df.join(train)\n",
    "doc_topic_df.head()"
   ]
  },
  {
   "cell_type": "markdown",
   "metadata": {
    "id": "zrSMVlaHJAG6"
   },
   "source": [
    "#### 2 ) 토픽별 문서 수 계산"
   ]
  },
  {
   "cell_type": "code",
   "execution_count": 59,
   "metadata": {
    "colab": {
     "base_uri": "https://localhost:8080/",
     "height": 300
    },
    "id": "2ucURRktJLb4",
    "outputId": "5bdd5265-ce5c-4432-c1c5-cedcd202b4b9"
   },
   "outputs": [
    {
     "data": {
      "text/html": [
       "\n",
       "  <div id=\"df-301be60a-373b-4725-acd4-138d87724a6c\">\n",
       "    <div class=\"colab-df-container\">\n",
       "      <div>\n",
       "<style scoped>\n",
       "    .dataframe tbody tr th:only-of-type {\n",
       "        vertical-align: middle;\n",
       "    }\n",
       "\n",
       "    .dataframe tbody tr th {\n",
       "        vertical-align: top;\n",
       "    }\n",
       "\n",
       "    .dataframe thead th {\n",
       "        text-align: right;\n",
       "    }\n",
       "</style>\n",
       "<table border=\"1\" class=\"dataframe\">\n",
       "  <thead>\n",
       "    <tr style=\"text-align: right;\">\n",
       "      <th></th>\n",
       "      <th>Doc_Num</th>\n",
       "    </tr>\n",
       "    <tr>\n",
       "      <th>Topic</th>\n",
       "      <th></th>\n",
       "    </tr>\n",
       "  </thead>\n",
       "  <tbody>\n",
       "    <tr>\n",
       "      <th>0</th>\n",
       "      <td>8096</td>\n",
       "    </tr>\n",
       "    <tr>\n",
       "      <th>1</th>\n",
       "      <td>9944</td>\n",
       "    </tr>\n",
       "    <tr>\n",
       "      <th>2</th>\n",
       "      <td>8151</td>\n",
       "    </tr>\n",
       "    <tr>\n",
       "      <th>3</th>\n",
       "      <td>6314</td>\n",
       "    </tr>\n",
       "    <tr>\n",
       "      <th>4</th>\n",
       "      <td>6674</td>\n",
       "    </tr>\n",
       "    <tr>\n",
       "      <th>5</th>\n",
       "      <td>6814</td>\n",
       "    </tr>\n",
       "    <tr>\n",
       "      <th>6</th>\n",
       "      <td>7135</td>\n",
       "    </tr>\n",
       "  </tbody>\n",
       "</table>\n",
       "</div>\n",
       "      <button class=\"colab-df-convert\" onclick=\"convertToInteractive('df-301be60a-373b-4725-acd4-138d87724a6c')\"\n",
       "              title=\"Convert this dataframe to an interactive table.\"\n",
       "              style=\"display:none;\">\n",
       "        \n",
       "  <svg xmlns=\"http://www.w3.org/2000/svg\" height=\"24px\"viewBox=\"0 0 24 24\"\n",
       "       width=\"24px\">\n",
       "    <path d=\"M0 0h24v24H0V0z\" fill=\"none\"/>\n",
       "    <path d=\"M18.56 5.44l.94 2.06.94-2.06 2.06-.94-2.06-.94-.94-2.06-.94 2.06-2.06.94zm-11 1L8.5 8.5l.94-2.06 2.06-.94-2.06-.94L8.5 2.5l-.94 2.06-2.06.94zm10 10l.94 2.06.94-2.06 2.06-.94-2.06-.94-.94-2.06-.94 2.06-2.06.94z\"/><path d=\"M17.41 7.96l-1.37-1.37c-.4-.4-.92-.59-1.43-.59-.52 0-1.04.2-1.43.59L10.3 9.45l-7.72 7.72c-.78.78-.78 2.05 0 2.83L4 21.41c.39.39.9.59 1.41.59.51 0 1.02-.2 1.41-.59l7.78-7.78 2.81-2.81c.8-.78.8-2.07 0-2.86zM5.41 20L4 18.59l7.72-7.72 1.47 1.35L5.41 20z\"/>\n",
       "  </svg>\n",
       "      </button>\n",
       "      \n",
       "  <style>\n",
       "    .colab-df-container {\n",
       "      display:flex;\n",
       "      flex-wrap:wrap;\n",
       "      gap: 12px;\n",
       "    }\n",
       "\n",
       "    .colab-df-convert {\n",
       "      background-color: #E8F0FE;\n",
       "      border: none;\n",
       "      border-radius: 50%;\n",
       "      cursor: pointer;\n",
       "      display: none;\n",
       "      fill: #1967D2;\n",
       "      height: 32px;\n",
       "      padding: 0 0 0 0;\n",
       "      width: 32px;\n",
       "    }\n",
       "\n",
       "    .colab-df-convert:hover {\n",
       "      background-color: #E2EBFA;\n",
       "      box-shadow: 0px 1px 2px rgba(60, 64, 67, 0.3), 0px 1px 3px 1px rgba(60, 64, 67, 0.15);\n",
       "      fill: #174EA6;\n",
       "    }\n",
       "\n",
       "    [theme=dark] .colab-df-convert {\n",
       "      background-color: #3B4455;\n",
       "      fill: #D2E3FC;\n",
       "    }\n",
       "\n",
       "    [theme=dark] .colab-df-convert:hover {\n",
       "      background-color: #434B5C;\n",
       "      box-shadow: 0px 1px 3px 1px rgba(0, 0, 0, 0.15);\n",
       "      filter: drop-shadow(0px 1px 2px rgba(0, 0, 0, 0.3));\n",
       "      fill: #FFFFFF;\n",
       "    }\n",
       "  </style>\n",
       "\n",
       "      <script>\n",
       "        const buttonEl =\n",
       "          document.querySelector('#df-301be60a-373b-4725-acd4-138d87724a6c button.colab-df-convert');\n",
       "        buttonEl.style.display =\n",
       "          google.colab.kernel.accessAllowed ? 'block' : 'none';\n",
       "\n",
       "        async function convertToInteractive(key) {\n",
       "          const element = document.querySelector('#df-301be60a-373b-4725-acd4-138d87724a6c');\n",
       "          const dataTable =\n",
       "            await google.colab.kernel.invokeFunction('convertToInteractive',\n",
       "                                                     [key], {});\n",
       "          if (!dataTable) return;\n",
       "\n",
       "          const docLinkHtml = 'Like what you see? Visit the ' +\n",
       "            '<a target=\"_blank\" href=https://colab.research.google.com/notebooks/data_table.ipynb>data table notebook</a>'\n",
       "            + ' to learn more about interactive tables.';\n",
       "          element.innerHTML = '';\n",
       "          dataTable['output_type'] = 'display_data';\n",
       "          await google.colab.output.renderOutput(dataTable, element);\n",
       "          const docLink = document.createElement('div');\n",
       "          docLink.innerHTML = docLinkHtml;\n",
       "          element.appendChild(docLink);\n",
       "        }\n",
       "      </script>\n",
       "    </div>\n",
       "  </div>\n",
       "  "
      ],
      "text/plain": [
       "       Doc_Num\n",
       "Topic         \n",
       "0         8096\n",
       "1         9944\n",
       "2         8151\n",
       "3         6314\n",
       "4         6674\n",
       "5         6814\n",
       "6         7135"
      ]
     },
     "execution_count": 59,
     "metadata": {},
     "output_type": "execute_result"
    }
   ],
   "source": [
    "doc_topic_df.groupby('Topic')[[\"Doc_Num\"]].count()"
   ]
  },
  {
   "cell_type": "markdown",
   "metadata": {
    "id": "Jk31IK4QJF-h"
   },
   "source": [
    "#### 3 ) 토픽별로 가장 높은 확률로 할당된 문서 top5 확인"
   ]
  },
  {
   "cell_type": "code",
   "execution_count": 62,
   "metadata": {
    "colab": {
     "base_uri": "https://localhost:8080/"
    },
    "id": "fQ5HT_PpJUuQ",
    "outputId": "e6939bfa-5c4d-49e6-f064-46960f1f05bf"
   },
   "outputs": [
    {
     "name": "stdout",
     "output_type": "stream",
     "text": [
      "Topic # 0 ===============================\n",
      "미국 무역협상 앞두고 홍콩 대만 장외카드로 중국 압박\n",
      "중국매체 홍콩시위와 무역협상 연계하려는 미국 시도는 착각\n",
      "이란 외무장관 미국 지원받아온 레바논 정부에 군사지원 용의\n",
      "홍콩서 미국 홍콩 인권법안 통과 촉구 대규모 집회\n",
      "집회 금지 수용못해 홍콩 시민 수만명 대규모 반대 송환법 시위 \n",
      "\n",
      "Topic # 1 ===============================\n",
      "푸틴 비핵화위해 북한체제안전보장해야 김정은 미국에 입장전달 요청\n",
      "푸틴 비핵화위해 북한체제안전보장해야 김정은 미국에 입장전달 요청\n",
      "문재인대통령 8일 국민경제자문회의 주재 일본 수출규제 대책 논의\n",
      "박근혜대통령 3 1절 기념사 북핵포기 일본합의이행 강조 전망\n",
      "평양정상회담 문재인 대통령 환영하는 평양 시민들 \n",
      "\n",
      "Topic # 2 ===============================\n",
      "언론진흥재단서울대 언론정보연구소 팩트체크 공동사업 추진\n",
      "KT 대전진흥원과 5G 기반 영상데이터 관리기술 개발 추진\n",
      "KT 대전진흥원과 5G 기반 영상데이터 관리기술 개발 추진\n",
      "언론진흥재단 미디어교육 운영학교에 전문강사 등 지원\n",
      "NH투자증권 중간배당 투자 유망주로 삼성전자 등 추천 \n",
      "\n",
      "Topic # 3 ===============================\n",
      "하루 만에 다시 달러 강세 원달러 환율 3.8원 상승\n",
      "수출업체 월말 달러 매도에 원달러 환율 2.9원 하락 마감\n",
      "연휴 전 수출업체 달러 매도에 원달러 환율 5.1원 하락\n",
      "부동산대출규제 강화 첫날 은행창구 썰렁 대출 미리 신청\n",
      "부동산대출규제 강화 첫날 은행창구 썰렁 대출 미리 신청 \n",
      "\n",
      "Topic # 4 ===============================\n",
      "사우디 예멘 반군 드론 격추 반군 사우디 공항 공격\n",
      "예멘반군 사우디 군기지 공항 드론 공격 사우디 격추 주장\n",
      "예멘반군 사우디 공항에 드론 공격 사우디 피해 없어\n",
      "증시신상품 AB운용 미국 채권형 펀드에 투자하는 재간접 펀드\n",
      "증시신상품 한국투자증권 연 7.6% 수익 추구 ELS 모집 \n",
      "\n",
      "Topic # 5 ===============================\n",
      "삼성전자 스포츠밴드 갤럭시럭시 핏 갤럭시럭시 핏E 31일 출시\n",
      "삼성전자 갤럭시럭시 S9과 갤럭시럭시 S9 전격 공개\n",
      "삼성전자 2018년형 갤럭시럭시 A8 갤럭시럭시 A8 공개\n",
      "삼성전자 갤럭시럭시 S9과 갤럭시럭시 S9 전격 공개\n",
      "삼성전자 갤럭시럭시 S9과 갤럭시럭시 S9 전격 공개 \n",
      "\n",
      "Topic # 6 ===============================\n",
      "대북제재 중간점검 북한 또 핵실험 미사일 도발 하나\n",
      "북한김정은 대북제재로 주민 희생돼도 핵무기 고수할 것\n",
      "북한당대회 이후 김정은 핵 미사일 도발 계속하나\n",
      "러 해운당국 대북 제재 결의 위반한 바 없어 미국 주장 반박\n",
      "남자농구 대표팀 뉴질랜드와 월드컵 예선 홈 경기서 패배 \n",
      "\n"
     ]
    }
   ],
   "source": [
    "for topic in range(len(doc_topic_df[\"Topic\"].unique())):\n",
    "  print(\"Topic #\", topic, \"===============================\")\n",
    "  top_pr_topics = doc_topic_df[doc_topic_df['Topic']==topic].sort_values(by=\"Percentage\", ascending=False)\n",
    "  print(top_pr_topics[\"title\"].iloc[0])\n",
    "  print(top_pr_topics[\"title\"].iloc[1])\n",
    "  print(top_pr_topics[\"title\"].iloc[2])\n",
    "  print(top_pr_topics[\"title\"].iloc[3])\n",
    "  print(top_pr_topics[\"title\"].iloc[4], '\\n')"
   ]
  },
  {
   "cell_type": "markdown",
   "metadata": {
    "id": "s4RnhoTZHeHk"
   },
   "source": [
    "뉴스 토픽 분류여서 LDA 토픽 모델링을 잘 몰랐을 때는 이름만 듣고 뉴스 토픽 분류 잘 해주지 않을까라고 생각했는데 보통 리뷰 분석에 많이 쓰이는 듯하다 + 파라미터튜닝을 다시 해봐야하나?"
   ]
  }
 ],
 "metadata": {
  "colab": {
   "provenance": []
  },
  "kernelspec": {
   "display_name": "Python 3 (ipykernel)",
   "language": "python",
   "name": "python3"
  },
  "language_info": {
   "codemirror_mode": {
    "name": "ipython",
    "version": 3
   },
   "file_extension": ".py",
   "mimetype": "text/x-python",
   "name": "python",
   "nbconvert_exporter": "python",
   "pygments_lexer": "ipython3",
   "version": "3.9.7"
  }
 },
 "nbformat": 4,
 "nbformat_minor": 1
}
