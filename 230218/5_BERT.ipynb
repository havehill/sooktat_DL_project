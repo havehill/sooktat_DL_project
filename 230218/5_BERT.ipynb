{
  "cells": [
    {
      "cell_type": "markdown",
      "metadata": {
        "id": "FtIsCTQ2XLVj"
      },
      "source": [
        "# **5_Modeling (BERT)**"
      ]
    },
    {
      "cell_type": "code",
      "execution_count": null,
      "metadata": {
        "id": "HuWIdr-IWrb9"
      },
      "outputs": [],
      "source": [
        "%%bash\n",
        "apt-get update\n",
        "apt-get install g++ openjdk-8-jdk python-dev python3-dev\n",
        "pip3 install JPype1\n",
        "pip3 install konlpy"
      ]
    },
    {
      "cell_type": "code",
      "execution_count": null,
      "metadata": {
        "colab": {
          "base_uri": "https://localhost:8080/"
        },
        "id": "SdqOVU3yXUji",
        "outputId": "1060bcb7-b927-44e7-b8c6-f53eac674681"
      },
      "outputs": [
        {
          "output_type": "stream",
          "name": "stdout",
          "text": [
            "env: JAVA_HOME=\"/usr/lib/jvm/java-8-openjdk-amd64\"\n"
          ]
        }
      ],
      "source": [
        "%env JAVA_HOME \"/usr/lib/jvm/java-8-openjdk-amd64\""
      ]
    },
    {
      "cell_type": "code",
      "execution_count": null,
      "metadata": {
        "id": "B-5tTRKDXWQH"
      },
      "outputs": [],
      "source": [
        "%%bash\n",
        "bash <(curl -s https://raw.githubusercontent.com/konlpy/konlpy/master/scripts/mecab.sh)\n",
        "pip3 install /tmp/mecab-python-0.996"
      ]
    },
    {
      "cell_type": "code",
      "execution_count": null,
      "metadata": {
        "id": "Wjw7mejXXX32"
      },
      "outputs": [],
      "source": [
        "import konlpy\n",
        "from konlpy.tag import Kkma, Komoran, Hannanum, Okt\n",
        "from konlpy.utils import pprint\n",
        "from konlpy.tag import Mecab"
      ]
    },
    {
      "cell_type": "code",
      "execution_count": null,
      "metadata": {
        "id": "6vC8bYN7Xa7v"
      },
      "outputs": [],
      "source": [
        "m = Mecab()"
      ]
    },
    {
      "cell_type": "code",
      "execution_count": null,
      "metadata": {
        "id": "nzDRwn7rXcnW"
      },
      "outputs": [],
      "source": [
        "import numpy as np\n",
        "import pandas as pd\n",
        "import matplotlib.pylab as plt\n",
        "import seaborn as sns\n",
        "import sklearn as sk"
      ]
    },
    {
      "cell_type": "code",
      "execution_count": null,
      "metadata": {
        "id": "u_bPRMvuXfYG"
      },
      "outputs": [],
      "source": [
        "import warnings\n",
        "warnings.filterwarnings(action='ignore')"
      ]
    },
    {
      "cell_type": "code",
      "execution_count": null,
      "metadata": {
        "colab": {
          "base_uri": "https://localhost:8080/"
        },
        "id": "LxrKj8xYXjvR",
        "outputId": "3c4a92a3-1264-45b1-d9ab-9b4cb041404b"
      },
      "outputs": [
        {
          "output_type": "stream",
          "name": "stdout",
          "text": [
            "Mounted at /content/gdrive\n"
          ]
        }
      ],
      "source": [
        "from google.colab import auth\n",
        "auth.authenticate_user()\n",
        "\n",
        "from google.colab import drive\n",
        "drive.mount('/content/gdrive', force_remount=False)"
      ]
    },
    {
      "cell_type": "code",
      "execution_count": null,
      "metadata": {
        "id": "xxeZc_s3XoEZ"
      },
      "outputs": [],
      "source": [
        "train = pd.read_csv(\"/content/gdrive/My Drive/Colab Notebooks/NLP_news_topic_classification/preprocessed_train.csv\")\n",
        "test = pd.read_csv(\"/content/gdrive/My Drive/Colab Notebooks/NLP_news_topic_classification/preprocessed_test.csv\")"
      ]
    },
    {
      "cell_type": "code",
      "execution_count": null,
      "metadata": {
        "id": "e2wQe6srXsRz"
      },
      "outputs": [],
      "source": [
        "# 전처리 과정에서 불필요한 컬럼 생겨서 삭제\n",
        "train = train.drop(columns=[\"Unnamed: 0\"])\n",
        "test = test.drop(columns=[\"Unnamed: 0\"])"
      ]
    },
    {
      "cell_type": "markdown",
      "metadata": {
        "id": "TaaTKZHcXvs1"
      },
      "source": [
        "## **BERT**  \n",
        "references:  \n",
        "https://heung-bae-lee.github.io/2020/01/16/NLP_01/  \n",
        "https://ebbnflow.tistory.com/151\n",
        "  \n",
        "구글에서 개발한 NLP 사전 훈련 기술, 모든 자연어처리 분야에서 좋은 성능을 내는 범용 Language Model (앙상블 모델보다 더 좋은 성능)  \n",
        "  \n",
        "**사전 훈련 언어모델**, LSTM, CNN 등등처럼 과제(개체명 인식, 텍스트 분류)를 시행하는 모델 X  \n",
        "특정 과제를 수행하기 위한 모델의 성능은 Embedding이 큰 영향을 미침  \n",
        "**Embedding 과정**에서 **BERT**를 사용, **특정 과제를 하기 전 사전 훈련 Embedding을 통해 특정과제의 성능을 더 좋게**  \n",
        "\n",
        "**< Embedding >**:  \n",
        "사람이 쓰는 자연어를 기계가 이해할 수 있는 숫자 형태인 vector로 바꾼 결과 혹은 그 과정  \n",
        "  \n",
        "역할)\n",
        "1. 단어/문장 간 관련도 계산 : 단어들 사이의 유사도를 계산\n",
        "2. 의미적/문법적 정보 함축 : 벡터이기에 사칙연산 가능, 벡터간 덧셈/뺄셈을 통해 단어들 사이의 의미적, 문법적 관계 도출 가능 \n",
        "3. 전이학습 : 품질이 좋은 임베딩은 다른 딥러닝 모델에서도 쓸 수 있음\n",
        "\n",
        "종류)  \n",
        "- 통계기반 -> 뉴럴 네트워크 기반\n",
        ": TF-IDF Matrix, Word-Context Matrix -> Neural Network \n",
        "- 단어수준 -> **문장 수준**  \n",
        ": 단어의 문맥적 의미를 함축 but 동음이의어 분간 어렵 (NPLM, Word2Vec, GloVe)   \n",
        ": **Sequence 전체의 문맥적 의미를 함축, 전이학습 효과 좋음, 동음이의어도 분간 가능 (BERT, GPT)**\n",
        "- Rule based -> End to End -> **Pre-training/fine-tuning**  \n",
        ": 머신러닝처럼 사람이 언어학적 지식 활용해서 Feature 직접 뽑음 (Rule based)  \n",
        ": 데이터를 넣어주면 사람의 개입없이 모델 스스로 처음부터 끝까지 이해 (Sequence-to-Sequence) (End to End)  \n",
        ": **ELMO, GPT, BERT (Pre-training/fine-tuning)**   \n",
        "\n",
        "< 텍스트 분류모델 과정 >  \n",
        "- Bert 사용X 일반 모델과정 : 데이터 -> LSTM, CNN 등 머신러닝 모델 -> 분류  \n",
        "- **BERT 사용 모델링** : 대량 Corpus -> Bert -> 분류를 원하는 데이터 -> LSTM, CNN등의 머신러닝 모델 -> 분류 \n",
        ": 대량 Corpus로 BERT 언어모델 적용, BERT 언어모델 출력에 추가적인 모델(RNN, CNN 등 머신러닝 모델)을 쌓아 원하는 과제 수행  \n",
        "  \n",
        "**< BERT 내부 과정 >**  \n",
        "1. **Input** : Token Embedding + Segment Embedding + Position Embedding\n",
        "- **Token Embedding** : CLS(Special Classification Token)는 모든 문장의 첫 토큰으로 삽입, classification task에서만 사용, SEP(Special Seperator Token)을 사용하여 첫번째 문장과 두번째 문장을 구별, 각 문장 끝에 삽입  \n",
        "- **Segment Embedding** : CLS, SEP에 더해서 앞뒤 문장을 더욱 쉽게 구별할 수 있도록 도와줌줌\n",
        "- **Position Embedding** : 각 토큰의 위치를 알려주는 임베딩\n",
        "\n",
        "-> 세가지 임베딩을 합치고 이에 layer 정규화와 dropout을 적용하여 input으로 사용  \n",
        "  \n",
        "2. **Pre-training** : 훈련시킬 데이터를 모두 인코딩했으므로 사전훈련시킴, 기존 방법은 문장 왼쪽에서 오른쪽으로 학습하여 다음 단어 예측하거나 예측할 단어의 좌우문맥을 고려하여 예측  but BERT : MLM + NSP (2가지 unsupervised 방법)\n",
        "- **MLM(Masked Language Model)** : 문장에서 단어 중 일부를 Mask 토큰으로 바꾼 뒤, 가려진 단어를 예측하도록 학습\n",
        "- **NSP(Next Sentence Prediction)** : 두 문장이 주어졌을 때, 두 문장의 순서 예측, 두 문장의 연관을 맞추는 학습을 진행 (Q&A task 성능향상에 영향향)\n",
        "  \n",
        "3. **Transfer Learning** : 학습된 언어모델을 전이학습시켜 실제 NLP 과제를 수행하는 과정, 실질적 성능이 관찰되는 부분\n",
        "- BERT 언어모델에 NLP Task를 위한 추가적인 모델을 쌓는 부분  \n",
        "  \n",
        "**< BERT 한계점 >**  \n",
        "일반 NLP 모델에서는 잘 작동, 하지만 bio, science, finance 등 특정 분야의 언어모델에 사용하려면 잘 적용이 되지 않음, 사용 단어들이 다르고 언어의 특성이 다르기 때문, 특정 분야의 특성을 수집할 수 있는 언어데이터를 수집하고 언어모델 학습을 추가적으로 진행 후 특정분야에 BERT 적용할 것것\n"
      ]
    },
    {
      "cell_type": "markdown",
      "metadata": {
        "id": "pMwRp8LjtpI-"
      },
      "source": [
        "## **BERT 모델**   \n",
        "references : https://hwiyong.tistory.com/392  \n",
        "\n",
        "- 양방향성 포함, 문맥을 더 자연스럽게 파악 가능  \n",
        "- text classification, question & answering, machine translation, 사람처럼 대화하기 에 쓰임, but language representation(단어, 문장, 언어를 어떻게 표현할까에 관한 고민)  \n",
        "- pre-training이 가능한 모델 : 기존 모델은 처음부터 학습시켜야함 but 전이 학습 가능 (ELMO, BERT, GPT 등)\n",
        "- transformer 구조에서 encoder 부분만 사용, encoder 학습시킨 후 특정 task의 fine-tuning을 활용하여 결과 얻음음  \n",
        "cf) 기존 모델 : encoder + decoder, GPT : decoder 부분 사용해서 원하는 task의 결과 얻음  \n",
        "  \n",
        "references : https://dacon.io/competitions/official/235747/codeshare/2905?page=1&dtype=recent"
      ]
    },
    {
      "cell_type": "code",
      "execution_count": null,
      "metadata": {
        "colab": {
          "base_uri": "https://localhost:8080/"
        },
        "id": "Y2gZ5ckAM466",
        "outputId": "f0e4dc8d-00b8-4284-d89c-a537cfaa58a5"
      },
      "outputs": [
        {
          "output_type": "stream",
          "name": "stdout",
          "text": [
            "Looking in indexes: https://pypi.org/simple, https://us-python.pkg.dev/colab-wheels/public/simple/\n",
            "Collecting transformers\n",
            "  Downloading transformers-4.26.1-py3-none-any.whl (6.3 MB)\n",
            "\u001b[2K     \u001b[90m━━━━━━━━━━━━━━━━━━━━━━━━━━━━━━━━━━━━━━━━\u001b[0m \u001b[32m6.3/6.3 MB\u001b[0m \u001b[31m87.1 MB/s\u001b[0m eta \u001b[36m0:00:00\u001b[0m\n",
            "\u001b[?25hRequirement already satisfied: tqdm>=4.27 in /usr/local/lib/python3.8/dist-packages (from transformers) (4.64.1)\n",
            "Requirement already satisfied: numpy>=1.17 in /usr/local/lib/python3.8/dist-packages (from transformers) (1.21.6)\n",
            "Collecting huggingface-hub<1.0,>=0.11.0\n",
            "  Downloading huggingface_hub-0.12.0-py3-none-any.whl (190 kB)\n",
            "\u001b[2K     \u001b[90m━━━━━━━━━━━━━━━━━━━━━━━━━━━━━━━━━━━━━━\u001b[0m \u001b[32m190.3/190.3 KB\u001b[0m \u001b[31m23.9 MB/s\u001b[0m eta \u001b[36m0:00:00\u001b[0m\n",
            "\u001b[?25hRequirement already satisfied: pyyaml>=5.1 in /usr/local/lib/python3.8/dist-packages (from transformers) (6.0)\n",
            "Requirement already satisfied: packaging>=20.0 in /usr/local/lib/python3.8/dist-packages (from transformers) (23.0)\n",
            "Requirement already satisfied: filelock in /usr/local/lib/python3.8/dist-packages (from transformers) (3.9.0)\n",
            "Requirement already satisfied: requests in /usr/local/lib/python3.8/dist-packages (from transformers) (2.25.1)\n",
            "Collecting tokenizers!=0.11.3,<0.14,>=0.11.1\n",
            "  Downloading tokenizers-0.13.2-cp38-cp38-manylinux_2_17_x86_64.manylinux2014_x86_64.whl (7.6 MB)\n",
            "\u001b[2K     \u001b[90m━━━━━━━━━━━━━━━━━━━━━━━━━━━━━━━━━━━━━━━━\u001b[0m \u001b[32m7.6/7.6 MB\u001b[0m \u001b[31m82.7 MB/s\u001b[0m eta \u001b[36m0:00:00\u001b[0m\n",
            "\u001b[?25hRequirement already satisfied: regex!=2019.12.17 in /usr/local/lib/python3.8/dist-packages (from transformers) (2022.6.2)\n",
            "Requirement already satisfied: typing-extensions>=3.7.4.3 in /usr/local/lib/python3.8/dist-packages (from huggingface-hub<1.0,>=0.11.0->transformers) (4.4.0)\n",
            "Requirement already satisfied: urllib3<1.27,>=1.21.1 in /usr/local/lib/python3.8/dist-packages (from requests->transformers) (1.24.3)\n",
            "Requirement already satisfied: certifi>=2017.4.17 in /usr/local/lib/python3.8/dist-packages (from requests->transformers) (2022.12.7)\n",
            "Requirement already satisfied: chardet<5,>=3.0.2 in /usr/local/lib/python3.8/dist-packages (from requests->transformers) (4.0.0)\n",
            "Requirement already satisfied: idna<3,>=2.5 in /usr/local/lib/python3.8/dist-packages (from requests->transformers) (2.10)\n",
            "Installing collected packages: tokenizers, huggingface-hub, transformers\n",
            "Successfully installed huggingface-hub-0.12.0 tokenizers-0.13.2 transformers-4.26.1\n"
          ]
        }
      ],
      "source": [
        "!pip install transformers"
      ]
    },
    {
      "cell_type": "code",
      "execution_count": null,
      "metadata": {
        "colab": {
          "base_uri": "https://localhost:8080/"
        },
        "id": "N9d2xtZTM9dq",
        "outputId": "b93e7339-d623-4c66-ed05-d0438bfc7d91"
      },
      "outputs": [
        {
          "output_type": "stream",
          "name": "stdout",
          "text": [
            "Looking in indexes: https://pypi.org/simple, https://us-python.pkg.dev/colab-wheels/public/simple/\n",
            "Collecting sentencepiece\n",
            "  Downloading sentencepiece-0.1.97-cp38-cp38-manylinux_2_17_x86_64.manylinux2014_x86_64.whl (1.3 MB)\n",
            "\u001b[2K     \u001b[90m━━━━━━━━━━━━━━━━━━━━━━━━━━━━━━━━━━━━━━━━\u001b[0m \u001b[32m1.3/1.3 MB\u001b[0m \u001b[31m29.1 MB/s\u001b[0m eta \u001b[36m0:00:00\u001b[0m\n",
            "\u001b[?25hInstalling collected packages: sentencepiece\n",
            "Successfully installed sentencepiece-0.1.97\n"
          ]
        }
      ],
      "source": [
        "!pip install sentencepiece"
      ]
    },
    {
      "cell_type": "code",
      "execution_count": null,
      "metadata": {
        "id": "fy80QvLVNV-0"
      },
      "outputs": [],
      "source": [
        "import os\n",
        "import re\n",
        "import numpy as np\n",
        "from tqdm import tqdm\n",
        "\n",
        "import tensorflow as tf\n",
        "from transformers import BertModel, TFBertModel\n",
        "\n",
        "from tensorflow.keras.preprocessing.sequence import pad_sequences\n",
        "from tensorflow.keras.callbacks import EarlyStopping, ModelCheckpoint\n",
        "\n",
        "import pandas as pd\n",
        "import matplotlib.pyplot as plt"
      ]
    },
    {
      "cell_type": "code",
      "execution_count": 30,
      "metadata": {
        "id": "rM-gE_efNYNb"
      },
      "outputs": [],
      "source": [
        "def plot_graphs(history, string):\n",
        "    plt.plot(history.history[string])\n",
        "    plt.plot(history.history['val_'+string], '')\n",
        "    plt.xlabel(\"Epochs\")\n",
        "    plt.xticks([0, 1, 2], labels=[\"1st\", \"2nd\", \"3rd\"])\n",
        "    plt.ylabel(string)\n",
        "    plt.legend([string, 'val_'+string])\n",
        "    plt.show()"
      ]
    },
    {
      "cell_type": "code",
      "execution_count": null,
      "metadata": {
        "id": "jpmUvmKONzdG"
      },
      "outputs": [],
      "source": [
        "#random seed 고정\n",
        "tf.random.set_seed(21)\n",
        "np.random.seed(21)"
      ]
    },
    {
      "cell_type": "code",
      "execution_count": null,
      "metadata": {
        "id": "PI9B6_F3N4WC"
      },
      "outputs": [],
      "source": [
        "# parameter 설정\n",
        "BATCH_SIZE = 200                    # batch size \n",
        "NUM_EPOCHS = 3                      # 반복 수 -> 돌아가는데 너무 오래 걸림\n",
        "VALID_SPLIT = 0.2                   # train:valid = 8:2\n",
        "MAX_LEN = 44                        # Max Length - RNN, LSTM 모델 돌렸을 때는 13으로 나왔는데 단어 기준이었나? \n",
        "DATA_IN_PATH = 'data_in/KOR'\n",
        "DATA_OUT_PATH = \"data_out/KOR\""
      ]
    },
    {
      "cell_type": "markdown",
      "metadata": {
        "id": "LuN0vF6KsWn5"
      },
      "source": [
        "### BertTokenizer  \n",
        "references : https://hyen4110.tistory.com/89\n",
        "  \n",
        "**Tokenizer** : corpus를 token으로 나누는 작업\n",
        "  \n",
        "**BertTokenizer의 차별점** \n",
        "- WordPiece Tokenizer\n",
        "- BPE(Byte Pair Encoding) : OOV(Out of Vocabulary)의 문제점 완화\n",
        "- Subword Segmatation (서브워드 분리) : 더 작은 단위의 의미있는 여러 서브단어들로 이루어진 하나의 단어 (ex: birthplace = birth + place) 인 경우 서브워드로 분리해서 인코딩 및 임베딩  \n",
        "  \n",
        "**BertTokenizer의 Input & Output**  \n",
        "**Input** : 텍스트 list (ex: [\"제목\", \"제목\", \"제목\"])  \n",
        "**Output** : 토큰화 결과 dictionary  \n",
        "[\"input_ids\" : tensor([[], [], []]),  \n",
        " \"token_type_ids\": tensor([[], [], []]),  \n",
        " \"attention_mask\" : tensor([[], [], []])} \n",
        "   \n",
        " - **input_ids** : 각 토큰에 대한 정수 인코딩\n",
        " - **token_type_ids** (=segment_ids) : pretraining 단계에서 Next Sentence Prediction 을 위해 존재  \n",
        "ex : 0 - sequence A, 1 - sequence B : 두 sequence 구별\n",
        " - **attention_mask** : 0 - 단어 토큰, 1 - 패딩 토큰 (optional 따라서 파라미터로 정함함)"
      ]
    },
    {
      "cell_type": "code",
      "execution_count": null,
      "metadata": {
        "colab": {
          "base_uri": "https://localhost:8080/",
          "height": 113,
          "referenced_widgets": [
            "06a953fe83cc41a5bd04bd1d33c958e4",
            "dd0123c0c55b4f3b9c451e7475b03a8f",
            "fc50cc552c9840bb9357d41dee651e1e",
            "7a7b11db0c284b1abdd4ebb0930fcaa1",
            "cf407193ee134ecba075e16498051860",
            "acbd1770c23f4fccb329f6eacf380fa6",
            "02748715e77f4c169dea1dc13d21c732",
            "3dd65d097d934f86928cd5df5201e1c4",
            "276c12e055c642caba3a932c549004f6",
            "573fc4216e154469a9620149bfbb6513",
            "db6b7cf9ae4d483482e5afd0cbbfad3a",
            "530cbf620e1e4150a90fef5be1ca2af9",
            "f02d73d9200a4d11886db226df060e4e",
            "1b5a8d08821d4073a81f8ef9628475a8",
            "efc53f13fd0f42a2bc4d8e6cec9d71ed",
            "4340944cefbc4aa49bca242eb1a7ec4f",
            "026425bddf524c22987c1f5e978f4f2e",
            "cfee82d9128c4854a31730e2edaba153",
            "44efb2ec765144a0b5fbc3fd7119fe2f",
            "7497fcd8cf6d49f5b81e579eeb7ce117",
            "a83b5d3fe281445194488888f928d39d",
            "544b4a5d808d41c09df466fffbc3ccba",
            "368f732435dd4277955cb224e4458da9",
            "9b0736ae250840d1abc29e5691c5122c",
            "bdedacc28b8e45b6802627742e2a4525",
            "8a9f114fa7464474bac06b82a61f2283",
            "4e9dcb309afc4372be8f55592db2289a",
            "d559e0f7339d4467bb114d1faf3396a8",
            "f40a99b6765e495e8d1eaa48e183f7da",
            "9dc83d338d6f4793978875b541b6c8bb",
            "cc281637d5164c9ca90dc7b9d4991b60",
            "229c5e5da22144cc9cac288b93e6a4d1",
            "7c42554b6b0b4d61b44cf5717cfa60cc"
          ]
        },
        "id": "1iucpUSiN-w7",
        "outputId": "6b90f07f-80e4-441b-8abe-106ec3299270"
      },
      "outputs": [
        {
          "output_type": "display_data",
          "data": {
            "text/plain": [
              "Downloading (…)solve/main/vocab.txt:   0%|          | 0.00/996k [00:00<?, ?B/s]"
            ],
            "application/vnd.jupyter.widget-view+json": {
              "version_major": 2,
              "version_minor": 0,
              "model_id": "06a953fe83cc41a5bd04bd1d33c958e4"
            }
          },
          "metadata": {}
        },
        {
          "output_type": "display_data",
          "data": {
            "text/plain": [
              "Downloading (…)okenizer_config.json:   0%|          | 0.00/29.0 [00:00<?, ?B/s]"
            ],
            "application/vnd.jupyter.widget-view+json": {
              "version_major": 2,
              "version_minor": 0,
              "model_id": "530cbf620e1e4150a90fef5be1ca2af9"
            }
          },
          "metadata": {}
        },
        {
          "output_type": "display_data",
          "data": {
            "text/plain": [
              "Downloading (…)lve/main/config.json:   0%|          | 0.00/625 [00:00<?, ?B/s]"
            ],
            "application/vnd.jupyter.widget-view+json": {
              "version_major": 2,
              "version_minor": 0,
              "model_id": "368f732435dd4277955cb224e4458da9"
            }
          },
          "metadata": {}
        }
      ],
      "source": [
        "from transformers import BertTokenizer\n",
        "tokenizer = BertTokenizer.from_pretrained(\"bert-base-multilingual-cased\", cache_dir='bert_ckpt', do_lower_case=False)"
      ]
    },
    {
      "cell_type": "code",
      "execution_count": null,
      "metadata": {
        "id": "VNQZFgZQTecK"
      },
      "outputs": [],
      "source": [
        "def bert_tokenizer(sent, MAX_LEN):\n",
        "    \n",
        "    encoded_dict = tokenizer.encode_plus(\n",
        "        text = sent,\n",
        "        add_special_tokens = True,      # Add '[CLS]' (각 문장의 처음에 들어가는 토큰, classification task 일 때만 사용) and '[SEP]' (첫번째 두번째 문장 사이를 구분하게 해주는 토큰, 문장의 끝부분에 들어가는 토큰큰) \n",
        "        max_length = MAX_LEN,           # Pad & truncate all sentences\n",
        "        pad_to_max_length = True,       # MAX_LEN 보다 짧은 애들은 패딩시벼줌\n",
        "        return_attention_mask = True    # Construct attn. masks.  (문장에서 임의로 Mask로 단어를 가리고 그 단어를 예측하게 하는 학습을 할 것인지지)\n",
        "        \n",
        "    )\n",
        "    \n",
        "    input_id = encoded_dict['input_ids']              # 각 토큰에 대한 정수 인코딩\n",
        "    attention_mask = encoded_dict['attention_mask']   # And its attention mask (simply differentiates padding from non-padding), input할 때 mask랑 다른 mask인가, 단어토큰 - 0, 패딩토큰 - 1로 구별\n",
        "    token_type_id = encoded_dict['token_type_ids']    # differentiate two sentences, token_type_ids는 sequence 2개를 구별\n",
        "    \n",
        "    return input_id, attention_mask, token_type_id"
      ]
    },
    {
      "cell_type": "code",
      "execution_count": null,
      "metadata": {
        "colab": {
          "base_uri": "https://localhost:8080/"
        },
        "id": "Zpct596hYb3q",
        "outputId": "8ba79fda-12b0-4f3f-a5db-bf1ade164bc7"
      },
      "outputs": [
        {
          "output_type": "stream",
          "name": "stderr",
          "text": [
            "  0%|          | 0/53403 [00:00<?, ?it/s]Truncation was not explicitly activated but `max_length` is provided a specific value, please use `truncation=True` to explicitly truncate examples to max length. Defaulting to 'longest_first' truncation strategy. If you encode pairs of sequences (GLUE-style) with the tokenizer you can select this strategy more precisely by providing a specific strategy to `truncation`.\n",
            "100%|██████████| 53403/53403 [00:27<00:00, 1922.13it/s]\n"
          ]
        },
        {
          "output_type": "stream",
          "name": "stdout",
          "text": [
            "# sents: 53403, # labels: 53403\n"
          ]
        }
      ],
      "source": [
        "input_ids = []\n",
        "attention_masks = []\n",
        "token_type_ids = []\n",
        "train_data_labels = []\n",
        "\n",
        "for train_sent, train_label in tqdm(zip(train[\"title\"], train[\"topic_idx\"]), total=len(train)):\n",
        "    try:\n",
        "        input_id, attention_mask, token_type_id = bert_tokenizer(train_sent, MAX_LEN)\n",
        "        \n",
        "        input_ids.append(input_id)\n",
        "        attention_masks.append(attention_mask)\n",
        "        token_type_ids.append(token_type_id)\n",
        "        train_data_labels.append(train_label)\n",
        "\n",
        "    except Exception as e:\n",
        "        print(e)\n",
        "        print(train_sent)\n",
        "        pass\n",
        "\n",
        "train_news_input_ids = np.array(input_ids, dtype=int)\n",
        "train_news_attention_masks = np.array(attention_masks, dtype=int)\n",
        "train_news_type_ids = np.array(token_type_ids, dtype=int)\n",
        "train_news_inputs = (train_news_input_ids, train_news_attention_masks, train_news_type_ids)  # train_news_inputs에 각 토큰에 대한 정수 인코딩, 패딩여부 구분, 두 sequence 구별을 input으로 넣어줌 = BertTokenizer Output -> 모델 input (X값)\n",
        "\n",
        "train_data_labels = np.asarray(train_data_labels, dtype=np.int32) # 레이블 tokenizing 리스트 (실제 y값 토크나이징 ?)\n",
        "\n",
        "print(\"# sents: {}, # labels: {}\".format(len(train_news_input_ids), len(train_data_labels)))"
      ]
    },
    {
      "cell_type": "code",
      "execution_count": null,
      "metadata": {
        "colab": {
          "base_uri": "https://localhost:8080/",
          "height": 141,
          "referenced_widgets": [
            "8258c6d638ca4365b716371e06c7c58d",
            "00204803d56243f1a950273bc343a050",
            "8fb4c8da267042188aff2bedef8d867e",
            "1a1ff97afcc948759115296464280d09",
            "f036403308664c06a61d41173ceb00ac",
            "a22ab43699e44eac95c564a7aeb0832b",
            "1713e1fe468349aabf332825b61e368d",
            "bb48d81a05c747baaaf01689d33217d6",
            "82fda54e74314efaa75cbfcecf9793bd",
            "27f4b21630224b3fb1d7dc3afc1da160",
            "e0d20faadf41471ab6bf598f95325600"
          ]
        },
        "id": "EhPYnN2KnyF_",
        "outputId": "cead0941-62b6-4cd2-f4d1-cb8be6a5c4aa"
      },
      "outputs": [
        {
          "output_type": "display_data",
          "data": {
            "text/plain": [
              "Downloading (…)\"tf_model.h5\";:   0%|          | 0.00/1.08G [00:00<?, ?B/s]"
            ],
            "application/vnd.jupyter.widget-view+json": {
              "version_major": 2,
              "version_minor": 0,
              "model_id": "8258c6d638ca4365b716371e06c7c58d"
            }
          },
          "metadata": {}
        },
        {
          "output_type": "stream",
          "name": "stderr",
          "text": [
            "Some layers from the model checkpoint at bert-base-multilingual-cased were not used when initializing TFBertModel: ['nsp___cls', 'mlm___cls']\n",
            "- This IS expected if you are initializing TFBertModel from the checkpoint of a model trained on another task or with another architecture (e.g. initializing a BertForSequenceClassification model from a BertForPreTraining model).\n",
            "- This IS NOT expected if you are initializing TFBertModel from the checkpoint of a model that you expect to be exactly identical (initializing a BertForSequenceClassification model from a BertForSequenceClassification model).\n",
            "All the layers of TFBertModel were initialized from the model checkpoint at bert-base-multilingual-cased.\n",
            "If your task is similar to the task the model of the checkpoint was trained on, you can already use TFBertModel for predictions without further training.\n"
          ]
        }
      ],
      "source": [
        "class TFBertClassifier(tf.keras.Model):\n",
        "    def __init__(self, model_name, dir_path, num_class):\n",
        "        super(TFBertClassifier, self).__init__()\n",
        "\n",
        "        self.bert = TFBertModel.from_pretrained(model_name, cache_dir=dir_path)\n",
        "        self.dropout = tf.keras.layers.Dropout(self.bert.config.hidden_dropout_prob)                                                                # dropout : 과적합 방지 위해 파라미터로 주어진 확률만큼 뉴런 제거\n",
        "        self.classifier = tf.keras.layers.Dense(num_class, \n",
        "                                                kernel_initializer=tf.keras.initializers.TruncatedNormal(self.bert.config.initializer_range),       # 라벨 개수만큼 Dense층 FC layer 구현\n",
        "                                                name=\"classifier\")\n",
        "        \n",
        "    def call(self, inputs, attention_mask=None, token_type_ids=None, training=False):\n",
        "        \n",
        "        # outputs : sequence_output, pooled_output, (hidden_states), (attentions)\n",
        "        outputs = self.bert(inputs, attention_mask=attention_mask, token_type_ids=token_type_ids)\n",
        "        pooled_output = outputs[1] \n",
        "        pooled_output = self.dropout(pooled_output, training=training)\n",
        "        logits = self.classifier(pooled_output)\n",
        "        return logits\n",
        "\n",
        "cls_model = TFBertClassifier(model_name='bert-base-multilingual-cased', dir_path='bert_ckpt', num_class=7)"
      ]
    },
    {
      "cell_type": "code",
      "execution_count": null,
      "metadata": {
        "id": "2YTg01bPZrs1"
      },
      "outputs": [],
      "source": [
        "optimizer = tf.keras.optimizers.Adam(3e-5)                                  # optimizer - Adam\n",
        "loss = tf.keras.losses.SparseCategoricalCrossentropy(from_logits=True)      # loss - SparseCategoricalCrossEntropy, Sparse는 라벨이 정수일 때 사용, 저번 RNN에서는 CategoricalCrossEntropy만 사용(-> 라벨이 원핫인코딩되어 있을 때는 Categorical X Sparse)\n",
        "metric = tf.keras.metrics.SparseCategoricalAccuracy('accuracy')             # metric - 평가기준 정확도\n",
        "cls_model.compile(optimizer=optimizer, loss=loss, metrics=[metric])         # 모델(optimizer, loss, metrics)"
      ]
    },
    {
      "cell_type": "code",
      "execution_count": null,
      "metadata": {
        "colab": {
          "base_uri": "https://localhost:8080/"
        },
        "id": "aqIAHDZ0Z4mj",
        "outputId": "14031cee-d132-4aab-f833-51296d9eb157"
      },
      "outputs": [
        {
          "output_type": "stream",
          "name": "stdout",
          "text": [
            "data_out/KOR/tf2_bert_naver_train -- Folder create complete \n",
            "\n",
            "Epoch 1/3\n",
            "214/214 [==============================] - ETA: 0s - loss: 0.6299 - accuracy: 0.7831\n",
            "Epoch 1: val_accuracy improved from -inf to 0.87426, saving model to data_out/KOR/tf2_bert_naver_train/weights.h5\n",
            "214/214 [==============================] - 463s 2s/step - loss: 0.6299 - accuracy: 0.7831 - val_loss: 0.3888 - val_accuracy: 0.8743\n",
            "Epoch 2/3\n",
            "214/214 [==============================] - ETA: 0s - loss: 0.3903 - accuracy: 0.8669\n",
            "Epoch 2: val_accuracy improved from 0.87426 to 0.89842, saving model to data_out/KOR/tf2_bert_naver_train/weights.h5\n",
            "214/214 [==============================] - 408s 2s/step - loss: 0.3903 - accuracy: 0.8669 - val_loss: 0.2987 - val_accuracy: 0.8984\n",
            "Epoch 3/3\n",
            "214/214 [==============================] - ETA: 0s - loss: 0.3169 - accuracy: 0.8877\n",
            "Epoch 3: val_accuracy improved from 0.89842 to 0.90544, saving model to data_out/KOR/tf2_bert_naver_train/weights.h5\n",
            "214/214 [==============================] - 409s 2s/step - loss: 0.3169 - accuracy: 0.8877 - val_loss: 0.2873 - val_accuracy: 0.9054\n",
            "{'loss': [0.6299007534980774, 0.39028075337409973, 0.31691545248031616], 'accuracy': [0.7830860018730164, 0.866907000541687, 0.887739360332489], 'val_loss': [0.3888172507286072, 0.29867425560951233, 0.28733208775520325], 'val_accuracy': [0.8742626905441284, 0.8984177708625793, 0.905439555644989]}\n"
          ]
        }
      ],
      "source": [
        "model_name = \"tf2_bert_naver_train\"\n",
        "\n",
        "# overfitting을 막기 위해 ealrystop 추가\n",
        "earlystop_callback = EarlyStopping(monitor='val_accuracy', min_delta=0.0001,patience=2)\n",
        "# min_delta: the threshold that triggers the termination (acc should at least improve 0.0001) - 정확도 0.0001 이상 안오르면 종료\n",
        "# patience: no improvment epochs (patience = 1) - 1번 이상 improve(?)가 없으면 종료\n",
        "\n",
        "checkpoint_path = os.path.join(DATA_OUT_PATH, model_name, 'weights.h5')\n",
        "checkpoint_dir = os.path.dirname(checkpoint_path)\n",
        "\n",
        "# Create path if exists\n",
        "if os.path.exists(checkpoint_dir):\n",
        "    print(\"{} -- Folder already exists \\n\".format(checkpoint_dir))\n",
        "else:\n",
        "    os.makedirs(checkpoint_dir, exist_ok=True)\n",
        "    print(\"{} -- Folder create complete \\n\".format(checkpoint_dir))\n",
        "    \n",
        "cp_callback = ModelCheckpoint(\n",
        "    checkpoint_path, monitor='val_accuracy', verbose=1, save_best_only=True, save_weights_only=True)\n",
        "\n",
        "# 학습과 eval 시작\n",
        "history = cls_model.fit(train_news_inputs, train_data_labels, epochs=NUM_EPOCHS, batch_size=BATCH_SIZE,\n",
        "                    validation_split = VALID_SPLIT, callbacks=[earlystop_callback, cp_callback])\n",
        "\n",
        "#steps_for_epoch\n",
        "print(history.history)"
      ]
    },
    {
      "cell_type": "markdown",
      "source": [
        "런타임 일반으로 할 때는 epoch 한번 돌 때 하루 종일 돌아서 epoch 수 3 -> 2 로, batch size 100 -> 200으로 변경했는데도 RAM이 꽉찼다 이랬는데 런타임 유형 gpu로 변경하니깐 빨리 돌아가서 epoch 3번으로 함"
      ],
      "metadata": {
        "id": "XXwvHE1GDT4n"
      }
    },
    {
      "cell_type": "code",
      "execution_count": 31,
      "metadata": {
        "id": "BT_I_aY0ogkB",
        "colab": {
          "base_uri": "https://localhost:8080/",
          "height": 279
        },
        "outputId": "66215304-7bf5-4794-d6f4-bcaffdf3dbda"
      },
      "outputs": [
        {
          "output_type": "display_data",
          "data": {
            "text/plain": [
              "<Figure size 432x288 with 1 Axes>"
            ],
            "image/png": "[encoded data removed]"
          },
          "metadata": {
            "needs_background": "light"
          }
        }
      ],
      "source": [
        "plot_graphs(history, \"loss\")"
      ]
    },
    {
      "cell_type": "code",
      "execution_count": 32,
      "metadata": {
        "id": "D6L0oZ74ojqI",
        "colab": {
          "base_uri": "https://localhost:8080/",
          "height": 279
        },
        "outputId": "aea28f74-2ea0-428b-cb57-57d0fe53c9c2"
      },
      "outputs": [
        {
          "output_type": "display_data",
          "data": {
            "text/plain": [
              "<Figure size 432x288 with 1 Axes>"
            ],
            "image/png": "[encoded data removed]"
          },
          "metadata": {
            "needs_background": "light"
          }
        }
      ],
      "source": [
        "plot_graphs(history, \"accuracy\")"
      ]
    }
  ],
  "metadata": {
    "colab": {
      "provenance": []
    },
    "kernelspec": {
      "display_name": "Python 3",
      "name": "python3"
    },
    "language_info": {
      "name": "python"
    },
    "widgets": {
      "application/vnd.jupyter.widget-state+json": {
        "06a953fe83cc41a5bd04bd1d33c958e4": {
          "model_module": "@jupyter-widgets/controls",
          "model_name": "HBoxModel",
          "model_module_version": "1.5.0",
          "state": {
            "_dom_classes": [],
            "_model_module": "@jupyter-widgets/controls",
            "_model_module_version": "1.5.0",
            "_model_name": "HBoxModel",
            "_view_count": null,
            "_view_module": "@jupyter-widgets/controls",
            "_view_module_version": "1.5.0",
            "_view_name": "HBoxView",
            "box_style": "",
            "children": [
              "IPY_MODEL_dd0123c0c55b4f3b9c451e7475b03a8f",
              "IPY_MODEL_fc50cc552c9840bb9357d41dee651e1e",
              "IPY_MODEL_7a7b11db0c284b1abdd4ebb0930fcaa1"
            ],
            "layout": "IPY_MODEL_cf407193ee134ecba075e16498051860"
          }
        },
        "dd0123c0c55b4f3b9c451e7475b03a8f": {
          "model_module": "@jupyter-widgets/controls",
          "model_name": "HTMLModel",
          "model_module_version": "1.5.0",
          "state": {
            "_dom_classes": [],
            "_model_module": "@jupyter-widgets/controls",
            "_model_module_version": "1.5.0",
            "_model_name": "HTMLModel",
            "_view_count": null,
            "_view_module": "@jupyter-widgets/controls",
            "_view_module_version": "1.5.0",
            "_view_name": "HTMLView",
            "description": "",
            "description_tooltip": null,
            "layout": "IPY_MODEL_acbd1770c23f4fccb329f6eacf380fa6",
            "placeholder": "​",
            "style": "IPY_MODEL_02748715e77f4c169dea1dc13d21c732",
            "value": "Downloading (…)solve/main/vocab.txt: 100%"
          }
        },
        "fc50cc552c9840bb9357d41dee651e1e": {
          "model_module": "@jupyter-widgets/controls",
          "model_name": "FloatProgressModel",
          "model_module_version": "1.5.0",
          "state": {
            "_dom_classes": [],
            "_model_module": "@jupyter-widgets/controls",
            "_model_module_version": "1.5.0",
            "_model_name": "FloatProgressModel",
            "_view_count": null,
            "_view_module": "@jupyter-widgets/controls",
            "_view_module_version": "1.5.0",
            "_view_name": "ProgressView",
            "bar_style": "success",
            "description": "",
            "description_tooltip": null,
            "layout": "IPY_MODEL_3dd65d097d934f86928cd5df5201e1c4",
            "max": 995526,
            "min": 0,
            "orientation": "horizontal",
            "style": "IPY_MODEL_276c12e055c642caba3a932c549004f6",
            "value": 995526
          }
        },
        "7a7b11db0c284b1abdd4ebb0930fcaa1": {
          "model_module": "@jupyter-widgets/controls",
          "model_name": "HTMLModel",
          "model_module_version": "1.5.0",
          "state": {
            "_dom_classes": [],
            "_model_module": "@jupyter-widgets/controls",
            "_model_module_version": "1.5.0",
            "_model_name": "HTMLModel",
            "_view_count": null,
            "_view_module": "@jupyter-widgets/controls",
            "_view_module_version": "1.5.0",
            "_view_name": "HTMLView",
            "description": "",
            "description_tooltip": null,
            "layout": "IPY_MODEL_573fc4216e154469a9620149bfbb6513",
            "placeholder": "​",
            "style": "IPY_MODEL_db6b7cf9ae4d483482e5afd0cbbfad3a",
            "value": " 996k/996k [00:01&lt;00:00, 751kB/s]"
          }
        },
        "cf407193ee134ecba075e16498051860": {
          "model_module": "@jupyter-widgets/base",
          "model_name": "LayoutModel",
          "model_module_version": "1.2.0",
          "state": {
            "_model_module": "@jupyter-widgets/base",
            "_model_module_version": "1.2.0",
            "_model_name": "LayoutModel",
            "_view_count": null,
            "_view_module": "@jupyter-widgets/base",
            "_view_module_version": "1.2.0",
            "_view_name": "LayoutView",
            "align_content": null,
            "align_items": null,
            "align_self": null,
            "border": null,
            "bottom": null,
            "display": null,
            "flex": null,
            "flex_flow": null,
            "grid_area": null,
            "grid_auto_columns": null,
            "grid_auto_flow": null,
            "grid_auto_rows": null,
            "grid_column": null,
            "grid_gap": null,
            "grid_row": null,
            "grid_template_areas": null,
            "grid_template_columns": null,
            "grid_template_rows": null,
            "height": null,
            "justify_content": null,
            "justify_items": null,
            "left": null,
            "margin": null,
            "max_height": null,
            "max_width": null,
            "min_height": null,
            "min_width": null,
            "object_fit": null,
            "object_position": null,
            "order": null,
            "overflow": null,
            "overflow_x": null,
            "overflow_y": null,
            "padding": null,
            "right": null,
            "top": null,
            "visibility": null,
            "width": null
          }
        },
        "acbd1770c23f4fccb329f6eacf380fa6": {
          "model_module": "@jupyter-widgets/base",
          "model_name": "LayoutModel",
          "model_module_version": "1.2.0",
          "state": {
            "_model_module": "@jupyter-widgets/base",
            "_model_module_version": "1.2.0",
            "_model_name": "LayoutModel",
            "_view_count": null,
            "_view_module": "@jupyter-widgets/base",
            "_view_module_version": "1.2.0",
            "_view_name": "LayoutView",
            "align_content": null,
            "align_items": null,
            "align_self": null,
            "border": null,
            "bottom": null,
            "display": null,
            "flex": null,
            "flex_flow": null,
            "grid_area": null,
            "grid_auto_columns": null,
            "grid_auto_flow": null,
            "grid_auto_rows": null,
            "grid_column": null,
            "grid_gap": null,
            "grid_row": null,
            "grid_template_areas": null,
            "grid_template_columns": null,
            "grid_template_rows": null,
            "height": null,
            "justify_content": null,
            "justify_items": null,
            "left": null,
            "margin": null,
            "max_height": null,
            "max_width": null,
            "min_height": null,
            "min_width": null,
            "object_fit": null,
            "object_position": null,
            "order": null,
            "overflow": null,
            "overflow_x": null,
            "overflow_y": null,
            "padding": null,
            "right": null,
            "top": null,
            "visibility": null,
            "width": null
          }
        },
        "02748715e77f4c169dea1dc13d21c732": {
          "model_module": "@jupyter-widgets/controls",
          "model_name": "DescriptionStyleModel",
          "model_module_version": "1.5.0",
          "state": {
            "_model_module": "@jupyter-widgets/controls",
            "_model_module_version": "1.5.0",
            "_model_name": "DescriptionStyleModel",
            "_view_count": null,
            "_view_module": "@jupyter-widgets/base",
            "_view_module_version": "1.2.0",
            "_view_name": "StyleView",
            "description_width": ""
          }
        },
        "3dd65d097d934f86928cd5df5201e1c4": {
          "model_module": "@jupyter-widgets/base",
          "model_name": "LayoutModel",
          "model_module_version": "1.2.0",
          "state": {
            "_model_module": "@jupyter-widgets/base",
            "_model_module_version": "1.2.0",
            "_model_name": "LayoutModel",
            "_view_count": null,
            "_view_module": "@jupyter-widgets/base",
            "_view_module_version": "1.2.0",
            "_view_name": "LayoutView",
            "align_content": null,
            "align_items": null,
            "align_self": null,
            "border": null,
            "bottom": null,
            "display": null,
            "flex": null,
            "flex_flow": null,
            "grid_area": null,
            "grid_auto_columns": null,
            "grid_auto_flow": null,
            "grid_auto_rows": null,
            "grid_column": null,
            "grid_gap": null,
            "grid_row": null,
            "grid_template_areas": null,
            "grid_template_columns": null,
            "grid_template_rows": null,
            "height": null,
            "justify_content": null,
            "justify_items": null,
            "left": null,
            "margin": null,
            "max_height": null,
            "max_width": null,
            "min_height": null,
            "min_width": null,
            "object_fit": null,
            "object_position": null,
            "order": null,
            "overflow": null,
            "overflow_x": null,
            "overflow_y": null,
            "padding": null,
            "right": null,
            "top": null,
            "visibility": null,
            "width": null
          }
        },
        "276c12e055c642caba3a932c549004f6": {
          "model_module": "@jupyter-widgets/controls",
          "model_name": "ProgressStyleModel",
          "model_module_version": "1.5.0",
          "state": {
            "_model_module": "@jupyter-widgets/controls",
            "_model_module_version": "1.5.0",
            "_model_name": "ProgressStyleModel",
            "_view_count": null,
            "_view_module": "@jupyter-widgets/base",
            "_view_module_version": "1.2.0",
            "_view_name": "StyleView",
            "bar_color": null,
            "description_width": ""
          }
        },
        "573fc4216e154469a9620149bfbb6513": {
          "model_module": "@jupyter-widgets/base",
          "model_name": "LayoutModel",
          "model_module_version": "1.2.0",
          "state": {
            "_model_module": "@jupyter-widgets/base",
            "_model_module_version": "1.2.0",
            "_model_name": "LayoutModel",
            "_view_count": null,
            "_view_module": "@jupyter-widgets/base",
            "_view_module_version": "1.2.0",
            "_view_name": "LayoutView",
            "align_content": null,
            "align_items": null,
            "align_self": null,
            "border": null,
            "bottom": null,
            "display": null,
            "flex": null,
            "flex_flow": null,
            "grid_area": null,
            "grid_auto_columns": null,
            "grid_auto_flow": null,
            "grid_auto_rows": null,
            "grid_column": null,
            "grid_gap": null,
            "grid_row": null,
            "grid_template_areas": null,
            "grid_template_columns": null,
            "grid_template_rows": null,
            "height": null,
            "justify_content": null,
            "justify_items": null,
            "left": null,
            "margin": null,
            "max_height": null,
            "max_width": null,
            "min_height": null,
            "min_width": null,
            "object_fit": null,
            "object_position": null,
            "order": null,
            "overflow": null,
            "overflow_x": null,
            "overflow_y": null,
            "padding": null,
            "right": null,
            "top": null,
            "visibility": null,
            "width": null
          }
        },
        "db6b7cf9ae4d483482e5afd0cbbfad3a": {
          "model_module": "@jupyter-widgets/controls",
          "model_name": "DescriptionStyleModel",
          "model_module_version": "1.5.0",
          "state": {
            "_model_module": "@jupyter-widgets/controls",
            "_model_module_version": "1.5.0",
            "_model_name": "DescriptionStyleModel",
            "_view_count": null,
            "_view_module": "@jupyter-widgets/base",
            "_view_module_version": "1.2.0",
            "_view_name": "StyleView",
            "description_width": ""
          }
        },
        "530cbf620e1e4150a90fef5be1ca2af9": {
          "model_module": "@jupyter-widgets/controls",
          "model_name": "HBoxModel",
          "model_module_version": "1.5.0",
          "state": {
            "_dom_classes": [],
            "_model_module": "@jupyter-widgets/controls",
            "_model_module_version": "1.5.0",
            "_model_name": "HBoxModel",
            "_view_count": null,
            "_view_module": "@jupyter-widgets/controls",
            "_view_module_version": "1.5.0",
            "_view_name": "HBoxView",
            "box_style": "",
            "children": [
              "IPY_MODEL_f02d73d9200a4d11886db226df060e4e",
              "IPY_MODEL_1b5a8d08821d4073a81f8ef9628475a8",
              "IPY_MODEL_efc53f13fd0f42a2bc4d8e6cec9d71ed"
            ],
            "layout": "IPY_MODEL_4340944cefbc4aa49bca242eb1a7ec4f"
          }
        },
        "f02d73d9200a4d11886db226df060e4e": {
          "model_module": "@jupyter-widgets/controls",
          "model_name": "HTMLModel",
          "model_module_version": "1.5.0",
          "state": {
            "_dom_classes": [],
            "_model_module": "@jupyter-widgets/controls",
            "_model_module_version": "1.5.0",
            "_model_name": "HTMLModel",
            "_view_count": null,
            "_view_module": "@jupyter-widgets/controls",
            "_view_module_version": "1.5.0",
            "_view_name": "HTMLView",
            "description": "",
            "description_tooltip": null,
            "layout": "IPY_MODEL_026425bddf524c22987c1f5e978f4f2e",
            "placeholder": "​",
            "style": "IPY_MODEL_cfee82d9128c4854a31730e2edaba153",
            "value": "Downloading (…)okenizer_config.json: 100%"
          }
        },
        "1b5a8d08821d4073a81f8ef9628475a8": {
          "model_module": "@jupyter-widgets/controls",
          "model_name": "FloatProgressModel",
          "model_module_version": "1.5.0",
          "state": {
            "_dom_classes": [],
            "_model_module": "@jupyter-widgets/controls",
            "_model_module_version": "1.5.0",
            "_model_name": "FloatProgressModel",
            "_view_count": null,
            "_view_module": "@jupyter-widgets/controls",
            "_view_module_version": "1.5.0",
            "_view_name": "ProgressView",
            "bar_style": "success",
            "description": "",
            "description_tooltip": null,
            "layout": "IPY_MODEL_44efb2ec765144a0b5fbc3fd7119fe2f",
            "max": 29,
            "min": 0,
            "orientation": "horizontal",
            "style": "IPY_MODEL_7497fcd8cf6d49f5b81e579eeb7ce117",
            "value": 29
          }
        },
        "efc53f13fd0f42a2bc4d8e6cec9d71ed": {
          "model_module": "@jupyter-widgets/controls",
          "model_name": "HTMLModel",
          "model_module_version": "1.5.0",
          "state": {
            "_dom_classes": [],
            "_model_module": "@jupyter-widgets/controls",
            "_model_module_version": "1.5.0",
            "_model_name": "HTMLModel",
            "_view_count": null,
            "_view_module": "@jupyter-widgets/controls",
            "_view_module_version": "1.5.0",
            "_view_name": "HTMLView",
            "description": "",
            "description_tooltip": null,
            "layout": "IPY_MODEL_a83b5d3fe281445194488888f928d39d",
            "placeholder": "​",
            "style": "IPY_MODEL_544b4a5d808d41c09df466fffbc3ccba",
            "value": " 29.0/29.0 [00:00&lt;00:00, 1.18kB/s]"
          }
        },
        "4340944cefbc4aa49bca242eb1a7ec4f": {
          "model_module": "@jupyter-widgets/base",
          "model_name": "LayoutModel",
          "model_module_version": "1.2.0",
          "state": {
            "_model_module": "@jupyter-widgets/base",
            "_model_module_version": "1.2.0",
            "_model_name": "LayoutModel",
            "_view_count": null,
            "_view_module": "@jupyter-widgets/base",
            "_view_module_version": "1.2.0",
            "_view_name": "LayoutView",
            "align_content": null,
            "align_items": null,
            "align_self": null,
            "border": null,
            "bottom": null,
            "display": null,
            "flex": null,
            "flex_flow": null,
            "grid_area": null,
            "grid_auto_columns": null,
            "grid_auto_flow": null,
            "grid_auto_rows": null,
            "grid_column": null,
            "grid_gap": null,
            "grid_row": null,
            "grid_template_areas": null,
            "grid_template_columns": null,
            "grid_template_rows": null,
            "height": null,
            "justify_content": null,
            "justify_items": null,
            "left": null,
            "margin": null,
            "max_height": null,
            "max_width": null,
            "min_height": null,
            "min_width": null,
            "object_fit": null,
            "object_position": null,
            "order": null,
            "overflow": null,
            "overflow_x": null,
            "overflow_y": null,
            "padding": null,
            "right": null,
            "top": null,
            "visibility": null,
            "width": null
          }
        },
        "026425bddf524c22987c1f5e978f4f2e": {
          "model_module": "@jupyter-widgets/base",
          "model_name": "LayoutModel",
          "model_module_version": "1.2.0",
          "state": {
            "_model_module": "@jupyter-widgets/base",
            "_model_module_version": "1.2.0",
            "_model_name": "LayoutModel",
            "_view_count": null,
            "_view_module": "@jupyter-widgets/base",
            "_view_module_version": "1.2.0",
            "_view_name": "LayoutView",
            "align_content": null,
            "align_items": null,
            "align_self": null,
            "border": null,
            "bottom": null,
            "display": null,
            "flex": null,
            "flex_flow": null,
            "grid_area": null,
            "grid_auto_columns": null,
            "grid_auto_flow": null,
            "grid_auto_rows": null,
            "grid_column": null,
            "grid_gap": null,
            "grid_row": null,
            "grid_template_areas": null,
            "grid_template_columns": null,
            "grid_template_rows": null,
            "height": null,
            "justify_content": null,
            "justify_items": null,
            "left": null,
            "margin": null,
            "max_height": null,
            "max_width": null,
            "min_height": null,
            "min_width": null,
            "object_fit": null,
            "object_position": null,
            "order": null,
            "overflow": null,
            "overflow_x": null,
            "overflow_y": null,
            "padding": null,
            "right": null,
            "top": null,
            "visibility": null,
            "width": null
          }
        },
        "cfee82d9128c4854a31730e2edaba153": {
          "model_module": "@jupyter-widgets/controls",
          "model_name": "DescriptionStyleModel",
          "model_module_version": "1.5.0",
          "state": {
            "_model_module": "@jupyter-widgets/controls",
            "_model_module_version": "1.5.0",
            "_model_name": "DescriptionStyleModel",
            "_view_count": null,
            "_view_module": "@jupyter-widgets/base",
            "_view_module_version": "1.2.0",
            "_view_name": "StyleView",
            "description_width": ""
          }
        },
        "44efb2ec765144a0b5fbc3fd7119fe2f": {
          "model_module": "@jupyter-widgets/base",
          "model_name": "LayoutModel",
          "model_module_version": "1.2.0",
          "state": {
            "_model_module": "@jupyter-widgets/base",
            "_model_module_version": "1.2.0",
            "_model_name": "LayoutModel",
            "_view_count": null,
            "_view_module": "@jupyter-widgets/base",
            "_view_module_version": "1.2.0",
            "_view_name": "LayoutView",
            "align_content": null,
            "align_items": null,
            "align_self": null,
            "border": null,
            "bottom": null,
            "display": null,
            "flex": null,
            "flex_flow": null,
            "grid_area": null,
            "grid_auto_columns": null,
            "grid_auto_flow": null,
            "grid_auto_rows": null,
            "grid_column": null,
            "grid_gap": null,
            "grid_row": null,
            "grid_template_areas": null,
            "grid_template_columns": null,
            "grid_template_rows": null,
            "height": null,
            "justify_content": null,
            "justify_items": null,
            "left": null,
            "margin": null,
            "max_height": null,
            "max_width": null,
            "min_height": null,
            "min_width": null,
            "object_fit": null,
            "object_position": null,
            "order": null,
            "overflow": null,
            "overflow_x": null,
            "overflow_y": null,
            "padding": null,
            "right": null,
            "top": null,
            "visibility": null,
            "width": null
          }
        },
        "7497fcd8cf6d49f5b81e579eeb7ce117": {
          "model_module": "@jupyter-widgets/controls",
          "model_name": "ProgressStyleModel",
          "model_module_version": "1.5.0",
          "state": {
            "_model_module": "@jupyter-widgets/controls",
            "_model_module_version": "1.5.0",
            "_model_name": "ProgressStyleModel",
            "_view_count": null,
            "_view_module": "@jupyter-widgets/base",
            "_view_module_version": "1.2.0",
            "_view_name": "StyleView",
            "bar_color": null,
            "description_width": ""
          }
        },
        "a83b5d3fe281445194488888f928d39d": {
          "model_module": "@jupyter-widgets/base",
          "model_name": "LayoutModel",
          "model_module_version": "1.2.0",
          "state": {
            "_model_module": "@jupyter-widgets/base",
            "_model_module_version": "1.2.0",
            "_model_name": "LayoutModel",
            "_view_count": null,
            "_view_module": "@jupyter-widgets/base",
            "_view_module_version": "1.2.0",
            "_view_name": "LayoutView",
            "align_content": null,
            "align_items": null,
            "align_self": null,
            "border": null,
            "bottom": null,
            "display": null,
            "flex": null,
            "flex_flow": null,
            "grid_area": null,
            "grid_auto_columns": null,
            "grid_auto_flow": null,
            "grid_auto_rows": null,
            "grid_column": null,
            "grid_gap": null,
            "grid_row": null,
            "grid_template_areas": null,
            "grid_template_columns": null,
            "grid_template_rows": null,
            "height": null,
            "justify_content": null,
            "justify_items": null,
            "left": null,
            "margin": null,
            "max_height": null,
            "max_width": null,
            "min_height": null,
            "min_width": null,
            "object_fit": null,
            "object_position": null,
            "order": null,
            "overflow": null,
            "overflow_x": null,
            "overflow_y": null,
            "padding": null,
            "right": null,
            "top": null,
            "visibility": null,
            "width": null
          }
        },
        "544b4a5d808d41c09df466fffbc3ccba": {
          "model_module": "@jupyter-widgets/controls",
          "model_name": "DescriptionStyleModel",
          "model_module_version": "1.5.0",
          "state": {
            "_model_module": "@jupyter-widgets/controls",
            "_model_module_version": "1.5.0",
            "_model_name": "DescriptionStyleModel",
            "_view_count": null,
            "_view_module": "@jupyter-widgets/base",
            "_view_module_version": "1.2.0",
            "_view_name": "StyleView",
            "description_width": ""
          }
        },
        "368f732435dd4277955cb224e4458da9": {
          "model_module": "@jupyter-widgets/controls",
          "model_name": "HBoxModel",
          "model_module_version": "1.5.0",
          "state": {
            "_dom_classes": [],
            "_model_module": "@jupyter-widgets/controls",
            "_model_module_version": "1.5.0",
            "_model_name": "HBoxModel",
            "_view_count": null,
            "_view_module": "@jupyter-widgets/controls",
            "_view_module_version": "1.5.0",
            "_view_name": "HBoxView",
            "box_style": "",
            "children": [
              "IPY_MODEL_9b0736ae250840d1abc29e5691c5122c",
              "IPY_MODEL_bdedacc28b8e45b6802627742e2a4525",
              "IPY_MODEL_8a9f114fa7464474bac06b82a61f2283"
            ],
            "layout": "IPY_MODEL_4e9dcb309afc4372be8f55592db2289a"
          }
        },
        "9b0736ae250840d1abc29e5691c5122c": {
          "model_module": "@jupyter-widgets/controls",
          "model_name": "HTMLModel",
          "model_module_version": "1.5.0",
          "state": {
            "_dom_classes": [],
            "_model_module": "@jupyter-widgets/controls",
            "_model_module_version": "1.5.0",
            "_model_name": "HTMLModel",
            "_view_count": null,
            "_view_module": "@jupyter-widgets/controls",
            "_view_module_version": "1.5.0",
            "_view_name": "HTMLView",
            "description": "",
            "description_tooltip": null,
            "layout": "IPY_MODEL_d559e0f7339d4467bb114d1faf3396a8",
            "placeholder": "​",
            "style": "IPY_MODEL_f40a99b6765e495e8d1eaa48e183f7da",
            "value": "Downloading (…)lve/main/config.json: 100%"
          }
        },
        "bdedacc28b8e45b6802627742e2a4525": {
          "model_module": "@jupyter-widgets/controls",
          "model_name": "FloatProgressModel",
          "model_module_version": "1.5.0",
          "state": {
            "_dom_classes": [],
            "_model_module": "@jupyter-widgets/controls",
            "_model_module_version": "1.5.0",
            "_model_name": "FloatProgressModel",
            "_view_count": null,
            "_view_module": "@jupyter-widgets/controls",
            "_view_module_version": "1.5.0",
            "_view_name": "ProgressView",
            "bar_style": "success",
            "description": "",
            "description_tooltip": null,
            "layout": "IPY_MODEL_9dc83d338d6f4793978875b541b6c8bb",
            "max": 625,
            "min": 0,
            "orientation": "horizontal",
            "style": "IPY_MODEL_cc281637d5164c9ca90dc7b9d4991b60",
            "value": 625
          }
        },
        "8a9f114fa7464474bac06b82a61f2283": {
          "model_module": "@jupyter-widgets/controls",
          "model_name": "HTMLModel",
          "model_module_version": "1.5.0",
          "state": {
            "_dom_classes": [],
            "_model_module": "@jupyter-widgets/controls",
            "_model_module_version": "1.5.0",
            "_model_name": "HTMLModel",
            "_view_count": null,
            "_view_module": "@jupyter-widgets/controls",
            "_view_module_version": "1.5.0",
            "_view_name": "HTMLView",
            "description": "",
            "description_tooltip": null,
            "layout": "IPY_MODEL_229c5e5da22144cc9cac288b93e6a4d1",
            "placeholder": "​",
            "style": "IPY_MODEL_7c42554b6b0b4d61b44cf5717cfa60cc",
            "value": " 625/625 [00:00&lt;00:00, 25.3kB/s]"
          }
        },
        "4e9dcb309afc4372be8f55592db2289a": {
          "model_module": "@jupyter-widgets/base",
          "model_name": "LayoutModel",
          "model_module_version": "1.2.0",
          "state": {
            "_model_module": "@jupyter-widgets/base",
            "_model_module_version": "1.2.0",
            "_model_name": "LayoutModel",
            "_view_count": null,
            "_view_module": "@jupyter-widgets/base",
            "_view_module_version": "1.2.0",
            "_view_name": "LayoutView",
            "align_content": null,
            "align_items": null,
            "align_self": null,
            "border": null,
            "bottom": null,
            "display": null,
            "flex": null,
            "flex_flow": null,
            "grid_area": null,
            "grid_auto_columns": null,
            "grid_auto_flow": null,
            "grid_auto_rows": null,
            "grid_column": null,
            "grid_gap": null,
            "grid_row": null,
            "grid_template_areas": null,
            "grid_template_columns": null,
            "grid_template_rows": null,
            "height": null,
            "justify_content": null,
            "justify_items": null,
            "left": null,
            "margin": null,
            "max_height": null,
            "max_width": null,
            "min_height": null,
            "min_width": null,
            "object_fit": null,
            "object_position": null,
            "order": null,
            "overflow": null,
            "overflow_x": null,
            "overflow_y": null,
            "padding": null,
            "right": null,
            "top": null,
            "visibility": null,
            "width": null
          }
        },
        "d559e0f7339d4467bb114d1faf3396a8": {
          "model_module": "@jupyter-widgets/base",
          "model_name": "LayoutModel",
          "model_module_version": "1.2.0",
          "state": {
            "_model_module": "@jupyter-widgets/base",
            "_model_module_version": "1.2.0",
            "_model_name": "LayoutModel",
            "_view_count": null,
            "_view_module": "@jupyter-widgets/base",
            "_view_module_version": "1.2.0",
            "_view_name": "LayoutView",
            "align_content": null,
            "align_items": null,
            "align_self": null,
            "border": null,
            "bottom": null,
            "display": null,
            "flex": null,
            "flex_flow": null,
            "grid_area": null,
            "grid_auto_columns": null,
            "grid_auto_flow": null,
            "grid_auto_rows": null,
            "grid_column": null,
            "grid_gap": null,
            "grid_row": null,
            "grid_template_areas": null,
            "grid_template_columns": null,
            "grid_template_rows": null,
            "height": null,
            "justify_content": null,
            "justify_items": null,
            "left": null,
            "margin": null,
            "max_height": null,
            "max_width": null,
            "min_height": null,
            "min_width": null,
            "object_fit": null,
            "object_position": null,
            "order": null,
            "overflow": null,
            "overflow_x": null,
            "overflow_y": null,
            "padding": null,
            "right": null,
            "top": null,
            "visibility": null,
            "width": null
          }
        },
        "f40a99b6765e495e8d1eaa48e183f7da": {
          "model_module": "@jupyter-widgets/controls",
          "model_name": "DescriptionStyleModel",
          "model_module_version": "1.5.0",
          "state": {
            "_model_module": "@jupyter-widgets/controls",
            "_model_module_version": "1.5.0",
            "_model_name": "DescriptionStyleModel",
            "_view_count": null,
            "_view_module": "@jupyter-widgets/base",
            "_view_module_version": "1.2.0",
            "_view_name": "StyleView",
            "description_width": ""
          }
        },
        "9dc83d338d6f4793978875b541b6c8bb": {
          "model_module": "@jupyter-widgets/base",
          "model_name": "LayoutModel",
          "model_module_version": "1.2.0",
          "state": {
            "_model_module": "@jupyter-widgets/base",
            "_model_module_version": "1.2.0",
            "_model_name": "LayoutModel",
            "_view_count": null,
            "_view_module": "@jupyter-widgets/base",
            "_view_module_version": "1.2.0",
            "_view_name": "LayoutView",
            "align_content": null,
            "align_items": null,
            "align_self": null,
            "border": null,
            "bottom": null,
            "display": null,
            "flex": null,
            "flex_flow": null,
            "grid_area": null,
            "grid_auto_columns": null,
            "grid_auto_flow": null,
            "grid_auto_rows": null,
            "grid_column": null,
            "grid_gap": null,
            "grid_row": null,
            "grid_template_areas": null,
            "grid_template_columns": null,
            "grid_template_rows": null,
            "height": null,
            "justify_content": null,
            "justify_items": null,
            "left": null,
            "margin": null,
            "max_height": null,
            "max_width": null,
            "min_height": null,
            "min_width": null,
            "object_fit": null,
            "object_position": null,
            "order": null,
            "overflow": null,
            "overflow_x": null,
            "overflow_y": null,
            "padding": null,
            "right": null,
            "top": null,
            "visibility": null,
            "width": null
          }
        },
        "cc281637d5164c9ca90dc7b9d4991b60": {
          "model_module": "@jupyter-widgets/controls",
          "model_name": "ProgressStyleModel",
          "model_module_version": "1.5.0",
          "state": {
            "_model_module": "@jupyter-widgets/controls",
            "_model_module_version": "1.5.0",
            "_model_name": "ProgressStyleModel",
            "_view_count": null,
            "_view_module": "@jupyter-widgets/base",
            "_view_module_version": "1.2.0",
            "_view_name": "StyleView",
            "bar_color": null,
            "description_width": ""
          }
        },
        "229c5e5da22144cc9cac288b93e6a4d1": {
          "model_module": "@jupyter-widgets/base",
          "model_name": "LayoutModel",
          "model_module_version": "1.2.0",
          "state": {
            "_model_module": "@jupyter-widgets/base",
            "_model_module_version": "1.2.0",
            "_model_name": "LayoutModel",
            "_view_count": null,
            "_view_module": "@jupyter-widgets/base",
            "_view_module_version": "1.2.0",
            "_view_name": "LayoutView",
            "align_content": null,
            "align_items": null,
            "align_self": null,
            "border": null,
            "bottom": null,
            "display": null,
            "flex": null,
            "flex_flow": null,
            "grid_area": null,
            "grid_auto_columns": null,
            "grid_auto_flow": null,
            "grid_auto_rows": null,
            "grid_column": null,
            "grid_gap": null,
            "grid_row": null,
            "grid_template_areas": null,
            "grid_template_columns": null,
            "grid_template_rows": null,
            "height": null,
            "justify_content": null,
            "justify_items": null,
            "left": null,
            "margin": null,
            "max_height": null,
            "max_width": null,
            "min_height": null,
            "min_width": null,
            "object_fit": null,
            "object_position": null,
            "order": null,
            "overflow": null,
            "overflow_x": null,
            "overflow_y": null,
            "padding": null,
            "right": null,
            "top": null,
            "visibility": null,
            "width": null
          }
        },
        "7c42554b6b0b4d61b44cf5717cfa60cc": {
          "model_module": "@jupyter-widgets/controls",
          "model_name": "DescriptionStyleModel",
          "model_module_version": "1.5.0",
          "state": {
            "_model_module": "@jupyter-widgets/controls",
            "_model_module_version": "1.5.0",
            "_model_name": "DescriptionStyleModel",
            "_view_count": null,
            "_view_module": "@jupyter-widgets/base",
            "_view_module_version": "1.2.0",
            "_view_name": "StyleView",
            "description_width": ""
          }
        },
        "8258c6d638ca4365b716371e06c7c58d": {
          "model_module": "@jupyter-widgets/controls",
          "model_name": "HBoxModel",
          "model_module_version": "1.5.0",
          "state": {
            "_dom_classes": [],
            "_model_module": "@jupyter-widgets/controls",
            "_model_module_version": "1.5.0",
            "_model_name": "HBoxModel",
            "_view_count": null,
            "_view_module": "@jupyter-widgets/controls",
            "_view_module_version": "1.5.0",
            "_view_name": "HBoxView",
            "box_style": "",
            "children": [
              "IPY_MODEL_00204803d56243f1a950273bc343a050",
              "IPY_MODEL_8fb4c8da267042188aff2bedef8d867e",
              "IPY_MODEL_1a1ff97afcc948759115296464280d09"
            ],
            "layout": "IPY_MODEL_f036403308664c06a61d41173ceb00ac"
          }
        },
        "00204803d56243f1a950273bc343a050": {
          "model_module": "@jupyter-widgets/controls",
          "model_name": "HTMLModel",
          "model_module_version": "1.5.0",
          "state": {
            "_dom_classes": [],
            "_model_module": "@jupyter-widgets/controls",
            "_model_module_version": "1.5.0",
            "_model_name": "HTMLModel",
            "_view_count": null,
            "_view_module": "@jupyter-widgets/controls",
            "_view_module_version": "1.5.0",
            "_view_name": "HTMLView",
            "description": "",
            "description_tooltip": null,
            "layout": "IPY_MODEL_a22ab43699e44eac95c564a7aeb0832b",
            "placeholder": "​",
            "style": "IPY_MODEL_1713e1fe468349aabf332825b61e368d",
            "value": "Downloading (…)&quot;tf_model.h5&quot;;: 100%"
          }
        },
        "8fb4c8da267042188aff2bedef8d867e": {
          "model_module": "@jupyter-widgets/controls",
          "model_name": "FloatProgressModel",
          "model_module_version": "1.5.0",
          "state": {
            "_dom_classes": [],
            "_model_module": "@jupyter-widgets/controls",
            "_model_module_version": "1.5.0",
            "_model_name": "FloatProgressModel",
            "_view_count": null,
            "_view_module": "@jupyter-widgets/controls",
            "_view_module_version": "1.5.0",
            "_view_name": "ProgressView",
            "bar_style": "success",
            "description": "",
            "description_tooltip": null,
            "layout": "IPY_MODEL_bb48d81a05c747baaaf01689d33217d6",
            "max": 1083389348,
            "min": 0,
            "orientation": "horizontal",
            "style": "IPY_MODEL_82fda54e74314efaa75cbfcecf9793bd",
            "value": 1083389348
          }
        },
        "1a1ff97afcc948759115296464280d09": {
          "model_module": "@jupyter-widgets/controls",
          "model_name": "HTMLModel",
          "model_module_version": "1.5.0",
          "state": {
            "_dom_classes": [],
            "_model_module": "@jupyter-widgets/controls",
            "_model_module_version": "1.5.0",
            "_model_name": "HTMLModel",
            "_view_count": null,
            "_view_module": "@jupyter-widgets/controls",
            "_view_module_version": "1.5.0",
            "_view_name": "HTMLView",
            "description": "",
            "description_tooltip": null,
            "layout": "IPY_MODEL_27f4b21630224b3fb1d7dc3afc1da160",
            "placeholder": "​",
            "style": "IPY_MODEL_e0d20faadf41471ab6bf598f95325600",
            "value": " 1.08G/1.08G [00:15&lt;00:00, 71.5MB/s]"
          }
        },
        "f036403308664c06a61d41173ceb00ac": {
          "model_module": "@jupyter-widgets/base",
          "model_name": "LayoutModel",
          "model_module_version": "1.2.0",
          "state": {
            "_model_module": "@jupyter-widgets/base",
            "_model_module_version": "1.2.0",
            "_model_name": "LayoutModel",
            "_view_count": null,
            "_view_module": "@jupyter-widgets/base",
            "_view_module_version": "1.2.0",
            "_view_name": "LayoutView",
            "align_content": null,
            "align_items": null,
            "align_self": null,
            "border": null,
            "bottom": null,
            "display": null,
            "flex": null,
            "flex_flow": null,
            "grid_area": null,
            "grid_auto_columns": null,
            "grid_auto_flow": null,
            "grid_auto_rows": null,
            "grid_column": null,
            "grid_gap": null,
            "grid_row": null,
            "grid_template_areas": null,
            "grid_template_columns": null,
            "grid_template_rows": null,
            "height": null,
            "justify_content": null,
            "justify_items": null,
            "left": null,
            "margin": null,
            "max_height": null,
            "max_width": null,
            "min_height": null,
            "min_width": null,
            "object_fit": null,
            "object_position": null,
            "order": null,
            "overflow": null,
            "overflow_x": null,
            "overflow_y": null,
            "padding": null,
            "right": null,
            "top": null,
            "visibility": null,
            "width": null
          }
        },
        "a22ab43699e44eac95c564a7aeb0832b": {
          "model_module": "@jupyter-widgets/base",
          "model_name": "LayoutModel",
          "model_module_version": "1.2.0",
          "state": {
            "_model_module": "@jupyter-widgets/base",
            "_model_module_version": "1.2.0",
            "_model_name": "LayoutModel",
            "_view_count": null,
            "_view_module": "@jupyter-widgets/base",
            "_view_module_version": "1.2.0",
            "_view_name": "LayoutView",
            "align_content": null,
            "align_items": null,
            "align_self": null,
            "border": null,
            "bottom": null,
            "display": null,
            "flex": null,
            "flex_flow": null,
            "grid_area": null,
            "grid_auto_columns": null,
            "grid_auto_flow": null,
            "grid_auto_rows": null,
            "grid_column": null,
            "grid_gap": null,
            "grid_row": null,
            "grid_template_areas": null,
            "grid_template_columns": null,
            "grid_template_rows": null,
            "height": null,
            "justify_content": null,
            "justify_items": null,
            "left": null,
            "margin": null,
            "max_height": null,
            "max_width": null,
            "min_height": null,
            "min_width": null,
            "object_fit": null,
            "object_position": null,
            "order": null,
            "overflow": null,
            "overflow_x": null,
            "overflow_y": null,
            "padding": null,
            "right": null,
            "top": null,
            "visibility": null,
            "width": null
          }
        },
        "1713e1fe468349aabf332825b61e368d": {
          "model_module": "@jupyter-widgets/controls",
          "model_name": "DescriptionStyleModel",
          "model_module_version": "1.5.0",
          "state": {
            "_model_module": "@jupyter-widgets/controls",
            "_model_module_version": "1.5.0",
            "_model_name": "DescriptionStyleModel",
            "_view_count": null,
            "_view_module": "@jupyter-widgets/base",
            "_view_module_version": "1.2.0",
            "_view_name": "StyleView",
            "description_width": ""
          }
        },
        "bb48d81a05c747baaaf01689d33217d6": {
          "model_module": "@jupyter-widgets/base",
          "model_name": "LayoutModel",
          "model_module_version": "1.2.0",
          "state": {
            "_model_module": "@jupyter-widgets/base",
            "_model_module_version": "1.2.0",
            "_model_name": "LayoutModel",
            "_view_count": null,
            "_view_module": "@jupyter-widgets/base",
            "_view_module_version": "1.2.0",
            "_view_name": "LayoutView",
            "align_content": null,
            "align_items": null,
            "align_self": null,
            "border": null,
            "bottom": null,
            "display": null,
            "flex": null,
            "flex_flow": null,
            "grid_area": null,
            "grid_auto_columns": null,
            "grid_auto_flow": null,
            "grid_auto_rows": null,
            "grid_column": null,
            "grid_gap": null,
            "grid_row": null,
            "grid_template_areas": null,
            "grid_template_columns": null,
            "grid_template_rows": null,
            "height": null,
            "justify_content": null,
            "justify_items": null,
            "left": null,
            "margin": null,
            "max_height": null,
            "max_width": null,
            "min_height": null,
            "min_width": null,
            "object_fit": null,
            "object_position": null,
            "order": null,
            "overflow": null,
            "overflow_x": null,
            "overflow_y": null,
            "padding": null,
            "right": null,
            "top": null,
            "visibility": null,
            "width": null
          }
        },
        "82fda54e74314efaa75cbfcecf9793bd": {
          "model_module": "@jupyter-widgets/controls",
          "model_name": "ProgressStyleModel",
          "model_module_version": "1.5.0",
          "state": {
            "_model_module": "@jupyter-widgets/controls",
            "_model_module_version": "1.5.0",
            "_model_name": "ProgressStyleModel",
            "_view_count": null,
            "_view_module": "@jupyter-widgets/base",
            "_view_module_version": "1.2.0",
            "_view_name": "StyleView",
            "bar_color": null,
            "description_width": ""
          }
        },
        "27f4b21630224b3fb1d7dc3afc1da160": {
          "model_module": "@jupyter-widgets/base",
          "model_name": "LayoutModel",
          "model_module_version": "1.2.0",
          "state": {
            "_model_module": "@jupyter-widgets/base",
            "_model_module_version": "1.2.0",
            "_model_name": "LayoutModel",
            "_view_count": null,
            "_view_module": "@jupyter-widgets/base",
            "_view_module_version": "1.2.0",
            "_view_name": "LayoutView",
            "align_content": null,
            "align_items": null,
            "align_self": null,
            "border": null,
            "bottom": null,
            "display": null,
            "flex": null,
            "flex_flow": null,
            "grid_area": null,
            "grid_auto_columns": null,
            "grid_auto_flow": null,
            "grid_auto_rows": null,
            "grid_column": null,
            "grid_gap": null,
            "grid_row": null,
            "grid_template_areas": null,
            "grid_template_columns": null,
            "grid_template_rows": null,
            "height": null,
            "justify_content": null,
            "justify_items": null,
            "left": null,
            "margin": null,
            "max_height": null,
            "max_width": null,
            "min_height": null,
            "min_width": null,
            "object_fit": null,
            "object_position": null,
            "order": null,
            "overflow": null,
            "overflow_x": null,
            "overflow_y": null,
            "padding": null,
            "right": null,
            "top": null,
            "visibility": null,
            "width": null
          }
        },
        "e0d20faadf41471ab6bf598f95325600": {
          "model_module": "@jupyter-widgets/controls",
          "model_name": "DescriptionStyleModel",
          "model_module_version": "1.5.0",
          "state": {
            "_model_module": "@jupyter-widgets/controls",
            "_model_module_version": "1.5.0",
            "_model_name": "DescriptionStyleModel",
            "_view_count": null,
            "_view_module": "@jupyter-widgets/base",
            "_view_module_version": "1.2.0",
            "_view_name": "StyleView",
            "description_width": ""
          }
        }
      }
    },
    "accelerator": "GPU",
    "gpuClass": "standard"
  },
  "nbformat": 4,
  "nbformat_minor": 0
}